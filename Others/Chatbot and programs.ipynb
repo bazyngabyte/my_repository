{
 "cells": [
  {
   "cell_type": "code",
   "execution_count": null,
   "metadata": {},
   "outputs": [],
   "source": [
    "# PROGRAMS"
   ]
  },
  {
   "cell_type": "code",
   "execution_count": 1,
   "metadata": {},
   "outputs": [
    {
     "data": {
      "text/plain": [
       "2023"
      ]
     },
     "execution_count": 1,
     "metadata": {},
     "output_type": "execute_result"
    }
   ],
   "source": [
    "import datetime\n",
    "today=datetime.date.today()\n",
    "year=today.year\n",
    "year"
   ]
  },
  {
   "cell_type": "code",
   "execution_count": 32,
   "metadata": {},
   "outputs": [
    {
     "name": "stdout",
     "output_type": "stream",
     "text": [
      "Hello Jaime! welcome to our company!\n",
      "Thank you Jaime! your age is: 39 years old.\n",
      "Here are the motorcycles ready for you!:\n",
      "-> Interceptor 650\n",
      "-> Honda SH 125\n",
      "-> Kawazaki z900rs\n",
      "-> Vespa Primavera\n",
      "We are transfering you with one of our agents, please hold on....\n",
      "By the way did you know that your lucky number is:12\n"
     ]
    }
   ],
   "source": [
    "# Program 1\n",
    "\n",
    "# Chatbot for a bikes and motorcycles sales company\n",
    "\n",
    "today=datetime.date.today()\n",
    "year=today.year\n",
    "motorcycles=[\"Interceptor 650\",\"Honda SH 125\",\"Kawazaki z900rs\",\"Vespa Primavera\"]\n",
    "bikes=[\"BMX\",\"HUFFY\",\"TREK\"]\n",
    "current_year=year\n",
    "name=str(input(\"What's your name?\")).capitalize()\n",
    "name.capitalize()\n",
    "print(\"Hello {}! welcome to our company!\".format(name))\n",
    "birth_year=int(input(\"what's your birth year?\"))\n",
    "age=current_year-birth_year\n",
    "lucky_number=len(name*7)/3\n",
    "\n",
    "if age>=18:\n",
    "    print(\"Thank you {}! your age is: {} years old.\".format(name,age))\n",
    "    print(\"Here are the motorcycles ready for you!:\")\n",
    "    for moto in motorcycles:\n",
    "        print(\"->\",moto)\n",
    "    reply=str(input(\"{}, Would you like to get in contact with one of our agents? answer: yes/no\".format(name)))\n",
    "    if reply.lower()==\"yes\":\n",
    "        print(\"We are transfering you with one of our agents, please hold on....\")\n",
    "        print(\"By the way did you know that your lucky number is:{:.0f}\".format(lucky_number))\n",
    "    else:\n",
    "        print(\"Thank you! have a nice day!\")\n",
    "if age<18:\n",
    "    print(\"You are a minor\")\n",
    "    print(\"you can by bicycle instead, here are some that you might be interested in:\")\n",
    "    for index,bike in enumerate(bikes):\n",
    "        print(\"{} - {}\".format(index+1,bike))\n",
    "    print(\"Have a nice day!\")\n",
    "\n"
   ]
  },
  {
   "cell_type": "code",
   "execution_count": 2,
   "metadata": {},
   "outputs": [
    {
     "name": "stdout",
     "output_type": "stream",
     "text": [
      "Velocity =120.0\n",
      "   Meters traveled during reaction(1seg)->33.60 meters\n",
      "   Breaking Distance 144.0 meters\n",
      "   Emergency breaking distance 72.0 meters\n",
      "\n",
      "Reaction distance 177.6 meters\n",
      "Emergency reaction distance 106 meters\n"
     ]
    }
   ],
   "source": [
    "# Program 2\n",
    "\n",
    "# Calculate\n",
    "\n",
    "velocity=float(input(\"velocity km/h: \"))\n",
    "print(\"Velocity ={}\".format(velocity))\n",
    "time_reaction=(velocity/10)*2.8\n",
    "print(\"   Meters traveled during reaction(1seg)->{:.2f} meters\".format(time_reaction))\n",
    "breaking_distance=(velocity/10)*(velocity/10)\n",
    "breaking_distance_emergency=breaking_distance/2\n",
    "print(\"   Breaking Distance\",breaking_distance,\"meters\")\n",
    "print(\"   Emergency breaking distance\",breaking_distance_emergency,\"meters\")\n",
    "reaction_distance=time_reaction+breaking_distance\n",
    "breaking_retention_emerg=round(time_reaction+breaking_distance_emergency)\n",
    "print(\"\")\n",
    "print(\"Reaction distance\",reaction_distance,\"meters\")\n",
    "print(\"Emergency reaction distance\",breaking_retention_emerg,\"meters\")"
   ]
  },
  {
   "cell_type": "code",
   "execution_count": 46,
   "metadata": {},
   "outputs": [
    {
     "name": "stdout",
     "output_type": "stream",
     "text": [
      "Thank you Jaime! for providing us the data. the car/motorcycle can travel 189.0 km with the actual level of fuel.\n",
      "The fuel cost per each 100 km is €9.05\n"
     ]
    }
   ],
   "source": [
    "# Program 3\n",
    "\n",
    "# input data from costumer\n",
    "\n",
    "user_name=str(input(\"What's your name?\")).capitalize()\n",
    "fuel_available=float(input(\"Hello {}!, how many liters are left in the fuel tank\".format(user_name)))\n",
    "efficiency=float(input(\"How many kilometers do you travel per liter? \"))\n",
    "fuel_price=float(input(\"What the actual fuel price per liter?\"))\n",
    "\n",
    "# Calculation of the distance in kilometers that the car can travel with the liters of fuel available\n",
    "\n",
    "travelled_distance = fuel_available*efficiency\n",
    "\n",
    "# Fuel costs for a 100 km journey\n",
    "\n",
    "cost_100km = (100 / efficiency)*fuel_price \n",
    "\n",
    "# Shows the result to the user\n",
    "\n",
    "output1 = str(\"Thank you {}! for providing us the data. the car/motorcycle can travel {} km with the actual level of fuel.\")\n",
    "output2 = str(\"The fuel cost per each 100 km is €{:.2f}\")\n",
    "\n",
    "print(output1.format(user_name,travelled_distance))\n",
    "print(output2.format(cost_100km))\n",
    "\n"
   ]
  }
 ],
 "metadata": {
  "kernelspec": {
   "display_name": "Python 3",
   "language": "python",
   "name": "python3"
  },
  "language_info": {
   "codemirror_mode": {
    "name": "ipython",
    "version": 3
   },
   "file_extension": ".py",
   "mimetype": "text/x-python",
   "name": "python",
   "nbconvert_exporter": "python",
   "pygments_lexer": "ipython3",
   "version": "3.11.6"
  }
 },
 "nbformat": 4,
 "nbformat_minor": 2
}
