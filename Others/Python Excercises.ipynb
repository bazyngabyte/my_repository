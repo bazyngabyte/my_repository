{
 "cells": [
  {
   "cell_type": "code",
   "execution_count": null,
   "metadata": {},
   "outputs": [],
   "source": [
    "# My python excercises\n",
    "# Some of them are from GDAC(Google) course"
   ]
  },
  {
   "cell_type": "code",
   "execution_count": 4,
   "metadata": {},
   "outputs": [
    {
     "name": "stdout",
     "output_type": "stream",
     "text": [
      "In two years five months and 23 days are 903 days\n"
     ]
    }
   ],
   "source": [
    "# Function to calculate the number of days in a variable of\n",
    "# years,months and days.\n",
    "\n",
    "def find_total_days(years,months,days):\n",
    "    my_days=(years*365)+(months*30)+days\n",
    "    return my_days\n",
    "print(\"In two years five months and 23 days are\",find_total_days(2,5,23),\"days\")"
   ]
  },
  {
   "cell_type": "code",
   "execution_count": 7,
   "metadata": {},
   "outputs": [
    {
     "name": "stdout",
     "output_type": "stream",
     "text": [
      "The volume in milimiters is: 59.0\n",
      "The volume in milimiters is: 118.0\n"
     ]
    }
   ],
   "source": [
    "# Function to convert fluid ounces to milimiters\n",
    "\n",
    "def convert_volume(fluid_ounce):\n",
    "    ml=fluid_ounce*29.5\n",
    "    return ml\n",
    "print(\"The volume in milimiters is: \"+str(convert_volume(2)))\n",
    "print(\"The volume in milimiters is: \"+str(convert_volume(2)*2))"
   ]
  },
  {
   "cell_type": "code",
   "execution_count": 8,
   "metadata": {},
   "outputs": [
    {
     "name": "stdout",
     "output_type": "stream",
     "text": [
      "False\n",
      "False\n",
      "True\n"
     ]
    }
   ],
   "source": [
    "# Is the stated number a number positive? Let's find out!\n",
    "\n",
    "def is_positive(number):\n",
    "    if number>0:\n",
    "        return True\n",
    "    else:\n",
    "        return False\n",
    "print(is_positive(-5))\n",
    "print(is_positive(0))\n",
    "print(is_positive(13))"
   ]
  },
  {
   "cell_type": "code",
   "execution_count": 20,
   "metadata": {},
   "outputs": [
    {
     "name": "stdout",
     "output_type": "stream",
     "text": [
      "(1, 23, 20) In 5000 seconds there is 1 hour 23 minutes and 20 seconds\n"
     ]
    }
   ],
   "source": [
    "# Convert seconds\n",
    "\n",
    "def convert_seconds(seconds):\n",
    "    hours=seconds//3600\n",
    "    minutes=(seconds-hours*3600)//60\n",
    "    remaining_seconds=seconds-hours*3600-minutes*60\n",
    "    return(hours,minutes,remaining_seconds)\n",
    "print(convert_seconds(5000),\"In 5000 seconds there is 1 hour 23 minutes and 20 seconds\")"
   ]
  },
  {
   "cell_type": "code",
   "execution_count": 25,
   "metadata": {},
   "outputs": [
    {
     "name": "stdout",
     "output_type": "stream",
     "text": [
      "invalid username.Must be at least 6 characters long\n",
      "Invalid username.Must be at most 15 characters long\n",
      "Got it!, valid username\n"
     ]
    }
   ],
   "source": [
    "# Let's create a username\n",
    "\n",
    "def hint_username(username):\n",
    "    if len(username)<6:\n",
    "        print(\"invalid username.Must be at least 6 characters long\")\n",
    "    elif len(username)>15:\n",
    "        print(\"Invalid username.Must be at most 15 characters long\")\n",
    "    else:\n",
    "        print(\"Got it!, valid username\")\n",
    "\n",
    "hint_username(\"jaime\")\n",
    "hint_username(\"jaimeadiazc58968\")\n",
    "hint_username(\"jaimeadiazc\")\n",
    "        \n",
    "\n"
   ]
  },
  {
   "cell_type": "code",
   "execution_count": 29,
   "metadata": {},
   "outputs": [
    {
     "name": "stdout",
     "output_type": "stream",
     "text": [
      "Server received an unauthenticated request\n",
      "Requested website not found\n",
      "Server request to close unused connection\n",
      "Unknown error\n"
     ]
    }
   ],
   "source": [
    "# This function accepts one variable as a parameter:\n",
    "\n",
    "def translate_error_code(code):\n",
    "    if code==401:\n",
    "        translation=\"Server received an unauthenticated request\"\n",
    "    elif code==404:\n",
    "        translation=\"Requested website not found\"\n",
    "    elif code==408:\n",
    "        translation=\"Server request to close unused connection\"\n",
    "    else:\n",
    "        translation=\"Unknown error\"\n",
    "    return translation\n",
    "print(translate_error_code(401))\n",
    "print(translate_error_code(404))\n",
    "print(translate_error_code(408))\n",
    "print(translate_error_code(41000))"
   ]
  },
  {
   "cell_type": "code",
   "execution_count": 31,
   "metadata": {},
   "outputs": [
    {
     "name": "stdout",
     "output_type": "stream",
     "text": [
      "The number is: 15235\n"
     ]
    }
   ],
   "source": [
    "# Let me guess the number\n",
    "\n",
    "number=int(input())\n",
    "if number<=5:\n",
    "    print(\"The number is 5 or smaller\")\n",
    "elif number==33:\n",
    "    print(\"The number is 33\")\n",
    "elif number<32 and number>=6:\n",
    "    print(\"The number is less than 32 and greater than 6\")\n",
    "else:\n",
    "    print(\"The number is: {}\".format(number))\n",
    "    \n",
    "# Input 4 ->\"The number is 5 or smaller\"\n",
    "# Input 33-> \"The number is 33\"\n",
    "# Input 15 -> \"The number is less than 32 and greater than 6\"\n",
    "# Input 15235-> The number is 15235"
   ]
  },
  {
   "cell_type": "code",
   "execution_count": 32,
   "metadata": {},
   "outputs": [
    {
     "name": "stdout",
     "output_type": "stream",
     "text": [
      "4096\n",
      "4096\n",
      "8192\n",
      "12288\n"
     ]
    }
   ],
   "source": [
    "# If a filesystem has a block of 4096 bytes,this means that a file\n",
    "# comprised of only 1 byte will still use 4096 bytes of storage\n",
    "# a file made up of 4097 bytes will use 4096*2=8192 bytes of storage\n",
    "# Knowing this can you fill the gaps?\n",
    "\n",
    "def calculate_storage(filesize):\n",
    "    blocksize=4096\n",
    "    full_blocks=filesize//blocksize\n",
    "    partial_block_remainder=filesize%blocksize\n",
    "    if partial_block_remainder>0:\n",
    "        return (full_blocks+1)*blocksize\n",
    "    return full_blocks*blocksize\n",
    "\n",
    "print(calculate_storage(1))\n",
    "print(calculate_storage(4096))\n",
    "print(calculate_storage(4097))\n",
    "print(calculate_storage(10000))"
   ]
  },
  {
   "cell_type": "code",
   "execution_count": 35,
   "metadata": {},
   "outputs": [
    {
     "name": "stdout",
     "output_type": "stream",
     "text": [
      "Reckless driver! ticket EUR 2.174\n",
      "Ticket EUR 695\n",
      "safe!\n"
     ]
    }
   ],
   "source": [
    "# Speed radar tickets! km/h\n",
    "\n",
    "def speed_ticket(speed):\n",
    "    if speed>=140:\n",
    "        ticket=\"Reckless driver! ticket EUR 2.174\"\n",
    "    elif speed>130 and speed<140:\n",
    "        ticket=\"Ticket EUR 695\"\n",
    "    else:\n",
    "        ticket=\"safe!\"\n",
    "    return ticket\n",
    "\n",
    "print(speed_ticket(145))\n",
    "print(speed_ticket(135))\n",
    "print(speed_ticket(80))"
   ]
  },
  {
   "cell_type": "code",
   "execution_count": null,
   "metadata": {},
   "outputs": [],
   "source": [
    "# LOOPS"
   ]
  },
  {
   "cell_type": "code",
   "execution_count": 2,
   "metadata": {},
   "outputs": [
    {
     "name": "stdout",
     "output_type": "stream",
     "text": [
      "no there yet!,x=0\n",
      "no there yet!,x=1\n",
      "no there yet!,x=2\n",
      "no there yet!,x=3\n",
      "no there yet!,x=4\n",
      "x=5\n"
     ]
    }
   ],
   "source": [
    "x=0\n",
    "while x<5:\n",
    "    print(\"no there yet!,x=\"+str(x))\n",
    "    x+=1\n",
    "print(\"x=\"+str(x))"
   ]
  },
  {
   "cell_type": "code",
   "execution_count": 4,
   "metadata": {},
   "outputs": [
    {
     "name": "stdout",
     "output_type": "stream",
     "text": [
      "Attempt 1\n",
      "Attempt 2\n",
      "Attempt 3\n",
      "Attempt 4\n",
      "Attempt 5\n",
      "Done!\n"
     ]
    }
   ],
   "source": [
    "def attempts(n):\n",
    "    x=1\n",
    "    while x<=n:\n",
    "        print(\"Attempt \"+str(x))\n",
    "        x+=1\n",
    "    print(\"Done!\")\n",
    "attempts(5)"
   ]
  },
  {
   "cell_type": "code",
   "execution_count": 7,
   "metadata": {},
   "outputs": [
    {
     "name": "stdout",
     "output_type": "stream",
     "text": [
      "Hello!\n",
      "Hello!\n",
      "Hello!\n",
      "Hello!\n",
      "Hello!\n"
     ]
    }
   ],
   "source": [
    "my_variable=5\n",
    "while my_variable<10:\n",
    "    print(\"Hello!\")\n",
    "    my_variable+=1"
   ]
  },
  {
   "cell_type": "code",
   "execution_count": 9,
   "metadata": {},
   "outputs": [
    {
     "name": "stdout",
     "output_type": "stream",
     "text": [
      "9 1\n"
     ]
    }
   ],
   "source": [
    "x=1\n",
    "sum=0\n",
    "while x<10:\n",
    "    sum+=1\n",
    "    x+=1\n",
    "product=1\n",
    "while x<10:\n",
    "    product=product*x\n",
    "    x+=1\n",
    "print(sum,product)"
   ]
  },
  {
   "cell_type": "code",
   "execution_count": 15,
   "metadata": {},
   "outputs": [
    {
     "name": "stdout",
     "output_type": "stream",
     "text": [
      "5\n",
      "10\n",
      "15\n",
      "20\n",
      "25\n",
      "30\n",
      "35\n",
      "40\n",
      "45\n",
      "50\n",
      "Done!\n"
     ]
    }
   ],
   "source": [
    "multiplier=1\n",
    "result=multiplier*5\n",
    "while result<=50:\n",
    "    print(result)\n",
    "    multiplier+=1\n",
    "    result=multiplier*5\n",
    "print(\"Done!\")"
   ]
  },
  {
   "cell_type": "code",
   "execution_count": 25,
   "metadata": {},
   "outputs": [
    {
     "name": "stdout",
     "output_type": "stream",
     "text": [
      "Addition table of 5\n",
      "5 + 1 = 6\n",
      "5 + 2 = 7\n",
      "5 + 3 = 8\n",
      "5 + 4 = 9\n",
      "5 + 5 = 10\n",
      "Addition table of 17\n",
      "17 + 1 = 18\n",
      "17 + 2 = 19\n",
      "17 + 3 = 20\n"
     ]
    }
   ],
   "source": [
    "# Additional table\n",
    "def addition_table(given_number):\n",
    "    iterated_number=1\n",
    "    my_sum=1\n",
    "    while iterated_number<=5:\n",
    "        my_sum=given_number+iterated_number\n",
    "        if my_sum>20:\n",
    "            break\n",
    "            \n",
    "        print(str(given_number),\"+\",str(iterated_number),\"=\",str(my_sum))\n",
    "        iterated_number+=1\n",
    "print(\"Addition table of 5\")\n",
    "addition_table(5)\n",
    "print(\"Addition table of 17\")\n",
    "addition_table(17)\n"
   ]
  },
  {
   "cell_type": "code",
   "execution_count": 28,
   "metadata": {},
   "outputs": [
    {
     "name": "stdout",
     "output_type": "stream",
     "text": [
      "2 X 1= 2\n",
      "2 X 2= 4\n",
      "2 X 3= 6\n",
      "2 X 4= 8\n",
      "2 X 5= 10\n"
     ]
    }
   ],
   "source": [
    "# Multiplication table\n",
    "def multiplication_table(number):\n",
    "    multiplier=1\n",
    "    while multiplier<=5:\n",
    "        result=number*multiplier\n",
    "        if result>=26:\n",
    "            break\n",
    "        print(str(number),\"X\",str(multiplier)+\"=\",str(result))\n",
    "        multiplier+=1\n",
    "multiplication_table(2)"
   ]
  },
  {
   "cell_type": "code",
   "execution_count": 30,
   "metadata": {},
   "outputs": [
    {
     "name": "stdout",
     "output_type": "stream",
     "text": [
      "0\n",
      "1\n",
      "2\n",
      "3\n",
      "4\n"
     ]
    }
   ],
   "source": [
    "# For Loops\n",
    "for x in range(5):\n",
    "    print(x)"
   ]
  },
  {
   "cell_type": "code",
   "execution_count": 32,
   "metadata": {},
   "outputs": [
    {
     "name": "stdout",
     "output_type": "stream",
     "text": [
      "Hola!\n",
      "Hola!\n",
      "Hola!\n"
     ]
    }
   ],
   "source": [
    "for x in range(3):\n",
    "    print(\"Hola!\")"
   ]
  },
  {
   "cell_type": "code",
   "execution_count": 68,
   "metadata": {},
   "outputs": [
    {
     "name": "stdout",
     "output_type": "stream",
     "text": [
      "Hi! James\n",
      "Hi! David\n",
      "Hi! Michael\n",
      "Hi! Ellie\n"
     ]
    }
   ],
   "source": [
    "friends=[\"James\",\"David\",\"Michael\",\"Ellie\"]\n",
    "for friend in friends:\n",
    "    print(\"Hi! \"+friend)"
   ]
  },
  {
   "cell_type": "code",
   "execution_count": 36,
   "metadata": {},
   "outputs": [
    {
     "name": "stdout",
     "output_type": "stream",
     "text": [
      "My friends are:\n",
      "1 James\n",
      "2 David\n",
      "3 Michael\n",
      "4 Ellie\n"
     ]
    }
   ],
   "source": [
    "print(\"My friends are:\")\n",
    "friends=[\"James\",\"David\",\"Michael\",\"Ellie\"]\n",
    "for index,friend in enumerate(friends):\n",
    "    print(index+1,friend)"
   ]
  },
  {
   "cell_type": "code",
   "execution_count": 38,
   "metadata": {},
   "outputs": [
    {
     "name": "stdout",
     "output_type": "stream",
     "text": [
      "Total sum: 219 -Average: 43.8\n"
     ]
    }
   ],
   "source": [
    "values=[23,52,59,37,48]\n",
    "sum=0\n",
    "length=0\n",
    "for value in values:\n",
    "    sum+=value\n",
    "    length+=1\n",
    "print(\"Total sum: \"+str(sum)+\" -Average: \"+str(sum/length))"
   ]
  },
  {
   "cell_type": "code",
   "execution_count": 47,
   "metadata": {},
   "outputs": [
    {
     "name": "stdout",
     "output_type": "stream",
     "text": [
      "  0F|-17.78C\n",
      " 10F|-12.22C\n",
      " 20F| -6.67C\n",
      " 30F| -1.11C\n",
      " 40F|  4.44C\n",
      " 50F| 10.00C\n",
      " 60F| 15.56C\n",
      " 70F| 21.11C\n",
      " 80F| 26.67C\n",
      " 90F| 32.22C\n",
      "100F| 37.78C\n"
     ]
    }
   ],
   "source": [
    "# Convert temperature from Fahrenheit to Celsius\n",
    "def to_celsius(x):\n",
    "    return(x-32)*5/9\n",
    "for x in range(0,101,10):\n",
    "    print(\"{:>3}F|{:6.2f}C\".format(x,to_celsius(x)))"
   ]
  },
  {
   "cell_type": "code",
   "execution_count": 48,
   "metadata": {},
   "outputs": [
    {
     "name": "stdout",
     "output_type": "stream",
     "text": [
      "2\n",
      "4\n",
      "6\n",
      "8\n",
      "10\n"
     ]
    }
   ],
   "source": [
    "for n in range(2,11,2):\n",
    "    print(n)"
   ]
  },
  {
   "cell_type": "code",
   "execution_count": 49,
   "metadata": {},
   "outputs": [
    {
     "name": "stdout",
     "output_type": "stream",
     "text": [
      "6\n",
      "9\n",
      "12\n",
      "15\n",
      "18\n",
      "21\n"
     ]
    }
   ],
   "source": [
    "for number in range(2,7+1):\n",
    "    print(number*3)"
   ]
  },
  {
   "cell_type": "code",
   "execution_count": 50,
   "metadata": {},
   "outputs": [
    {
     "name": "stdout",
     "output_type": "stream",
     "text": [
      "2\n",
      "1\n",
      "0\n",
      "-1\n"
     ]
    }
   ],
   "source": [
    "for x in range(2,-2,-1):\n",
    "    print(x)"
   ]
  },
  {
   "cell_type": "code",
   "execution_count": null,
   "metadata": {},
   "outputs": [],
   "source": [
    "# NESTED FOR LOOPS"
   ]
  },
  {
   "cell_type": "code",
   "execution_count": 74,
   "metadata": {},
   "outputs": [
    {
     "name": "stdout",
     "output_type": "stream",
     "text": [
      "This is the outer loop iteration number 0\n",
      "Inner loop iteration number 0\n",
      "Inner loop iteration number 1\n",
      "Inner loop iteration number 2\n",
      "Inner loop iteration number 3\n",
      "Exit inner loop\n",
      "This is the outer loop iteration number 1\n",
      "Inner loop iteration number 0\n",
      "Inner loop iteration number 1\n",
      "Inner loop iteration number 2\n",
      "Inner loop iteration number 3\n",
      "Exit inner loop\n"
     ]
    }
   ],
   "source": [
    "for x in range(2):\n",
    "    print(\"This is the outer loop iteration number \"+str(x))\n",
    "    for y in range(3+1):\n",
    "        print(\"Inner loop iteration number \"+str(y))\n",
    "    print(\"Exit inner loop\")"
   ]
  },
  {
   "cell_type": "code",
   "execution_count": 1,
   "metadata": {},
   "outputs": [
    {
     "name": "stdout",
     "output_type": "stream",
     "text": [
      "Dominoes!\n",
      "\n",
      "[0|0] [0|1] [0|2] [0|3] [0|4] [0|5] [0|6] \n",
      "[1|1] [1|2] [1|3] [1|4] [1|5] [1|6] \n",
      "[2|2] [2|3] [2|4] [2|5] [2|6] \n",
      "[3|3] [3|4] [3|5] [3|6] \n",
      "[4|4] [4|5] [4|6] \n",
      "[5|5] [5|6] \n",
      "[6|6] \n"
     ]
    }
   ],
   "source": [
    "# Dominoes\n",
    "print(\"Dominoes!\\n\")\n",
    "for x in range(7):\n",
    "    for y in range(x,7):\n",
    "        print(f\"[{x}|{y}]\",end=\" \")\n",
    "    print()"
   ]
  },
  {
   "cell_type": "code",
   "execution_count": 7,
   "metadata": {},
   "outputs": [
    {
     "name": "stdout",
     "output_type": "stream",
     "text": [
      "*  \n",
      "*  *  \n",
      "*  *  *  \n",
      "*  *  *  *  \n",
      "*  *  *  *  *  \n",
      "*  *  *  *  *  *  \n",
      "*  *  *  *  *  *  *  \n",
      "*  *  *  *  *  *  *  *  \n",
      "*  *  *  *  *  *  *  *  *  \n",
      "*  *  *  *  *  *  *  *  *  *  \n"
     ]
    }
   ],
   "source": [
    "for x in range(10):\n",
    "    for y in range(x+1):\n",
    "        print(\"* \",end=\" \")\n",
    "    print()"
   ]
  },
  {
   "cell_type": "code",
   "execution_count": 77,
   "metadata": {},
   "outputs": [
    {
     "name": "stdout",
     "output_type": "stream",
     "text": [
      "Let's get ready to rumble!\n",
      "\n",
      "Milan VS Juventus\n",
      "Milan VS AS Roma\n",
      "Milan VS Napoli\n",
      "Juventus VS Milan\n",
      "Juventus VS AS Roma\n",
      "Juventus VS Napoli\n",
      "AS Roma VS Milan\n",
      "AS Roma VS Juventus\n",
      "AS Roma VS Napoli\n",
      "Napoli VS Milan\n",
      "Napoli VS Juventus\n",
      "Napoli VS AS Roma\n"
     ]
    }
   ],
   "source": [
    "print(\"Let's get ready to rumble!\\n\")\n",
    "teams=[\"Milan\",\"Juventus\",\"AS Roma\",\"Napoli\"]\n",
    "for home_team in teams:\n",
    "    for away_team in teams:\n",
    "        if home_team!=away_team:\n",
    "            print(home_team,\"VS\",away_team)"
   ]
  },
  {
   "cell_type": "code",
   "execution_count": 71,
   "metadata": {},
   "outputs": [
    {
     "name": "stdout",
     "output_type": "stream",
     "text": [
      "Hi James!\n",
      "Hi David!\n",
      "Hi Michael!\n",
      "Hi Ellie!\n"
     ]
    }
   ],
   "source": [
    "def greet_friends(friends):\n",
    "    for friend in friends:\n",
    "        print(\"Hi \"+friend+\"!\")\n",
    "greet_friends([\"James\",\"David\",\"Michael\",\"Ellie\"])"
   ]
  },
  {
   "cell_type": "code",
   "execution_count": null,
   "metadata": {},
   "outputs": [],
   "source": [
    "# Strings, Lists and dictionaries"
   ]
  },
  {
   "cell_type": "code",
   "execution_count": null,
   "metadata": {},
   "outputs": [],
   "source": [
    "# Strings\n",
    "# String are immutable"
   ]
  },
  {
   "cell_type": "code",
   "execution_count": 53,
   "metadata": {},
   "outputs": [
    {
     "name": "stdout",
     "output_type": "stream",
     "text": [
      "<class 'str'>\n",
      "Wheres is k? 2\n",
      "A long string with a silly typo\n"
     ]
    }
   ],
   "source": [
    "message=\"A kong string with a silly typo\"\n",
    "print(type(message))\n",
    "print(\"Wheres is k?\",message.index(\"k\"))\n",
    "new_message=message[0:2]+\"l\"+message[3:]\n",
    "print(new_message)"
   ]
  },
  {
   "cell_type": "code",
   "execution_count": 8,
   "metadata": {},
   "outputs": [
    {
     "data": {
      "text/plain": [
       "'emma@newcompany.com'"
      ]
     },
     "execution_count": 8,
     "metadata": {},
     "output_type": "execute_result"
    }
   ],
   "source": [
    "# A Functions to replace email domains\n",
    "\n",
    "def replace_domain(email,old_domain,new_domain):\n",
    "    if \"@\" +old_domain in email:\n",
    "        index=email.index(\"@\"+old_domain)\n",
    "        new_email=email[:index]+\"@\"+new_domain\n",
    "        return new_email\n",
    "    return email\n",
    "replace_domain(\"emma@oldcompany.com\",\"oldcompany.com\",\"newcompany.com\")"
   ]
  },
  {
   "cell_type": "code",
   "execution_count": 27,
   "metadata": {},
   "outputs": [
    {
     "name": "stdout",
     "output_type": "stream",
     "text": [
      "Hello! Manny, your lucky number is 15\n"
     ]
    }
   ],
   "source": [
    "name=\"Manny\"\n",
    "number=len(name)*3\n",
    "print(\"Hello! {}, your lucky number is {}\".format(name,number))"
   ]
  },
  {
   "cell_type": "code",
   "execution_count": 28,
   "metadata": {},
   "outputs": [
    {
     "name": "stdout",
     "output_type": "stream",
     "text": [
      "7.5 8.175\n",
      "\n",
      "Base price:$7.50. With Tax:$8.18\n"
     ]
    }
   ],
   "source": [
    "price=7.5\n",
    "with_tax=price*1.09\n",
    "print(price,with_tax)\n",
    "print()\n",
    "print(\"Base price:${:.2f}. With Tax:${:.2f}\".format(price,with_tax))\n"
   ]
  },
  {
   "cell_type": "code",
   "execution_count": 31,
   "metadata": {},
   "outputs": [
    {
     "name": "stdout",
     "output_type": "stream",
     "text": [
      "12 ounces equals 0.75 pounds\n",
      "50.5 ounces equals 3.16 pounds\n",
      "16 ounces equals 1.00 pounds\n"
     ]
    }
   ],
   "source": [
    "# Function to convert measurement equivalents\n",
    "\n",
    "def convert_weight(ounces):\n",
    "    pounds=ounces/16\n",
    "    result=\"{} ounces equals {:.2f} pounds\".format(ounces,pounds)\n",
    "    return result\n",
    "print(convert_weight(12))\n",
    "print(convert_weight(50.5))\n",
    "print(convert_weight(16))"
   ]
  },
  {
   "cell_type": "code",
   "execution_count": 37,
   "metadata": {},
   "outputs": [
    {
     "name": "stdout",
     "output_type": "stream",
     "text": [
      "iva3970\n",
      "rod4000\n",
      "den3982\n"
     ]
    }
   ],
   "source": [
    "# Function to generate a user name\n",
    "\n",
    "def username(last_name,birth_year):\n",
    "    return(\"{}{}\".format(last_name[0:3].lower(),birth_year*2))\n",
    "print(username(\"Ivanov\",1985))\n",
    "print(username(\"Rodriguez\",2000))\n",
    "print(username(\"Deng\",1991))"
   ]
  },
  {
   "cell_type": "code",
   "execution_count": 41,
   "metadata": {},
   "outputs": [
    {
     "name": "stdout",
     "output_type": "stream",
     "text": [
      "Is palindrome\n",
      "None\n",
      "Is palindrome\n",
      "None\n",
      "Is not\n",
      "None\n"
     ]
    }
   ],
   "source": [
    "# Is palindrome?\n",
    "\n",
    "def is_palindrome(input_string):\n",
    "    new_string=\"\"\n",
    "    reverse_string=\"\"\n",
    "    for letter in input_string:\n",
    "        if letter!=\" \":\n",
    "            new_string+=letter\n",
    "            reverse_string=letter+reverse_string\n",
    "    if new_string.lower()==reverse_string.lower():\n",
    "        print(\"Is palindrome\")\n",
    "    else:\n",
    "        print(\"Is not\")\n",
    "print(is_palindrome(\"Kayak\"))\n",
    "print(is_palindrome(\"Otto\"))\n",
    "print(is_palindrome(\"Home\"))"
   ]
  },
  {
   "cell_type": "code",
   "execution_count": 3,
   "metadata": {},
   "outputs": [
    {
     "name": "stdout",
     "output_type": "stream",
     "text": [
      "12 miles equals 19.2 Km\n",
      "5.5 miles equals 8.8 Km\n",
      "11 miles equals 17.6 Km\n"
     ]
    }
   ],
   "source": [
    "# Function to convert distance miles to km\n",
    "\n",
    "def convert_distance(miles):\n",
    "    km=miles*1.6\n",
    "    result=\"{} miles equals {:.1f} Km\".format(miles,km)\n",
    "    return result\n",
    "print(convert_distance(12))\n",
    "print(convert_distance(5.5))\n",
    "print(convert_distance(11))"
   ]
  },
  {
   "cell_type": "code",
   "execution_count": 16,
   "metadata": {},
   "outputs": [
    {
     "data": {
      "text/plain": [
       "True"
      ]
     },
     "execution_count": 16,
     "metadata": {},
     "output_type": "execute_result"
    }
   ],
   "source": [
    "# Iterating over lists and tuples\n",
    "# Are mutable"
   ]
  },
  {
   "cell_type": "code",
   "execution_count": 4,
   "metadata": {},
   "outputs": [
    {
     "name": "stdout",
     "output_type": "stream",
     "text": [
      "Total characters: 22,average lenght:5.5\n"
     ]
    }
   ],
   "source": [
    "animals=[\"Lion\",\"Zebra\",\"Dolphin\",\"Monkey\"]\n",
    "chars=0\n",
    "for animal in animals:\n",
    "    chars+=len(animal)\n",
    "print(\"Total characters: {},average lenght:{}\".format(chars,chars/len(animals)))"
   ]
  },
  {
   "cell_type": "code",
   "execution_count": 5,
   "metadata": {},
   "outputs": [
    {
     "name": "stdout",
     "output_type": "stream",
     "text": [
      "1-Ashley\n",
      "2-Dylan\n",
      "3-Reese\n"
     ]
    }
   ],
   "source": [
    "winners=[\"Ashley\",\"Dylan\",\"Reese\"]\n",
    "for index, person in enumerate(winners):\n",
    "    print(\"{}-{}\".format(index+1,person))"
   ]
  },
  {
   "cell_type": "code",
   "execution_count": 6,
   "metadata": {},
   "outputs": [
    {
     "data": {
      "text/plain": [
       "['Alex Diego<alex@example.com>', 'Shay Brandt<Shay@example.com>']"
      ]
     },
     "execution_count": 6,
     "metadata": {},
     "output_type": "execute_result"
    }
   ],
   "source": [
    "def full_emails(people):\n",
    "    result=[]\n",
    "    for email,name in people:\n",
    "        result.append(\"{}<{}>\".format(name,email))\n",
    "    return result\n",
    "full_emails([(\"alex@example.com\",\"Alex Diego\"),(\"Shay@example.com\",\"Shay Brandt\")])"
   ]
  },
  {
   "cell_type": "code",
   "execution_count": 7,
   "metadata": {},
   "outputs": [
    {
     "name": "stdout",
     "output_type": "stream",
     "text": [
      "[6, 4, 4, 2, 4, 1]\n"
     ]
    }
   ],
   "source": [
    "languages=[\"Python\",\"Perl\",\"Ruby\",\"Go\",\"Java\",\"C\"]\n",
    "lengths=[len(language)for language in languages]\n",
    "print(lengths)"
   ]
  },
  {
   "cell_type": "code",
   "execution_count": 8,
   "metadata": {},
   "outputs": [
    {
     "name": "stdout",
     "output_type": "stream",
     "text": [
      "['January 2024']\n",
      "['January 2024', 'May 2025']\n",
      "['January 2024', 'May 2025', 'April 2024']\n",
      "['January 2024', 'May 2025', 'April 2024', 'August 2024']\n",
      "['January 2024', 'May 2025', 'April 2024', 'August 2024', 'September 2025']\n"
     ]
    }
   ],
   "source": [
    "years=[\"January 2023\",\"May 2025\",\"April 2023\",\"August 2024\",\"September 2025\"]\n",
    "updated_years=[]\n",
    "for year in years:\n",
    "    if year.endswith(\"2023\"):\n",
    "        new=year.replace(\"2023\",\"2024\")\n",
    "        updated_years.append(new)\n",
    "    else:\n",
    "        updated_years.append(year)\n",
    "    print(updated_years)"
   ]
  },
  {
   "cell_type": "code",
   "execution_count": 10,
   "metadata": {},
   "outputs": [
    {
     "name": "stdout",
     "output_type": "stream",
     "text": [
      "Marketing: Mike,Karen,Jake,Tasha\n",
      "Engineering: kim,Jay,Tom\n",
      "Users: \n"
     ]
    }
   ],
   "source": [
    "def group_list(group,users):\n",
    "    members=\",\".join(users)\n",
    "    return(\"{}: {}\".format(group,members))\n",
    "print(group_list(\"Marketing\",[\"Mike\",\"Karen\",\"Jake\",\"Tasha\"]))\n",
    "print(group_list(\"Engineering\",[\"kim\",\"Jay\",\"Tom\"]))\n",
    "print(group_list(\"Users\",\"\"))"
   ]
  },
  {
   "cell_type": "code",
   "execution_count": 12,
   "metadata": {},
   "outputs": [
    {
     "name": "stdout",
     "output_type": "stream",
     "text": [
      "Ken is 30 years old and works as Chef\n",
      "Pat is 35 years old and works as Lawyer\n",
      "Amanda is 25 years old and works as Engineer\n"
     ]
    }
   ],
   "source": [
    "def guest_list(guests):\n",
    "    for guest in guests:\n",
    "        name,age,job=guest\n",
    "        print(\"{} is {} years old and works as {}\".format(name,age,job))\n",
    "guest_list([(\"Ken\",30,\"Chef\"),(\"Pat\",35,\"Lawyer\"),(\"Amanda\",25,\"Engineer\")])"
   ]
  },
  {
   "cell_type": "code",
   "execution_count": null,
   "metadata": {},
   "outputs": [],
   "source": [
    "# Dictionaries"
   ]
  },
  {
   "cell_type": "code",
   "execution_count": 15,
   "metadata": {},
   "outputs": [
    {
     "name": "stdout",
     "output_type": "stream",
     "text": [
      "jpg\n",
      "txt\n",
      "csv\n",
      "py\n"
     ]
    }
   ],
   "source": [
    "file_counts={\"jpg\":10,\"txt\":14,\"csv\":2,\"py\":23}\n",
    "for extension in file_counts:\n",
    "    print(extension)"
   ]
  },
  {
   "cell_type": "code",
   "execution_count": 16,
   "metadata": {},
   "outputs": [
    {
     "name": "stdout",
     "output_type": "stream",
     "text": [
      "There are 10 files with the .jpg extension\n",
      "There are 14 files with the .txt extension\n",
      "There are 2 files with the .csv extension\n",
      "There are 23 files with the .py extension\n"
     ]
    }
   ],
   "source": [
    "for extension,amount in file_counts.items():\n",
    "    print(\"There are {} files with the .{} extension\".format(amount,extension))"
   ]
  },
  {
   "cell_type": "code",
   "execution_count": 17,
   "metadata": {},
   "outputs": [
    {
     "data": {
      "text/plain": [
       "dict_keys(['jpg', 'txt', 'csv', 'py'])"
      ]
     },
     "execution_count": 17,
     "metadata": {},
     "output_type": "execute_result"
    }
   ],
   "source": [
    "file_counts.keys()"
   ]
  },
  {
   "cell_type": "code",
   "execution_count": 18,
   "metadata": {},
   "outputs": [
    {
     "data": {
      "text/plain": [
       "dict_values([10, 14, 2, 23])"
      ]
     },
     "execution_count": 18,
     "metadata": {},
     "output_type": "execute_result"
    }
   ],
   "source": [
    "file_counts.values()"
   ]
  },
  {
   "cell_type": "code",
   "execution_count": 20,
   "metadata": {},
   "outputs": [
    {
     "name": "stdout",
     "output_type": "stream",
     "text": [
      "10\n",
      "14\n",
      "2\n",
      "23\n"
     ]
    }
   ],
   "source": [
    "for value in file_counts.values():\n",
    "    print(value)"
   ]
  },
  {
   "cell_type": "code",
   "execution_count": 23,
   "metadata": {},
   "outputs": [
    {
     "name": "stdout",
     "output_type": "stream",
     "text": [
      "{'J': 1, 'a': 1, 'm': 1, 'e': 1, 's': 1}\n",
      "{'T': 1, 'e': 1, 'n': 2, 'a': 1, 't': 1}\n",
      "{'A': 1, ' ': 7, 'l': 3, 'o': 3, 'n': 2, 'g': 2, 's': 2, 't': 5, 'r': 2, 'i': 2, 'w': 1, 'h': 1, 'a': 1, 'f': 1, 'e': 2}\n",
      "{}\n"
     ]
    }
   ],
   "source": [
    "def count_letters(text):\n",
    "    result={}\n",
    "    for letter in text:\n",
    "        if letter not in result:\n",
    "            result[letter]=0\n",
    "        result[letter]+=1\n",
    "    return(result)\n",
    "print(count_letters(\"James\"))\n",
    "print(count_letters(\"Tenant\"))\n",
    "print(count_letters(\"A long string with a lot of letters\"))\n",
    "print(count_letters(\"\"))"
   ]
  },
  {
   "cell_type": "code",
   "execution_count": null,
   "metadata": {},
   "outputs": [],
   "source": [
    "# Dictionary vs List"
   ]
  },
  {
   "cell_type": "code",
   "execution_count": 24,
   "metadata": {},
   "outputs": [
    {
     "data": {
      "text/plain": [
       "['Yorkie', 'Collie', 'Bulldog']"
      ]
     },
     "execution_count": 24,
     "metadata": {},
     "output_type": "execute_result"
    }
   ],
   "source": [
    "#List\n",
    "\n",
    "pet_list=[\"Yorkie\",\"Collie\",\"Bulldog\",\"Persian\",\"Scottish Fold\",\"Siberian\"]\n",
    "pet_list[0:3]"
   ]
  },
  {
   "cell_type": "code",
   "execution_count": 27,
   "metadata": {},
   "outputs": [
    {
     "data": {
      "text/plain": [
       "['Yorkie', 'Collie', 'Bulldog', 'Persian', 'Scottish Fold', 'Siberian']"
      ]
     },
     "execution_count": 27,
     "metadata": {},
     "output_type": "execute_result"
    }
   ],
   "source": [
    "# Dictionary\n",
    "\n",
    "pet_dictionary={\"Dogs\":[\"Yorkie\",\"Collie\",\"Bulldog\",\"Persian\",\"Scottish Fold\",\"Siberian\"],\"Cats\":[\"Persian\",\"Bengalee\",\"Ragdoll\"]}\n",
    "pet_dictionary.get(\"Dogs\",0)"
   ]
  },
  {
   "cell_type": "code",
   "execution_count": 30,
   "metadata": {},
   "outputs": [
    {
     "data": {
      "text/plain": [
       "'Winter fleece jacekts are on sale for $49.99'"
      ]
     },
     "execution_count": 30,
     "metadata": {},
     "output_type": "execute_result"
    }
   ],
   "source": [
    "def sales_price(item_and_price):\n",
    "    item=\"\"\n",
    "    price=\"\"\n",
    "    item_or_price=item_and_price.split()\n",
    "    for x in item_or_price:\n",
    "        if x.isalpha():\n",
    "            item+=x+\" \"\n",
    "        else:\n",
    "            price=x\n",
    "    item=item.strip()\n",
    "    return\"{} are on sale for ${}\".format(item,price)\n",
    "sales_price(\"Winter fleece jacekts 49.99\")"
   ]
  },
  {
   "cell_type": "code",
   "execution_count": 31,
   "metadata": {},
   "outputs": [
    {
     "data": {
      "text/plain": [
       "['Winter', 'fleece', 'jacekts', 'are', 'on', 'sale', 'for', '$49.99']"
      ]
     },
     "execution_count": 31,
     "metadata": {},
     "output_type": "execute_result"
    }
   ],
   "source": [
    "\"Winter fleece jacekts are on sale for $49.99\".split()"
   ]
  },
  {
   "cell_type": "code",
   "execution_count": 15,
   "metadata": {},
   "outputs": [],
   "source": [
    "# While"
   ]
  },
  {
   "cell_type": "code",
   "execution_count": 16,
   "metadata": {},
   "outputs": [
    {
     "name": "stdout",
     "output_type": "stream",
     "text": [
      "The sum of the first 5 numbers are: 15\n"
     ]
    }
   ],
   "source": [
    "num=1\n",
    "sum=0\n",
    "while num <=5:\n",
    "    sum+=num\n",
    "    num+=1\n",
    "print(\"The sum of the first 5 numbers are:\",sum)"
   ]
  },
  {
   "cell_type": "code",
   "execution_count": 21,
   "metadata": {},
   "outputs": [
    {
     "name": "stdout",
     "output_type": "stream",
     "text": [
      "The sum are: 60\n"
     ]
    }
   ],
   "source": [
    "sum=0\n",
    "while 0<=sum<=50:\n",
    "    num=input(\"Insert number\")\n",
    "    num=int(num)\n",
    "    sum+=num\n",
    "print(\"The sum are:\",sum)"
   ]
  },
  {
   "cell_type": "code",
   "execution_count": null,
   "metadata": {},
   "outputs": [],
   "source": [
    "# For"
   ]
  },
  {
   "cell_type": "code",
   "execution_count": 24,
   "metadata": {},
   "outputs": [
    {
     "name": "stdout",
     "output_type": "stream",
     "text": [
      "- 10\n",
      "- 20\n",
      "- 30\n",
      "- 40\n",
      "- 50\n"
     ]
    }
   ],
   "source": [
    "price_list=[10,20,30,40,50]\n",
    "index=0\n",
    "while index<len(price_list):\n",
    "    price=price_list[index]\n",
    "    print(\"-\",price)\n",
    "    index+=1"
   ]
  },
  {
   "cell_type": "code",
   "execution_count": 26,
   "metadata": {},
   "outputs": [
    {
     "name": "stdout",
     "output_type": "stream",
     "text": [
      "- 10\n",
      "- 20\n",
      "- 30\n",
      "- 40\n",
      "- 50\n"
     ]
    }
   ],
   "source": [
    "price_list=[10,20,30,40,50]\n",
    "for price in price_list:\n",
    "    print(\"-\",price)"
   ]
  },
  {
   "cell_type": "code",
   "execution_count": 28,
   "metadata": {},
   "outputs": [
    {
     "name": "stdout",
     "output_type": "stream",
     "text": [
      "2\n",
      "8\n",
      "12\n",
      "14\n",
      "4\n",
      "16\n"
     ]
    }
   ],
   "source": [
    "together=1,4,6,7,2,8 #Tuple\n",
    "for number in together:\n",
    "    print(number*2)"
   ]
  },
  {
   "cell_type": "code",
   "execution_count": 29,
   "metadata": {},
   "outputs": [
    {
     "name": "stdout",
     "output_type": "stream",
     "text": [
      "110\n",
      "210\n",
      "310\n",
      "410\n"
     ]
    }
   ],
   "source": [
    "salaries=[100,200,300,400]\n",
    "for salary in salaries:\n",
    "    print(salary+10) "
   ]
  },
  {
   "cell_type": "code",
   "execution_count": 31,
   "metadata": {},
   "outputs": [
    {
     "name": "stdout",
     "output_type": "stream",
     "text": [
      "P!\n",
      "y!\n",
      "t!\n",
      "h!\n",
      "o!\n",
      "n!\n"
     ]
    }
   ],
   "source": [
    "word=\"Python\"\n",
    "for letter in word:\n",
    "    print(letter+\"!\")"
   ]
  },
  {
   "cell_type": "code",
   "execution_count": 36,
   "metadata": {},
   "outputs": [
    {
     "name": "stdout",
     "output_type": "stream",
     "text": [
      "Total invoiced:$ 13200\n"
     ]
    }
   ],
   "source": [
    "invoiced=[1400,2700,1900,3000,4200]\n",
    "total=0\n",
    "for invoice in invoiced:\n",
    "    total+=invoice\n",
    "print(\"Total invoiced:$\",total)"
   ]
  },
  {
   "cell_type": "code",
   "execution_count": 41,
   "metadata": {},
   "outputs": [
    {
     "name": "stdout",
     "output_type": "stream",
     "text": [
      "Original price: 20\n",
      "Discount price: 16.0\n",
      "\n",
      "\n",
      "Original price: 40\n",
      "Discount price: 32.0\n",
      "\n",
      "\n",
      "Original price: 50\n",
      "Discount price: 40.0\n",
      "\n",
      "\n",
      "Original price: 60\n",
      "Discount price: 48.0\n",
      "\n",
      "\n",
      "Original price: 190\n",
      "Discount price: 152.0\n",
      "\n",
      "\n",
      "Original price: 30\n",
      "Discount price: 24.0\n",
      "\n",
      "\n",
      "End.\n"
     ]
    }
   ],
   "source": [
    "prices=[20,40,50,60,190,30]\n",
    "discount_price=[]\n",
    "for price in prices:\n",
    "    print(\"Original price:\",price)\n",
    "    discount_price.append(price*0.8)\n",
    "    print(\"Discount price:\",price*0.8)\n",
    "    print(\"\\n\")\n",
    "print(\"End.\")"
   ]
  },
  {
   "cell_type": "code",
   "execution_count": 47,
   "metadata": {},
   "outputs": [
    {
     "name": "stdout",
     "output_type": "stream",
     "text": [
      "Enciclopedia\n",
      "Atlante\n",
      "Dictionary\n"
     ]
    }
   ],
   "source": [
    "books=[\"Enciclopedia\",\"Atlante\",\"Dictionary\"]\n",
    "for book in books:\n",
    "    print(book)"
   ]
  },
  {
   "cell_type": "code",
   "execution_count": 48,
   "metadata": {},
   "outputs": [
    {
     "name": "stdout",
     "output_type": "stream",
     "text": [
      "1 Enciclopedia\n",
      "2 Atlante\n",
      "3 Dictionary\n"
     ]
    }
   ],
   "source": [
    "for index,book in enumerate(books):\n",
    "    print(index+1,book)"
   ]
  },
  {
   "cell_type": "code",
   "execution_count": 50,
   "metadata": {},
   "outputs": [
    {
     "name": "stdout",
     "output_type": "stream",
     "text": [
      "-> Enciclopedia\n",
      "-> Atlante\n",
      "-> Dictionary\n"
     ]
    }
   ],
   "source": [
    "for book in books:\n",
    "    print(\"->\",book)"
   ]
  },
  {
   "cell_type": "code",
   "execution_count": 51,
   "metadata": {},
   "outputs": [],
   "source": [
    "students=[\"Lucio\",\"Silvio\",\"Michela\",\"Natalia\"]\n",
    "courses=[\"Engineering\",\"Medicine\",\"Cinema\",\"Law\"]\n",
    "ages=[19,22,25,21]"
   ]
  },
  {
   "cell_type": "code",
   "execution_count": 52,
   "metadata": {},
   "outputs": [
    {
     "name": "stdout",
     "output_type": "stream",
     "text": [
      "Lucio Goes to Engineering and it has 19 Years.\n",
      "\n",
      "Silvio Goes to Medicine and it has 22 Years.\n",
      "\n",
      "Michela Goes to Cinema and it has 25 Years.\n",
      "\n",
      "Natalia Goes to Law and it has 21 Years.\n",
      "\n"
     ]
    }
   ],
   "source": [
    "for student,course,age in zip(students,courses,ages):\n",
    "    print(student,\"Goes to\",course,\"and it has\",age,\"Years.\\n\")"
   ]
  },
  {
   "cell_type": "code",
   "execution_count": null,
   "metadata": {},
   "outputs": [],
   "source": [
    "# Dataframe"
   ]
  },
  {
   "cell_type": "code",
   "execution_count": 54,
   "metadata": {},
   "outputs": [],
   "source": [
    "import pandas as pd"
   ]
  },
  {
   "cell_type": "code",
   "execution_count": 55,
   "metadata": {},
   "outputs": [
    {
     "data": {
      "text/html": [
       "<div>\n",
       "<style scoped>\n",
       "    .dataframe tbody tr th:only-of-type {\n",
       "        vertical-align: middle;\n",
       "    }\n",
       "\n",
       "    .dataframe tbody tr th {\n",
       "        vertical-align: top;\n",
       "    }\n",
       "\n",
       "    .dataframe thead th {\n",
       "        text-align: right;\n",
       "    }\n",
       "</style>\n",
       "<table border=\"1\" class=\"dataframe\">\n",
       "  <thead>\n",
       "    <tr style=\"text-align: right;\">\n",
       "      <th></th>\n",
       "      <th>ciberseguridad</th>\n",
       "      <th>analista datos</th>\n",
       "    </tr>\n",
       "  </thead>\n",
       "  <tbody>\n",
       "    <tr>\n",
       "      <th>año1</th>\n",
       "      <td>10</td>\n",
       "      <td>40</td>\n",
       "    </tr>\n",
       "    <tr>\n",
       "      <th>año2</th>\n",
       "      <td>20</td>\n",
       "      <td>50</td>\n",
       "    </tr>\n",
       "    <tr>\n",
       "      <th>año3</th>\n",
       "      <td>30</td>\n",
       "      <td>60</td>\n",
       "    </tr>\n",
       "  </tbody>\n",
       "</table>\n",
       "</div>"
      ],
      "text/plain": [
       "      ciberseguridad  analista datos\n",
       "año1              10              40\n",
       "año2              20              50\n",
       "año3              30              60"
      ]
     },
     "execution_count": 55,
     "metadata": {},
     "output_type": "execute_result"
    }
   ],
   "source": [
    "data={\"ciberseguridad\":[10,20,30],\"analista datos\":[40,50,60]}\n",
    "students=pd.DataFrame(data,index=[\"año1\",\"año2\",\"año3\"])\n",
    "students"
   ]
  },
  {
   "cell_type": "code",
   "execution_count": 56,
   "metadata": {},
   "outputs": [
    {
     "data": {
      "text/html": [
       "<div>\n",
       "<style scoped>\n",
       "    .dataframe tbody tr th:only-of-type {\n",
       "        vertical-align: middle;\n",
       "    }\n",
       "\n",
       "    .dataframe tbody tr th {\n",
       "        vertical-align: top;\n",
       "    }\n",
       "\n",
       "    .dataframe thead th {\n",
       "        text-align: right;\n",
       "    }\n",
       "</style>\n",
       "<table border=\"1\" class=\"dataframe\">\n",
       "  <thead>\n",
       "    <tr style=\"text-align: right;\">\n",
       "      <th></th>\n",
       "      <th>cybersecurity</th>\n",
       "      <th>data analyst</th>\n",
       "    </tr>\n",
       "  </thead>\n",
       "  <tbody>\n",
       "    <tr>\n",
       "      <th>año1</th>\n",
       "      <td>10</td>\n",
       "      <td>40</td>\n",
       "    </tr>\n",
       "    <tr>\n",
       "      <th>año2</th>\n",
       "      <td>20</td>\n",
       "      <td>50</td>\n",
       "    </tr>\n",
       "    <tr>\n",
       "      <th>año3</th>\n",
       "      <td>30</td>\n",
       "      <td>60</td>\n",
       "    </tr>\n",
       "  </tbody>\n",
       "</table>\n",
       "</div>"
      ],
      "text/plain": [
       "      cybersecurity  data analyst\n",
       "año1             10            40\n",
       "año2             20            50\n",
       "año3             30            60"
      ]
     },
     "execution_count": 56,
     "metadata": {},
     "output_type": "execute_result"
    }
   ],
   "source": [
    "# Rename Columns\n",
    "\n",
    "students.rename(columns={\"ciberseguridad\":\"cybersecurity\",\"analista datos\":\"data analyst\"},inplace=True)\n",
    "students"
   ]
  },
  {
   "cell_type": "code",
   "execution_count": 57,
   "metadata": {},
   "outputs": [
    {
     "data": {
      "text/html": [
       "<div>\n",
       "<style scoped>\n",
       "    .dataframe tbody tr th:only-of-type {\n",
       "        vertical-align: middle;\n",
       "    }\n",
       "\n",
       "    .dataframe tbody tr th {\n",
       "        vertical-align: top;\n",
       "    }\n",
       "\n",
       "    .dataframe thead th {\n",
       "        text-align: right;\n",
       "    }\n",
       "</style>\n",
       "<table border=\"1\" class=\"dataframe\">\n",
       "  <thead>\n",
       "    <tr style=\"text-align: right;\">\n",
       "      <th></th>\n",
       "      <th>cybersecurity</th>\n",
       "      <th>data analyst</th>\n",
       "    </tr>\n",
       "  </thead>\n",
       "  <tbody>\n",
       "    <tr>\n",
       "      <th>Year 1</th>\n",
       "      <td>10</td>\n",
       "      <td>40</td>\n",
       "    </tr>\n",
       "    <tr>\n",
       "      <th>year 2</th>\n",
       "      <td>20</td>\n",
       "      <td>50</td>\n",
       "    </tr>\n",
       "    <tr>\n",
       "      <th>year 3</th>\n",
       "      <td>30</td>\n",
       "      <td>60</td>\n",
       "    </tr>\n",
       "  </tbody>\n",
       "</table>\n",
       "</div>"
      ],
      "text/plain": [
       "        cybersecurity  data analyst\n",
       "Year 1             10            40\n",
       "year 2             20            50\n",
       "year 3             30            60"
      ]
     },
     "execution_count": 57,
     "metadata": {},
     "output_type": "execute_result"
    }
   ],
   "source": [
    "# Rename rows\n",
    "\n",
    "students.rename(index={\"año1\":\"Year 1\",\"año2\":\"year 2\",\"año3\":\"year 3\"},inplace=True)\n",
    "students"
   ]
  },
  {
   "cell_type": "code",
   "execution_count": 58,
   "metadata": {},
   "outputs": [
    {
     "data": {
      "text/html": [
       "<div>\n",
       "<style scoped>\n",
       "    .dataframe tbody tr th:only-of-type {\n",
       "        vertical-align: middle;\n",
       "    }\n",
       "\n",
       "    .dataframe tbody tr th {\n",
       "        vertical-align: top;\n",
       "    }\n",
       "\n",
       "    .dataframe thead th {\n",
       "        text-align: right;\n",
       "    }\n",
       "</style>\n",
       "<table border=\"1\" class=\"dataframe\">\n",
       "  <thead>\n",
       "    <tr style=\"text-align: right;\">\n",
       "      <th></th>\n",
       "      <th>ciberseguridad</th>\n",
       "      <th>analista datos</th>\n",
       "    </tr>\n",
       "  </thead>\n",
       "  <tbody>\n",
       "    <tr>\n",
       "      <th>año1</th>\n",
       "      <td>10</td>\n",
       "      <td>40</td>\n",
       "    </tr>\n",
       "    <tr>\n",
       "      <th>año2</th>\n",
       "      <td>20</td>\n",
       "      <td>50</td>\n",
       "    </tr>\n",
       "    <tr>\n",
       "      <th>año3</th>\n",
       "      <td>30</td>\n",
       "      <td>60</td>\n",
       "    </tr>\n",
       "  </tbody>\n",
       "</table>\n",
       "</div>"
      ],
      "text/plain": [
       "      ciberseguridad  analista datos\n",
       "año1              10              40\n",
       "año2              20              50\n",
       "año3              30              60"
      ]
     },
     "execution_count": 58,
     "metadata": {},
     "output_type": "execute_result"
    }
   ],
   "source": [
    "data={\"ciberseguridad\":[10,20,30],\"analista datos\":[40,50,60]}\n",
    "students=pd.DataFrame(data,index=[\"año1\",\"año2\",\"año3\"])\n",
    "students"
   ]
  },
  {
   "cell_type": "code",
   "execution_count": 59,
   "metadata": {},
   "outputs": [
    {
     "data": {
      "text/html": [
       "<div>\n",
       "<style scoped>\n",
       "    .dataframe tbody tr th:only-of-type {\n",
       "        vertical-align: middle;\n",
       "    }\n",
       "\n",
       "    .dataframe tbody tr th {\n",
       "        vertical-align: top;\n",
       "    }\n",
       "\n",
       "    .dataframe thead th {\n",
       "        text-align: right;\n",
       "    }\n",
       "</style>\n",
       "<table border=\"1\" class=\"dataframe\">\n",
       "  <thead>\n",
       "    <tr style=\"text-align: right;\">\n",
       "      <th></th>\n",
       "      <th>cybersecurity</th>\n",
       "      <th>data analyst</th>\n",
       "    </tr>\n",
       "  </thead>\n",
       "  <tbody>\n",
       "    <tr>\n",
       "      <th>Year 1</th>\n",
       "      <td>10</td>\n",
       "      <td>40</td>\n",
       "    </tr>\n",
       "    <tr>\n",
       "      <th>year 2</th>\n",
       "      <td>20</td>\n",
       "      <td>50</td>\n",
       "    </tr>\n",
       "    <tr>\n",
       "      <th>year3</th>\n",
       "      <td>30</td>\n",
       "      <td>60</td>\n",
       "    </tr>\n",
       "  </tbody>\n",
       "</table>\n",
       "</div>"
      ],
      "text/plain": [
       "        cybersecurity  data analyst\n",
       "Year 1             10            40\n",
       "year 2             20            50\n",
       "year3              30            60"
      ]
     },
     "execution_count": 59,
     "metadata": {},
     "output_type": "execute_result"
    }
   ],
   "source": [
    "# Rename rows and columns\n",
    "\n",
    "students.rename(columns={\"ciberseguridad\":\"cybersecurity\",\"analista datos\":\"data analyst\"},index={\"año1\":\"Year 1\",\"año2\":\"year 2\",\"año3\":\"year3\"},inplace=True)\n",
    "students"
   ]
  }
 ],
 "metadata": {
  "kernelspec": {
   "display_name": "Python 3",
   "language": "python",
   "name": "python3"
  },
  "language_info": {
   "codemirror_mode": {
    "name": "ipython",
    "version": 3
   },
   "file_extension": ".py",
   "mimetype": "text/x-python",
   "name": "python",
   "nbconvert_exporter": "python",
   "pygments_lexer": "ipython3",
   "version": "3.11.6"
  },
  "orig_nbformat": 4
 },
 "nbformat": 4,
 "nbformat_minor": 2
}
