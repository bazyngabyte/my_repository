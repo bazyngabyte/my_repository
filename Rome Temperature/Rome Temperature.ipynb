{
 "cells": [
  {
   "cell_type": "markdown",
   "metadata": {},
   "source": [
    "# Evolution of Temperature for the city of Rome 2021-2024\n",
    "\n",
    "### Website: [Regione Lazio](https://www.regione.lazio.it/)\n",
    "### Data source: [Link](https://www.siarl-lazio.it/E9.asp)"
   ]
  },
  {
   "cell_type": "code",
   "execution_count": 185,
   "metadata": {},
   "outputs": [
    {
     "data": {
      "text/html": [
       "<img src=\"https://media.hswstatic.com/eyJidWNrZXQiOiJjb250ZW50Lmhzd3N0YXRpYy5jb20iLCJrZXkiOiJnaWZcL3JlZGVmaW5lZm91cnNlYXNvbnMtMS5qcGciLCJlZGl0cyI6eyJyZXNpemUiOnsid2lkdGgiOjgyOH0sInRvRm9ybWF0IjoiYXZpZiJ9fQ==\"/>"
      ],
      "text/plain": [
       "<IPython.core.display.Image object>"
      ]
     },
     "execution_count": 185,
     "metadata": {},
     "output_type": "execute_result"
    }
   ],
   "source": [
    "from IPython.display import Image\n",
    "from IPython.core.display import HTML \n",
    "Image(url= \"https://media.hswstatic.com/eyJidWNrZXQiOiJjb250ZW50Lmhzd3N0YXRpYy5jb20iLCJrZXkiOiJnaWZcL3JlZGVmaW5lZm91cnNlYXNvbnMtMS5qcGciLCJlZGl0cyI6eyJyZXNpemUiOnsid2lkdGgiOjgyOH0sInRvRm9ybWF0IjoiYXZpZiJ9fQ==\")"
   ]
  },
  {
   "cell_type": "markdown",
   "metadata": {},
   "source": [
    "Image credits: KATHY COLLINS / GETTY IMAGES"
   ]
  },
  {
   "cell_type": "code",
   "execution_count": 1,
   "metadata": {},
   "outputs": [],
   "source": [
    "# Importing libraries\n",
    "\n",
    "import pandas as pd\n",
    "import numpy as np\n",
    "import seaborn as sns\n",
    "import matplotlib.pyplot as plt\n",
    "import warnings\n",
    "import plotly.express as px\n",
    "import datetime as dt\n",
    "import glob as glob\n",
    "warnings.simplefilter(action=\"ignore\",category=FutureWarning)\n",
    "pd.options.mode.chained_assignment = None"
   ]
  },
  {
   "cell_type": "code",
   "execution_count": 2,
   "metadata": {},
   "outputs": [],
   "source": [
    "# Importing Data\n",
    "\n",
    "all_files=glob.glob(\"opdata*.csv\")\n",
    "file_list=[]\n",
    "for file in all_files:\n",
    "    data=pd.read_csv(file,delimiter=\";\",encoding=\"latin1\")\n",
    "    file_list.append(data)\n",
    "df=pd.concat(file_list)"
   ]
  },
  {
   "cell_type": "markdown",
   "metadata": {},
   "source": [
    "### 1. Exploring Data"
   ]
  },
  {
   "cell_type": "code",
   "execution_count": 3,
   "metadata": {},
   "outputs": [
    {
     "data": {
      "text/html": [
       "<div>\n",
       "<style scoped>\n",
       "    .dataframe tbody tr th:only-of-type {\n",
       "        vertical-align: middle;\n",
       "    }\n",
       "\n",
       "    .dataframe tbody tr th {\n",
       "        vertical-align: top;\n",
       "    }\n",
       "\n",
       "    .dataframe thead th {\n",
       "        text-align: right;\n",
       "    }\n",
       "</style>\n",
       "<table border=\"1\" class=\"dataframe\">\n",
       "  <thead>\n",
       "    <tr style=\"text-align: right;\">\n",
       "      <th></th>\n",
       "      <th>Stazione</th>\n",
       "      <th>Grandezza</th>\n",
       "      <th>Data rilevazione</th>\n",
       "      <th>Valore</th>\n",
       "      <th>Indice di validità</th>\n",
       "    </tr>\n",
       "  </thead>\n",
       "  <tbody>\n",
       "    <tr>\n",
       "      <th>0</th>\n",
       "      <td>ACCUMOLI</td>\n",
       "      <td>TEMPARIA2M_MING</td>\n",
       "      <td>01/01/2021 00:00</td>\n",
       "      <td>-1,5</td>\n",
       "      <td>Dato esatto</td>\n",
       "    </tr>\n",
       "    <tr>\n",
       "      <th>1</th>\n",
       "      <td>ACCUMOLI</td>\n",
       "      <td>TEMPARIA2M_MING</td>\n",
       "      <td>02/01/2021 00:00</td>\n",
       "      <td>-0,7</td>\n",
       "      <td>Dato esatto</td>\n",
       "    </tr>\n",
       "    <tr>\n",
       "      <th>2</th>\n",
       "      <td>ACCUMOLI</td>\n",
       "      <td>TEMPARIA2M_MING</td>\n",
       "      <td>03/01/2021 00:00</td>\n",
       "      <td>-1</td>\n",
       "      <td>Dato esatto</td>\n",
       "    </tr>\n",
       "    <tr>\n",
       "      <th>3</th>\n",
       "      <td>ACCUMOLI</td>\n",
       "      <td>TEMPARIA2M_MING</td>\n",
       "      <td>04/01/2021 00:00</td>\n",
       "      <td>-1,2</td>\n",
       "      <td>Dato esatto</td>\n",
       "    </tr>\n",
       "    <tr>\n",
       "      <th>4</th>\n",
       "      <td>ACCUMOLI</td>\n",
       "      <td>TEMPARIA2M_MING</td>\n",
       "      <td>05/01/2021 00:00</td>\n",
       "      <td>-2,5</td>\n",
       "      <td>Dato esatto</td>\n",
       "    </tr>\n",
       "  </tbody>\n",
       "</table>\n",
       "</div>"
      ],
      "text/plain": [
       "   Stazione        Grandezza  Data rilevazione Valore Indice di validità\n",
       "0  ACCUMOLI  TEMPARIA2M_MING  01/01/2021 00:00   -1,5        Dato esatto\n",
       "1  ACCUMOLI  TEMPARIA2M_MING  02/01/2021 00:00   -0,7        Dato esatto\n",
       "2  ACCUMOLI  TEMPARIA2M_MING  03/01/2021 00:00     -1        Dato esatto\n",
       "3  ACCUMOLI  TEMPARIA2M_MING  04/01/2021 00:00   -1,2        Dato esatto\n",
       "4  ACCUMOLI  TEMPARIA2M_MING  05/01/2021 00:00   -2,5        Dato esatto"
      ]
     },
     "execution_count": 3,
     "metadata": {},
     "output_type": "execute_result"
    }
   ],
   "source": [
    "df.head()"
   ]
  },
  {
   "cell_type": "code",
   "execution_count": 4,
   "metadata": {},
   "outputs": [
    {
     "data": {
      "text/plain": [
       "'530526 Rows by 5 Columns'"
      ]
     },
     "execution_count": 4,
     "metadata": {},
     "output_type": "execute_result"
    }
   ],
   "source": [
    "df.shape\n",
    "f\"{df.shape[0]} Rows by {df.shape[1]} Columns\""
   ]
  },
  {
   "cell_type": "code",
   "execution_count": 5,
   "metadata": {},
   "outputs": [
    {
     "data": {
      "text/html": [
       "<div>\n",
       "<style scoped>\n",
       "    .dataframe tbody tr th:only-of-type {\n",
       "        vertical-align: middle;\n",
       "    }\n",
       "\n",
       "    .dataframe tbody tr th {\n",
       "        vertical-align: top;\n",
       "    }\n",
       "\n",
       "    .dataframe thead th {\n",
       "        text-align: right;\n",
       "    }\n",
       "</style>\n",
       "<table border=\"1\" class=\"dataframe\">\n",
       "  <thead>\n",
       "    <tr style=\"text-align: right;\">\n",
       "      <th></th>\n",
       "      <th>Stazione</th>\n",
       "      <th>Grandezza</th>\n",
       "      <th>Data rilevazione</th>\n",
       "      <th>Valore</th>\n",
       "      <th>Indice di validità</th>\n",
       "    </tr>\n",
       "  </thead>\n",
       "  <tbody>\n",
       "    <tr>\n",
       "      <th>count</th>\n",
       "      <td>530526</td>\n",
       "      <td>530526</td>\n",
       "      <td>530526</td>\n",
       "      <td>530526</td>\n",
       "      <td>530526</td>\n",
       "    </tr>\n",
       "    <tr>\n",
       "      <th>unique</th>\n",
       "      <td>96</td>\n",
       "      <td>5</td>\n",
       "      <td>1126</td>\n",
       "      <td>5837</td>\n",
       "      <td>1</td>\n",
       "    </tr>\n",
       "    <tr>\n",
       "      <th>top</th>\n",
       "      <td>FARA SABINA S. Andrea</td>\n",
       "      <td>PREC_TOTG</td>\n",
       "      <td>29/04/2023 00:00</td>\n",
       "      <td>0</td>\n",
       "      <td>Dato esatto</td>\n",
       "    </tr>\n",
       "    <tr>\n",
       "      <th>freq</th>\n",
       "      <td>5630</td>\n",
       "      <td>106164</td>\n",
       "      <td>480</td>\n",
       "      <td>67214</td>\n",
       "      <td>530526</td>\n",
       "    </tr>\n",
       "  </tbody>\n",
       "</table>\n",
       "</div>"
      ],
      "text/plain": [
       "                     Stazione  Grandezza  Data rilevazione  Valore  \\\n",
       "count                  530526     530526            530526  530526   \n",
       "unique                     96          5              1126    5837   \n",
       "top     FARA SABINA S. Andrea  PREC_TOTG  29/04/2023 00:00       0   \n",
       "freq                     5630     106164               480   67214   \n",
       "\n",
       "       Indice di validità  \n",
       "count              530526  \n",
       "unique                  1  \n",
       "top           Dato esatto  \n",
       "freq               530526  "
      ]
     },
     "execution_count": 5,
     "metadata": {},
     "output_type": "execute_result"
    }
   ],
   "source": [
    "df.describe()"
   ]
  },
  {
   "cell_type": "code",
   "execution_count": 6,
   "metadata": {},
   "outputs": [
    {
     "name": "stdout",
     "output_type": "stream",
     "text": [
      "<class 'pandas.core.frame.DataFrame'>\n",
      "Index: 530526 entries, 0 to 14702\n",
      "Data columns (total 5 columns):\n",
      " #   Column              Non-Null Count   Dtype \n",
      "---  ------              --------------   ----- \n",
      " 0   Stazione            530526 non-null  object\n",
      " 1   Grandezza           530526 non-null  object\n",
      " 2   Data rilevazione    530526 non-null  object\n",
      " 3   Valore              530526 non-null  object\n",
      " 4   Indice di validità  530526 non-null  object\n",
      "dtypes: object(5)\n",
      "memory usage: 24.3+ MB\n"
     ]
    }
   ],
   "source": [
    "df.info()"
   ]
  },
  {
   "cell_type": "markdown",
   "metadata": {},
   "source": [
    "### 2. Cleaning up the Data!"
   ]
  },
  {
   "cell_type": "code",
   "execution_count": 7,
   "metadata": {},
   "outputs": [
    {
     "data": {
      "text/html": [
       "<div>\n",
       "<style scoped>\n",
       "    .dataframe tbody tr th:only-of-type {\n",
       "        vertical-align: middle;\n",
       "    }\n",
       "\n",
       "    .dataframe tbody tr th {\n",
       "        vertical-align: top;\n",
       "    }\n",
       "\n",
       "    .dataframe thead th {\n",
       "        text-align: right;\n",
       "    }\n",
       "</style>\n",
       "<table border=\"1\" class=\"dataframe\">\n",
       "  <thead>\n",
       "    <tr style=\"text-align: right;\">\n",
       "      <th></th>\n",
       "      <th>Stazione</th>\n",
       "      <th>Grandezza</th>\n",
       "      <th>Data rilevazione</th>\n",
       "      <th>Valore</th>\n",
       "      <th>Indice di validità</th>\n",
       "    </tr>\n",
       "  </thead>\n",
       "  <tbody>\n",
       "    <tr>\n",
       "      <th>0</th>\n",
       "      <td>ACCUMOLI</td>\n",
       "      <td>TEMPARIA2M_MING</td>\n",
       "      <td>01/01/2021 00:00</td>\n",
       "      <td>-1,5</td>\n",
       "      <td>Dato esatto</td>\n",
       "    </tr>\n",
       "    <tr>\n",
       "      <th>1</th>\n",
       "      <td>ACCUMOLI</td>\n",
       "      <td>TEMPARIA2M_MING</td>\n",
       "      <td>02/01/2021 00:00</td>\n",
       "      <td>-0,7</td>\n",
       "      <td>Dato esatto</td>\n",
       "    </tr>\n",
       "    <tr>\n",
       "      <th>2</th>\n",
       "      <td>ACCUMOLI</td>\n",
       "      <td>TEMPARIA2M_MING</td>\n",
       "      <td>03/01/2021 00:00</td>\n",
       "      <td>-1</td>\n",
       "      <td>Dato esatto</td>\n",
       "    </tr>\n",
       "    <tr>\n",
       "      <th>3</th>\n",
       "      <td>ACCUMOLI</td>\n",
       "      <td>TEMPARIA2M_MING</td>\n",
       "      <td>04/01/2021 00:00</td>\n",
       "      <td>-1,2</td>\n",
       "      <td>Dato esatto</td>\n",
       "    </tr>\n",
       "    <tr>\n",
       "      <th>4</th>\n",
       "      <td>ACCUMOLI</td>\n",
       "      <td>TEMPARIA2M_MING</td>\n",
       "      <td>05/01/2021 00:00</td>\n",
       "      <td>-2,5</td>\n",
       "      <td>Dato esatto</td>\n",
       "    </tr>\n",
       "    <tr>\n",
       "      <th>...</th>\n",
       "      <td>...</td>\n",
       "      <td>...</td>\n",
       "      <td>...</td>\n",
       "      <td>...</td>\n",
       "      <td>...</td>\n",
       "    </tr>\n",
       "    <tr>\n",
       "      <th>14698</th>\n",
       "      <td>TARQUINIA Poggio Nebbia</td>\n",
       "      <td>UMARIA2M_MEDG</td>\n",
       "      <td>27/01/2024 00:00</td>\n",
       "      <td>75,33</td>\n",
       "      <td>Dato esatto</td>\n",
       "    </tr>\n",
       "    <tr>\n",
       "      <th>14699</th>\n",
       "      <td>TARQUINIA Poggio Nebbia</td>\n",
       "      <td>UMARIA2M_MEDG</td>\n",
       "      <td>28/01/2024 00:00</td>\n",
       "      <td>64,58</td>\n",
       "      <td>Dato esatto</td>\n",
       "    </tr>\n",
       "    <tr>\n",
       "      <th>14700</th>\n",
       "      <td>TARQUINIA Poggio Nebbia</td>\n",
       "      <td>UMARIA2M_MEDG</td>\n",
       "      <td>29/01/2024 00:00</td>\n",
       "      <td>60,71</td>\n",
       "      <td>Dato esatto</td>\n",
       "    </tr>\n",
       "    <tr>\n",
       "      <th>14701</th>\n",
       "      <td>TARQUINIA Poggio Nebbia</td>\n",
       "      <td>UMARIA2M_MEDG</td>\n",
       "      <td>30/01/2024 00:00</td>\n",
       "      <td>66,38</td>\n",
       "      <td>Dato esatto</td>\n",
       "    </tr>\n",
       "    <tr>\n",
       "      <th>14702</th>\n",
       "      <td>TARQUINIA Poggio Nebbia</td>\n",
       "      <td>UMARIA2M_MEDG</td>\n",
       "      <td>31/01/2024 00:00</td>\n",
       "      <td>82,62</td>\n",
       "      <td>Dato esatto</td>\n",
       "    </tr>\n",
       "  </tbody>\n",
       "</table>\n",
       "<p>530526 rows × 5 columns</p>\n",
       "</div>"
      ],
      "text/plain": [
       "                      Stazione        Grandezza  Data rilevazione Valore  \\\n",
       "0                     ACCUMOLI  TEMPARIA2M_MING  01/01/2021 00:00   -1,5   \n",
       "1                     ACCUMOLI  TEMPARIA2M_MING  02/01/2021 00:00   -0,7   \n",
       "2                     ACCUMOLI  TEMPARIA2M_MING  03/01/2021 00:00     -1   \n",
       "3                     ACCUMOLI  TEMPARIA2M_MING  04/01/2021 00:00   -1,2   \n",
       "4                     ACCUMOLI  TEMPARIA2M_MING  05/01/2021 00:00   -2,5   \n",
       "...                        ...              ...               ...    ...   \n",
       "14698  TARQUINIA Poggio Nebbia    UMARIA2M_MEDG  27/01/2024 00:00  75,33   \n",
       "14699  TARQUINIA Poggio Nebbia    UMARIA2M_MEDG  28/01/2024 00:00  64,58   \n",
       "14700  TARQUINIA Poggio Nebbia    UMARIA2M_MEDG  29/01/2024 00:00  60,71   \n",
       "14701  TARQUINIA Poggio Nebbia    UMARIA2M_MEDG  30/01/2024 00:00  66,38   \n",
       "14702  TARQUINIA Poggio Nebbia    UMARIA2M_MEDG  31/01/2024 00:00  82,62   \n",
       "\n",
       "      Indice di validità  \n",
       "0            Dato esatto  \n",
       "1            Dato esatto  \n",
       "2            Dato esatto  \n",
       "3            Dato esatto  \n",
       "4            Dato esatto  \n",
       "...                  ...  \n",
       "14698        Dato esatto  \n",
       "14699        Dato esatto  \n",
       "14700        Dato esatto  \n",
       "14701        Dato esatto  \n",
       "14702        Dato esatto  \n",
       "\n",
       "[530526 rows x 5 columns]"
      ]
     },
     "execution_count": 7,
     "metadata": {},
     "output_type": "execute_result"
    }
   ],
   "source": [
    "df"
   ]
  },
  {
   "cell_type": "code",
   "execution_count": 8,
   "metadata": {},
   "outputs": [
    {
     "data": {
      "text/html": [
       "<div>\n",
       "<style scoped>\n",
       "    .dataframe tbody tr th:only-of-type {\n",
       "        vertical-align: middle;\n",
       "    }\n",
       "\n",
       "    .dataframe tbody tr th {\n",
       "        vertical-align: top;\n",
       "    }\n",
       "\n",
       "    .dataframe thead th {\n",
       "        text-align: right;\n",
       "    }\n",
       "</style>\n",
       "<table border=\"1\" class=\"dataframe\">\n",
       "  <thead>\n",
       "    <tr style=\"text-align: right;\">\n",
       "      <th></th>\n",
       "      <th>Stazione</th>\n",
       "      <th>Grandezza</th>\n",
       "      <th>Data rilevazione</th>\n",
       "      <th>Valore</th>\n",
       "      <th>Indice di validità</th>\n",
       "    </tr>\n",
       "  </thead>\n",
       "  <tbody>\n",
       "    <tr>\n",
       "      <th>45236</th>\n",
       "      <td>FIUMICINO T. Lepre</td>\n",
       "      <td>TEMPARIA2M_MING</td>\n",
       "      <td>01/01/2021 00:00</td>\n",
       "      <td>3,7</td>\n",
       "      <td>Dato esatto</td>\n",
       "    </tr>\n",
       "    <tr>\n",
       "      <th>45237</th>\n",
       "      <td>FIUMICINO T. Lepre</td>\n",
       "      <td>TEMPARIA2M_MING</td>\n",
       "      <td>02/01/2021 00:00</td>\n",
       "      <td>6,2</td>\n",
       "      <td>Dato esatto</td>\n",
       "    </tr>\n",
       "    <tr>\n",
       "      <th>45238</th>\n",
       "      <td>FIUMICINO T. Lepre</td>\n",
       "      <td>TEMPARIA2M_MING</td>\n",
       "      <td>03/01/2021 00:00</td>\n",
       "      <td>5</td>\n",
       "      <td>Dato esatto</td>\n",
       "    </tr>\n",
       "    <tr>\n",
       "      <th>45239</th>\n",
       "      <td>FIUMICINO T. Lepre</td>\n",
       "      <td>TEMPARIA2M_MING</td>\n",
       "      <td>04/01/2021 00:00</td>\n",
       "      <td>3,9</td>\n",
       "      <td>Dato esatto</td>\n",
       "    </tr>\n",
       "    <tr>\n",
       "      <th>45240</th>\n",
       "      <td>FIUMICINO T. Lepre</td>\n",
       "      <td>TEMPARIA2M_MING</td>\n",
       "      <td>09/01/2021 00:00</td>\n",
       "      <td>4,2</td>\n",
       "      <td>Dato esatto</td>\n",
       "    </tr>\n",
       "    <tr>\n",
       "      <th>...</th>\n",
       "      <td>...</td>\n",
       "      <td>...</td>\n",
       "      <td>...</td>\n",
       "      <td>...</td>\n",
       "      <td>...</td>\n",
       "    </tr>\n",
       "    <tr>\n",
       "      <th>4023</th>\n",
       "      <td>FIUMICINO T. Lepre</td>\n",
       "      <td>UMARIA2M_MEDG</td>\n",
       "      <td>27/01/2024 00:00</td>\n",
       "      <td>78,79</td>\n",
       "      <td>Dato esatto</td>\n",
       "    </tr>\n",
       "    <tr>\n",
       "      <th>4024</th>\n",
       "      <td>FIUMICINO T. Lepre</td>\n",
       "      <td>UMARIA2M_MEDG</td>\n",
       "      <td>28/01/2024 00:00</td>\n",
       "      <td>73,46</td>\n",
       "      <td>Dato esatto</td>\n",
       "    </tr>\n",
       "    <tr>\n",
       "      <th>4025</th>\n",
       "      <td>FIUMICINO T. Lepre</td>\n",
       "      <td>UMARIA2M_MEDG</td>\n",
       "      <td>29/01/2024 00:00</td>\n",
       "      <td>65,79</td>\n",
       "      <td>Dato esatto</td>\n",
       "    </tr>\n",
       "    <tr>\n",
       "      <th>4026</th>\n",
       "      <td>FIUMICINO T. Lepre</td>\n",
       "      <td>UMARIA2M_MEDG</td>\n",
       "      <td>30/01/2024 00:00</td>\n",
       "      <td>71,92</td>\n",
       "      <td>Dato esatto</td>\n",
       "    </tr>\n",
       "    <tr>\n",
       "      <th>4027</th>\n",
       "      <td>FIUMICINO T. Lepre</td>\n",
       "      <td>UMARIA2M_MEDG</td>\n",
       "      <td>31/01/2024 00:00</td>\n",
       "      <td>80,62</td>\n",
       "      <td>Dato esatto</td>\n",
       "    </tr>\n",
       "  </tbody>\n",
       "</table>\n",
       "<p>5570 rows × 5 columns</p>\n",
       "</div>"
      ],
      "text/plain": [
       "                 Stazione        Grandezza  Data rilevazione Valore  \\\n",
       "45236  FIUMICINO T. Lepre  TEMPARIA2M_MING  01/01/2021 00:00    3,7   \n",
       "45237  FIUMICINO T. Lepre  TEMPARIA2M_MING  02/01/2021 00:00    6,2   \n",
       "45238  FIUMICINO T. Lepre  TEMPARIA2M_MING  03/01/2021 00:00      5   \n",
       "45239  FIUMICINO T. Lepre  TEMPARIA2M_MING  04/01/2021 00:00    3,9   \n",
       "45240  FIUMICINO T. Lepre  TEMPARIA2M_MING  09/01/2021 00:00    4,2   \n",
       "...                   ...              ...               ...    ...   \n",
       "4023   FIUMICINO T. Lepre    UMARIA2M_MEDG  27/01/2024 00:00  78,79   \n",
       "4024   FIUMICINO T. Lepre    UMARIA2M_MEDG  28/01/2024 00:00  73,46   \n",
       "4025   FIUMICINO T. Lepre    UMARIA2M_MEDG  29/01/2024 00:00  65,79   \n",
       "4026   FIUMICINO T. Lepre    UMARIA2M_MEDG  30/01/2024 00:00  71,92   \n",
       "4027   FIUMICINO T. Lepre    UMARIA2M_MEDG  31/01/2024 00:00  80,62   \n",
       "\n",
       "      Indice di validità  \n",
       "45236        Dato esatto  \n",
       "45237        Dato esatto  \n",
       "45238        Dato esatto  \n",
       "45239        Dato esatto  \n",
       "45240        Dato esatto  \n",
       "...                  ...  \n",
       "4023         Dato esatto  \n",
       "4024         Dato esatto  \n",
       "4025         Dato esatto  \n",
       "4026         Dato esatto  \n",
       "4027         Dato esatto  \n",
       "\n",
       "[5570 rows x 5 columns]"
      ]
     },
     "execution_count": 8,
     "metadata": {},
     "output_type": "execute_result"
    }
   ],
   "source": [
    "# Filtering by Station\n",
    "\n",
    "filter=(df[\"Stazione\"]==\"FIUMICINO T. Lepre\")\n",
    "df=df[filter]\n",
    "df"
   ]
  },
  {
   "cell_type": "code",
   "execution_count": 9,
   "metadata": {},
   "outputs": [
    {
     "data": {
      "text/html": [
       "<div>\n",
       "<style scoped>\n",
       "    .dataframe tbody tr th:only-of-type {\n",
       "        vertical-align: middle;\n",
       "    }\n",
       "\n",
       "    .dataframe tbody tr th {\n",
       "        vertical-align: top;\n",
       "    }\n",
       "\n",
       "    .dataframe thead th {\n",
       "        text-align: right;\n",
       "    }\n",
       "</style>\n",
       "<table border=\"1\" class=\"dataframe\">\n",
       "  <thead>\n",
       "    <tr style=\"text-align: right;\">\n",
       "      <th></th>\n",
       "      <th>Stazione</th>\n",
       "      <th>Grandezza</th>\n",
       "      <th>Data rilevazione</th>\n",
       "      <th>Valore</th>\n",
       "      <th>Indice di validità</th>\n",
       "    </tr>\n",
       "  </thead>\n",
       "  <tbody>\n",
       "    <tr>\n",
       "      <th>45236</th>\n",
       "      <td>FIUMICINO T. Lepre</td>\n",
       "      <td>TEMPARIA2M_MING</td>\n",
       "      <td>01/01/2021 00:00</td>\n",
       "      <td>3,7</td>\n",
       "      <td>Dato esatto</td>\n",
       "    </tr>\n",
       "    <tr>\n",
       "      <th>45237</th>\n",
       "      <td>FIUMICINO T. Lepre</td>\n",
       "      <td>TEMPARIA2M_MING</td>\n",
       "      <td>02/01/2021 00:00</td>\n",
       "      <td>6,2</td>\n",
       "      <td>Dato esatto</td>\n",
       "    </tr>\n",
       "    <tr>\n",
       "      <th>45238</th>\n",
       "      <td>FIUMICINO T. Lepre</td>\n",
       "      <td>TEMPARIA2M_MING</td>\n",
       "      <td>03/01/2021 00:00</td>\n",
       "      <td>5</td>\n",
       "      <td>Dato esatto</td>\n",
       "    </tr>\n",
       "    <tr>\n",
       "      <th>45239</th>\n",
       "      <td>FIUMICINO T. Lepre</td>\n",
       "      <td>TEMPARIA2M_MING</td>\n",
       "      <td>04/01/2021 00:00</td>\n",
       "      <td>3,9</td>\n",
       "      <td>Dato esatto</td>\n",
       "    </tr>\n",
       "    <tr>\n",
       "      <th>45240</th>\n",
       "      <td>FIUMICINO T. Lepre</td>\n",
       "      <td>TEMPARIA2M_MING</td>\n",
       "      <td>09/01/2021 00:00</td>\n",
       "      <td>4,2</td>\n",
       "      <td>Dato esatto</td>\n",
       "    </tr>\n",
       "    <tr>\n",
       "      <th>...</th>\n",
       "      <td>...</td>\n",
       "      <td>...</td>\n",
       "      <td>...</td>\n",
       "      <td>...</td>\n",
       "      <td>...</td>\n",
       "    </tr>\n",
       "    <tr>\n",
       "      <th>3930</th>\n",
       "      <td>FIUMICINO T. Lepre</td>\n",
       "      <td>TEMPARIA2M_MAXG</td>\n",
       "      <td>27/01/2024 00:00</td>\n",
       "      <td>17,4</td>\n",
       "      <td>Dato esatto</td>\n",
       "    </tr>\n",
       "    <tr>\n",
       "      <th>3931</th>\n",
       "      <td>FIUMICINO T. Lepre</td>\n",
       "      <td>TEMPARIA2M_MAXG</td>\n",
       "      <td>28/01/2024 00:00</td>\n",
       "      <td>18,1</td>\n",
       "      <td>Dato esatto</td>\n",
       "    </tr>\n",
       "    <tr>\n",
       "      <th>3932</th>\n",
       "      <td>FIUMICINO T. Lepre</td>\n",
       "      <td>TEMPARIA2M_MAXG</td>\n",
       "      <td>29/01/2024 00:00</td>\n",
       "      <td>15,2</td>\n",
       "      <td>Dato esatto</td>\n",
       "    </tr>\n",
       "    <tr>\n",
       "      <th>3933</th>\n",
       "      <td>FIUMICINO T. Lepre</td>\n",
       "      <td>TEMPARIA2M_MAXG</td>\n",
       "      <td>30/01/2024 00:00</td>\n",
       "      <td>14,9</td>\n",
       "      <td>Dato esatto</td>\n",
       "    </tr>\n",
       "    <tr>\n",
       "      <th>3934</th>\n",
       "      <td>FIUMICINO T. Lepre</td>\n",
       "      <td>TEMPARIA2M_MAXG</td>\n",
       "      <td>31/01/2024 00:00</td>\n",
       "      <td>14,8</td>\n",
       "      <td>Dato esatto</td>\n",
       "    </tr>\n",
       "  </tbody>\n",
       "</table>\n",
       "<p>2228 rows × 5 columns</p>\n",
       "</div>"
      ],
      "text/plain": [
       "                 Stazione        Grandezza  Data rilevazione Valore  \\\n",
       "45236  FIUMICINO T. Lepre  TEMPARIA2M_MING  01/01/2021 00:00    3,7   \n",
       "45237  FIUMICINO T. Lepre  TEMPARIA2M_MING  02/01/2021 00:00    6,2   \n",
       "45238  FIUMICINO T. Lepre  TEMPARIA2M_MING  03/01/2021 00:00      5   \n",
       "45239  FIUMICINO T. Lepre  TEMPARIA2M_MING  04/01/2021 00:00    3,9   \n",
       "45240  FIUMICINO T. Lepre  TEMPARIA2M_MING  09/01/2021 00:00    4,2   \n",
       "...                   ...              ...               ...    ...   \n",
       "3930   FIUMICINO T. Lepre  TEMPARIA2M_MAXG  27/01/2024 00:00   17,4   \n",
       "3931   FIUMICINO T. Lepre  TEMPARIA2M_MAXG  28/01/2024 00:00   18,1   \n",
       "3932   FIUMICINO T. Lepre  TEMPARIA2M_MAXG  29/01/2024 00:00   15,2   \n",
       "3933   FIUMICINO T. Lepre  TEMPARIA2M_MAXG  30/01/2024 00:00   14,9   \n",
       "3934   FIUMICINO T. Lepre  TEMPARIA2M_MAXG  31/01/2024 00:00   14,8   \n",
       "\n",
       "      Indice di validità  \n",
       "45236        Dato esatto  \n",
       "45237        Dato esatto  \n",
       "45238        Dato esatto  \n",
       "45239        Dato esatto  \n",
       "45240        Dato esatto  \n",
       "...                  ...  \n",
       "3930         Dato esatto  \n",
       "3931         Dato esatto  \n",
       "3932         Dato esatto  \n",
       "3933         Dato esatto  \n",
       "3934         Dato esatto  \n",
       "\n",
       "[2228 rows x 5 columns]"
      ]
     },
     "execution_count": 9,
     "metadata": {},
     "output_type": "execute_result"
    }
   ],
   "source": [
    "filter=(df[\"Grandezza\"]==\"TEMPARIA2M_MING\")|(df[\"Grandezza\"]==\"TEMPARIA2M_MAXG\")\n",
    "df=df[filter]\n",
    "df"
   ]
  },
  {
   "cell_type": "code",
   "execution_count": 10,
   "metadata": {},
   "outputs": [],
   "source": [
    "df[\"Valore\"]=df[\"Valore\"].str.replace(\",\",\".\")"
   ]
  },
  {
   "cell_type": "code",
   "execution_count": 11,
   "metadata": {},
   "outputs": [
    {
     "data": {
      "text/plain": [
       "'en_US.UTF-8'"
      ]
     },
     "execution_count": 11,
     "metadata": {},
     "output_type": "execute_result"
    }
   ],
   "source": [
    "import locale\n",
    "locale.setlocale(locale.LC_ALL,'en_US.UTF-8')"
   ]
  },
  {
   "cell_type": "code",
   "execution_count": 12,
   "metadata": {},
   "outputs": [],
   "source": [
    "df[\"Valore\"]=df[\"Valore\"].apply(locale.atof)"
   ]
  },
  {
   "cell_type": "code",
   "execution_count": 13,
   "metadata": {},
   "outputs": [
    {
     "data": {
      "text/html": [
       "<div>\n",
       "<style scoped>\n",
       "    .dataframe tbody tr th:only-of-type {\n",
       "        vertical-align: middle;\n",
       "    }\n",
       "\n",
       "    .dataframe tbody tr th {\n",
       "        vertical-align: top;\n",
       "    }\n",
       "\n",
       "    .dataframe thead th {\n",
       "        text-align: right;\n",
       "    }\n",
       "</style>\n",
       "<table border=\"1\" class=\"dataframe\">\n",
       "  <thead>\n",
       "    <tr style=\"text-align: right;\">\n",
       "      <th></th>\n",
       "      <th>Stazione</th>\n",
       "      <th>Grandezza</th>\n",
       "      <th>Data rilevazione</th>\n",
       "      <th>Valore</th>\n",
       "      <th>Indice di validità</th>\n",
       "    </tr>\n",
       "  </thead>\n",
       "  <tbody>\n",
       "    <tr>\n",
       "      <th>45236</th>\n",
       "      <td>FIUMICINO T. Lepre</td>\n",
       "      <td>TEMPARIA2M_MING</td>\n",
       "      <td>2021-01-01</td>\n",
       "      <td>3.7</td>\n",
       "      <td>Dato esatto</td>\n",
       "    </tr>\n",
       "    <tr>\n",
       "      <th>45237</th>\n",
       "      <td>FIUMICINO T. Lepre</td>\n",
       "      <td>TEMPARIA2M_MING</td>\n",
       "      <td>2021-01-02</td>\n",
       "      <td>6.2</td>\n",
       "      <td>Dato esatto</td>\n",
       "    </tr>\n",
       "    <tr>\n",
       "      <th>45238</th>\n",
       "      <td>FIUMICINO T. Lepre</td>\n",
       "      <td>TEMPARIA2M_MING</td>\n",
       "      <td>2021-01-03</td>\n",
       "      <td>5.0</td>\n",
       "      <td>Dato esatto</td>\n",
       "    </tr>\n",
       "    <tr>\n",
       "      <th>45239</th>\n",
       "      <td>FIUMICINO T. Lepre</td>\n",
       "      <td>TEMPARIA2M_MING</td>\n",
       "      <td>2021-01-04</td>\n",
       "      <td>3.9</td>\n",
       "      <td>Dato esatto</td>\n",
       "    </tr>\n",
       "    <tr>\n",
       "      <th>45240</th>\n",
       "      <td>FIUMICINO T. Lepre</td>\n",
       "      <td>TEMPARIA2M_MING</td>\n",
       "      <td>2021-01-09</td>\n",
       "      <td>4.2</td>\n",
       "      <td>Dato esatto</td>\n",
       "    </tr>\n",
       "    <tr>\n",
       "      <th>...</th>\n",
       "      <td>...</td>\n",
       "      <td>...</td>\n",
       "      <td>...</td>\n",
       "      <td>...</td>\n",
       "      <td>...</td>\n",
       "    </tr>\n",
       "    <tr>\n",
       "      <th>3930</th>\n",
       "      <td>FIUMICINO T. Lepre</td>\n",
       "      <td>TEMPARIA2M_MAXG</td>\n",
       "      <td>2024-01-27</td>\n",
       "      <td>17.4</td>\n",
       "      <td>Dato esatto</td>\n",
       "    </tr>\n",
       "    <tr>\n",
       "      <th>3931</th>\n",
       "      <td>FIUMICINO T. Lepre</td>\n",
       "      <td>TEMPARIA2M_MAXG</td>\n",
       "      <td>2024-01-28</td>\n",
       "      <td>18.1</td>\n",
       "      <td>Dato esatto</td>\n",
       "    </tr>\n",
       "    <tr>\n",
       "      <th>3932</th>\n",
       "      <td>FIUMICINO T. Lepre</td>\n",
       "      <td>TEMPARIA2M_MAXG</td>\n",
       "      <td>2024-01-29</td>\n",
       "      <td>15.2</td>\n",
       "      <td>Dato esatto</td>\n",
       "    </tr>\n",
       "    <tr>\n",
       "      <th>3933</th>\n",
       "      <td>FIUMICINO T. Lepre</td>\n",
       "      <td>TEMPARIA2M_MAXG</td>\n",
       "      <td>2024-01-30</td>\n",
       "      <td>14.9</td>\n",
       "      <td>Dato esatto</td>\n",
       "    </tr>\n",
       "    <tr>\n",
       "      <th>3934</th>\n",
       "      <td>FIUMICINO T. Lepre</td>\n",
       "      <td>TEMPARIA2M_MAXG</td>\n",
       "      <td>2024-01-31</td>\n",
       "      <td>14.8</td>\n",
       "      <td>Dato esatto</td>\n",
       "    </tr>\n",
       "  </tbody>\n",
       "</table>\n",
       "<p>2228 rows × 5 columns</p>\n",
       "</div>"
      ],
      "text/plain": [
       "                 Stazione        Grandezza Data rilevazione  Valore  \\\n",
       "45236  FIUMICINO T. Lepre  TEMPARIA2M_MING       2021-01-01     3.7   \n",
       "45237  FIUMICINO T. Lepre  TEMPARIA2M_MING       2021-01-02     6.2   \n",
       "45238  FIUMICINO T. Lepre  TEMPARIA2M_MING       2021-01-03     5.0   \n",
       "45239  FIUMICINO T. Lepre  TEMPARIA2M_MING       2021-01-04     3.9   \n",
       "45240  FIUMICINO T. Lepre  TEMPARIA2M_MING       2021-01-09     4.2   \n",
       "...                   ...              ...              ...     ...   \n",
       "3930   FIUMICINO T. Lepre  TEMPARIA2M_MAXG       2024-01-27    17.4   \n",
       "3931   FIUMICINO T. Lepre  TEMPARIA2M_MAXG       2024-01-28    18.1   \n",
       "3932   FIUMICINO T. Lepre  TEMPARIA2M_MAXG       2024-01-29    15.2   \n",
       "3933   FIUMICINO T. Lepre  TEMPARIA2M_MAXG       2024-01-30    14.9   \n",
       "3934   FIUMICINO T. Lepre  TEMPARIA2M_MAXG       2024-01-31    14.8   \n",
       "\n",
       "      Indice di validità  \n",
       "45236        Dato esatto  \n",
       "45237        Dato esatto  \n",
       "45238        Dato esatto  \n",
       "45239        Dato esatto  \n",
       "45240        Dato esatto  \n",
       "...                  ...  \n",
       "3930         Dato esatto  \n",
       "3931         Dato esatto  \n",
       "3932         Dato esatto  \n",
       "3933         Dato esatto  \n",
       "3934         Dato esatto  \n",
       "\n",
       "[2228 rows x 5 columns]"
      ]
     },
     "execution_count": 13,
     "metadata": {},
     "output_type": "execute_result"
    }
   ],
   "source": [
    "df[\"Data rilevazione\"]=pd.to_datetime(df[\"Data rilevazione\"], format=\"%d/%m/%Y %H:%M\")\n",
    "df"
   ]
  },
  {
   "cell_type": "code",
   "execution_count": 14,
   "metadata": {},
   "outputs": [
    {
     "data": {
      "text/html": [
       "<div>\n",
       "<style scoped>\n",
       "    .dataframe tbody tr th:only-of-type {\n",
       "        vertical-align: middle;\n",
       "    }\n",
       "\n",
       "    .dataframe tbody tr th {\n",
       "        vertical-align: top;\n",
       "    }\n",
       "\n",
       "    .dataframe thead th {\n",
       "        text-align: right;\n",
       "    }\n",
       "</style>\n",
       "<table border=\"1\" class=\"dataframe\">\n",
       "  <thead>\n",
       "    <tr style=\"text-align: right;\">\n",
       "      <th></th>\n",
       "      <th>Stazione</th>\n",
       "      <th>Grandezza</th>\n",
       "      <th>Data rilevazione</th>\n",
       "      <th>year-month</th>\n",
       "      <th>Valore</th>\n",
       "      <th>Indice di validità</th>\n",
       "    </tr>\n",
       "  </thead>\n",
       "  <tbody>\n",
       "    <tr>\n",
       "      <th>45236</th>\n",
       "      <td>FIUMICINO T. Lepre</td>\n",
       "      <td>TEMPARIA2M_MING</td>\n",
       "      <td>2021-01-01</td>\n",
       "      <td>2021-01</td>\n",
       "      <td>3.7</td>\n",
       "      <td>Dato esatto</td>\n",
       "    </tr>\n",
       "    <tr>\n",
       "      <th>45237</th>\n",
       "      <td>FIUMICINO T. Lepre</td>\n",
       "      <td>TEMPARIA2M_MING</td>\n",
       "      <td>2021-01-02</td>\n",
       "      <td>2021-01</td>\n",
       "      <td>6.2</td>\n",
       "      <td>Dato esatto</td>\n",
       "    </tr>\n",
       "    <tr>\n",
       "      <th>45238</th>\n",
       "      <td>FIUMICINO T. Lepre</td>\n",
       "      <td>TEMPARIA2M_MING</td>\n",
       "      <td>2021-01-03</td>\n",
       "      <td>2021-01</td>\n",
       "      <td>5.0</td>\n",
       "      <td>Dato esatto</td>\n",
       "    </tr>\n",
       "    <tr>\n",
       "      <th>45239</th>\n",
       "      <td>FIUMICINO T. Lepre</td>\n",
       "      <td>TEMPARIA2M_MING</td>\n",
       "      <td>2021-01-04</td>\n",
       "      <td>2021-01</td>\n",
       "      <td>3.9</td>\n",
       "      <td>Dato esatto</td>\n",
       "    </tr>\n",
       "    <tr>\n",
       "      <th>45240</th>\n",
       "      <td>FIUMICINO T. Lepre</td>\n",
       "      <td>TEMPARIA2M_MING</td>\n",
       "      <td>2021-01-09</td>\n",
       "      <td>2021-01</td>\n",
       "      <td>4.2</td>\n",
       "      <td>Dato esatto</td>\n",
       "    </tr>\n",
       "    <tr>\n",
       "      <th>...</th>\n",
       "      <td>...</td>\n",
       "      <td>...</td>\n",
       "      <td>...</td>\n",
       "      <td>...</td>\n",
       "      <td>...</td>\n",
       "      <td>...</td>\n",
       "    </tr>\n",
       "    <tr>\n",
       "      <th>3930</th>\n",
       "      <td>FIUMICINO T. Lepre</td>\n",
       "      <td>TEMPARIA2M_MAXG</td>\n",
       "      <td>2024-01-27</td>\n",
       "      <td>2024-01</td>\n",
       "      <td>17.4</td>\n",
       "      <td>Dato esatto</td>\n",
       "    </tr>\n",
       "    <tr>\n",
       "      <th>3931</th>\n",
       "      <td>FIUMICINO T. Lepre</td>\n",
       "      <td>TEMPARIA2M_MAXG</td>\n",
       "      <td>2024-01-28</td>\n",
       "      <td>2024-01</td>\n",
       "      <td>18.1</td>\n",
       "      <td>Dato esatto</td>\n",
       "    </tr>\n",
       "    <tr>\n",
       "      <th>3932</th>\n",
       "      <td>FIUMICINO T. Lepre</td>\n",
       "      <td>TEMPARIA2M_MAXG</td>\n",
       "      <td>2024-01-29</td>\n",
       "      <td>2024-01</td>\n",
       "      <td>15.2</td>\n",
       "      <td>Dato esatto</td>\n",
       "    </tr>\n",
       "    <tr>\n",
       "      <th>3933</th>\n",
       "      <td>FIUMICINO T. Lepre</td>\n",
       "      <td>TEMPARIA2M_MAXG</td>\n",
       "      <td>2024-01-30</td>\n",
       "      <td>2024-01</td>\n",
       "      <td>14.9</td>\n",
       "      <td>Dato esatto</td>\n",
       "    </tr>\n",
       "    <tr>\n",
       "      <th>3934</th>\n",
       "      <td>FIUMICINO T. Lepre</td>\n",
       "      <td>TEMPARIA2M_MAXG</td>\n",
       "      <td>2024-01-31</td>\n",
       "      <td>2024-01</td>\n",
       "      <td>14.8</td>\n",
       "      <td>Dato esatto</td>\n",
       "    </tr>\n",
       "  </tbody>\n",
       "</table>\n",
       "<p>2228 rows × 6 columns</p>\n",
       "</div>"
      ],
      "text/plain": [
       "                 Stazione        Grandezza Data rilevazione year-month  \\\n",
       "45236  FIUMICINO T. Lepre  TEMPARIA2M_MING       2021-01-01    2021-01   \n",
       "45237  FIUMICINO T. Lepre  TEMPARIA2M_MING       2021-01-02    2021-01   \n",
       "45238  FIUMICINO T. Lepre  TEMPARIA2M_MING       2021-01-03    2021-01   \n",
       "45239  FIUMICINO T. Lepre  TEMPARIA2M_MING       2021-01-04    2021-01   \n",
       "45240  FIUMICINO T. Lepre  TEMPARIA2M_MING       2021-01-09    2021-01   \n",
       "...                   ...              ...              ...        ...   \n",
       "3930   FIUMICINO T. Lepre  TEMPARIA2M_MAXG       2024-01-27    2024-01   \n",
       "3931   FIUMICINO T. Lepre  TEMPARIA2M_MAXG       2024-01-28    2024-01   \n",
       "3932   FIUMICINO T. Lepre  TEMPARIA2M_MAXG       2024-01-29    2024-01   \n",
       "3933   FIUMICINO T. Lepre  TEMPARIA2M_MAXG       2024-01-30    2024-01   \n",
       "3934   FIUMICINO T. Lepre  TEMPARIA2M_MAXG       2024-01-31    2024-01   \n",
       "\n",
       "       Valore Indice di validità  \n",
       "45236     3.7        Dato esatto  \n",
       "45237     6.2        Dato esatto  \n",
       "45238     5.0        Dato esatto  \n",
       "45239     3.9        Dato esatto  \n",
       "45240     4.2        Dato esatto  \n",
       "...       ...                ...  \n",
       "3930     17.4        Dato esatto  \n",
       "3931     18.1        Dato esatto  \n",
       "3932     15.2        Dato esatto  \n",
       "3933     14.9        Dato esatto  \n",
       "3934     14.8        Dato esatto  \n",
       "\n",
       "[2228 rows x 6 columns]"
      ]
     },
     "execution_count": 14,
     "metadata": {},
     "output_type": "execute_result"
    }
   ],
   "source": [
    "df.insert(3,\"year-month\",\"\")\n",
    "df[\"year-month\"]=df[\"Data rilevazione\"].dt.strftime('%Y-%m')\n",
    "df"
   ]
  },
  {
   "cell_type": "code",
   "execution_count": 15,
   "metadata": {},
   "outputs": [
    {
     "data": {
      "text/html": [
       "<div>\n",
       "<style scoped>\n",
       "    .dataframe tbody tr th:only-of-type {\n",
       "        vertical-align: middle;\n",
       "    }\n",
       "\n",
       "    .dataframe tbody tr th {\n",
       "        vertical-align: top;\n",
       "    }\n",
       "\n",
       "    .dataframe thead th {\n",
       "        text-align: right;\n",
       "    }\n",
       "</style>\n",
       "<table border=\"1\" class=\"dataframe\">\n",
       "  <thead>\n",
       "    <tr style=\"text-align: right;\">\n",
       "      <th></th>\n",
       "      <th>year-month</th>\n",
       "      <th>min</th>\n",
       "      <th>max</th>\n",
       "    </tr>\n",
       "  </thead>\n",
       "  <tbody>\n",
       "    <tr>\n",
       "      <th>0</th>\n",
       "      <td>2021-01</td>\n",
       "      <td>-1.4</td>\n",
       "      <td>17.0</td>\n",
       "    </tr>\n",
       "    <tr>\n",
       "      <th>1</th>\n",
       "      <td>2021-02</td>\n",
       "      <td>-2.1</td>\n",
       "      <td>20.5</td>\n",
       "    </tr>\n",
       "    <tr>\n",
       "      <th>2</th>\n",
       "      <td>2021-03</td>\n",
       "      <td>0.2</td>\n",
       "      <td>23.6</td>\n",
       "    </tr>\n",
       "    <tr>\n",
       "      <th>3</th>\n",
       "      <td>2021-04</td>\n",
       "      <td>-0.6</td>\n",
       "      <td>25.2</td>\n",
       "    </tr>\n",
       "    <tr>\n",
       "      <th>4</th>\n",
       "      <td>2021-05</td>\n",
       "      <td>7.8</td>\n",
       "      <td>29.3</td>\n",
       "    </tr>\n",
       "    <tr>\n",
       "      <th>5</th>\n",
       "      <td>2021-06</td>\n",
       "      <td>12.5</td>\n",
       "      <td>36.1</td>\n",
       "    </tr>\n",
       "    <tr>\n",
       "      <th>6</th>\n",
       "      <td>2021-07</td>\n",
       "      <td>16.0</td>\n",
       "      <td>36.6</td>\n",
       "    </tr>\n",
       "    <tr>\n",
       "      <th>7</th>\n",
       "      <td>2021-08</td>\n",
       "      <td>15.1</td>\n",
       "      <td>39.9</td>\n",
       "    </tr>\n",
       "    <tr>\n",
       "      <th>8</th>\n",
       "      <td>2021-09</td>\n",
       "      <td>15.0</td>\n",
       "      <td>33.2</td>\n",
       "    </tr>\n",
       "    <tr>\n",
       "      <th>9</th>\n",
       "      <td>2021-10</td>\n",
       "      <td>9.2</td>\n",
       "      <td>29.7</td>\n",
       "    </tr>\n",
       "    <tr>\n",
       "      <th>10</th>\n",
       "      <td>2021-11</td>\n",
       "      <td>2.1</td>\n",
       "      <td>25.2</td>\n",
       "    </tr>\n",
       "    <tr>\n",
       "      <th>11</th>\n",
       "      <td>2021-12</td>\n",
       "      <td>0.9</td>\n",
       "      <td>19.5</td>\n",
       "    </tr>\n",
       "    <tr>\n",
       "      <th>12</th>\n",
       "      <td>2022-01</td>\n",
       "      <td>-0.1</td>\n",
       "      <td>16.2</td>\n",
       "    </tr>\n",
       "    <tr>\n",
       "      <th>13</th>\n",
       "      <td>2022-02</td>\n",
       "      <td>1.1</td>\n",
       "      <td>22.0</td>\n",
       "    </tr>\n",
       "    <tr>\n",
       "      <th>14</th>\n",
       "      <td>2022-03</td>\n",
       "      <td>-1.1</td>\n",
       "      <td>24.4</td>\n",
       "    </tr>\n",
       "    <tr>\n",
       "      <th>15</th>\n",
       "      <td>2022-04</td>\n",
       "      <td>1.9</td>\n",
       "      <td>25.6</td>\n",
       "    </tr>\n",
       "    <tr>\n",
       "      <th>16</th>\n",
       "      <td>2022-05</td>\n",
       "      <td>8.0</td>\n",
       "      <td>34.9</td>\n",
       "    </tr>\n",
       "    <tr>\n",
       "      <th>17</th>\n",
       "      <td>2022-06</td>\n",
       "      <td>16.3</td>\n",
       "      <td>40.4</td>\n",
       "    </tr>\n",
       "    <tr>\n",
       "      <th>18</th>\n",
       "      <td>2022-07</td>\n",
       "      <td>16.4</td>\n",
       "      <td>38.9</td>\n",
       "    </tr>\n",
       "    <tr>\n",
       "      <th>19</th>\n",
       "      <td>2022-08</td>\n",
       "      <td>17.3</td>\n",
       "      <td>38.0</td>\n",
       "    </tr>\n",
       "    <tr>\n",
       "      <th>20</th>\n",
       "      <td>2022-09</td>\n",
       "      <td>11.5</td>\n",
       "      <td>34.3</td>\n",
       "    </tr>\n",
       "    <tr>\n",
       "      <th>21</th>\n",
       "      <td>2022-10</td>\n",
       "      <td>11.5</td>\n",
       "      <td>28.3</td>\n",
       "    </tr>\n",
       "    <tr>\n",
       "      <th>22</th>\n",
       "      <td>2022-11</td>\n",
       "      <td>4.9</td>\n",
       "      <td>26.5</td>\n",
       "    </tr>\n",
       "    <tr>\n",
       "      <th>23</th>\n",
       "      <td>2022-12</td>\n",
       "      <td>2.3</td>\n",
       "      <td>19.5</td>\n",
       "    </tr>\n",
       "    <tr>\n",
       "      <th>24</th>\n",
       "      <td>2023-01</td>\n",
       "      <td>0.3</td>\n",
       "      <td>17.8</td>\n",
       "    </tr>\n",
       "    <tr>\n",
       "      <th>25</th>\n",
       "      <td>2023-02</td>\n",
       "      <td>-0.5</td>\n",
       "      <td>17.5</td>\n",
       "    </tr>\n",
       "    <tr>\n",
       "      <th>26</th>\n",
       "      <td>2023-03</td>\n",
       "      <td>2.3</td>\n",
       "      <td>23.5</td>\n",
       "    </tr>\n",
       "    <tr>\n",
       "      <th>27</th>\n",
       "      <td>2023-04</td>\n",
       "      <td>1.8</td>\n",
       "      <td>23.1</td>\n",
       "    </tr>\n",
       "    <tr>\n",
       "      <th>28</th>\n",
       "      <td>2023-05</td>\n",
       "      <td>9.8</td>\n",
       "      <td>30.0</td>\n",
       "    </tr>\n",
       "    <tr>\n",
       "      <th>29</th>\n",
       "      <td>2023-06</td>\n",
       "      <td>14.6</td>\n",
       "      <td>35.0</td>\n",
       "    </tr>\n",
       "    <tr>\n",
       "      <th>30</th>\n",
       "      <td>2023-07</td>\n",
       "      <td>17.5</td>\n",
       "      <td>40.3</td>\n",
       "    </tr>\n",
       "    <tr>\n",
       "      <th>31</th>\n",
       "      <td>2023-08</td>\n",
       "      <td>14.7</td>\n",
       "      <td>39.6</td>\n",
       "    </tr>\n",
       "    <tr>\n",
       "      <th>32</th>\n",
       "      <td>2023-09</td>\n",
       "      <td>14.0</td>\n",
       "      <td>34.8</td>\n",
       "    </tr>\n",
       "    <tr>\n",
       "      <th>33</th>\n",
       "      <td>2023-10</td>\n",
       "      <td>12.4</td>\n",
       "      <td>33.4</td>\n",
       "    </tr>\n",
       "    <tr>\n",
       "      <th>34</th>\n",
       "      <td>2023-11</td>\n",
       "      <td>-0.8</td>\n",
       "      <td>22.8</td>\n",
       "    </tr>\n",
       "    <tr>\n",
       "      <th>35</th>\n",
       "      <td>2023-12</td>\n",
       "      <td>0.9</td>\n",
       "      <td>19.7</td>\n",
       "    </tr>\n",
       "    <tr>\n",
       "      <th>36</th>\n",
       "      <td>2024-01</td>\n",
       "      <td>0.7</td>\n",
       "      <td>18.9</td>\n",
       "    </tr>\n",
       "  </tbody>\n",
       "</table>\n",
       "</div>"
      ],
      "text/plain": [
       "   year-month   min   max\n",
       "0     2021-01  -1.4  17.0\n",
       "1     2021-02  -2.1  20.5\n",
       "2     2021-03   0.2  23.6\n",
       "3     2021-04  -0.6  25.2\n",
       "4     2021-05   7.8  29.3\n",
       "5     2021-06  12.5  36.1\n",
       "6     2021-07  16.0  36.6\n",
       "7     2021-08  15.1  39.9\n",
       "8     2021-09  15.0  33.2\n",
       "9     2021-10   9.2  29.7\n",
       "10    2021-11   2.1  25.2\n",
       "11    2021-12   0.9  19.5\n",
       "12    2022-01  -0.1  16.2\n",
       "13    2022-02   1.1  22.0\n",
       "14    2022-03  -1.1  24.4\n",
       "15    2022-04   1.9  25.6\n",
       "16    2022-05   8.0  34.9\n",
       "17    2022-06  16.3  40.4\n",
       "18    2022-07  16.4  38.9\n",
       "19    2022-08  17.3  38.0\n",
       "20    2022-09  11.5  34.3\n",
       "21    2022-10  11.5  28.3\n",
       "22    2022-11   4.9  26.5\n",
       "23    2022-12   2.3  19.5\n",
       "24    2023-01   0.3  17.8\n",
       "25    2023-02  -0.5  17.5\n",
       "26    2023-03   2.3  23.5\n",
       "27    2023-04   1.8  23.1\n",
       "28    2023-05   9.8  30.0\n",
       "29    2023-06  14.6  35.0\n",
       "30    2023-07  17.5  40.3\n",
       "31    2023-08  14.7  39.6\n",
       "32    2023-09  14.0  34.8\n",
       "33    2023-10  12.4  33.4\n",
       "34    2023-11  -0.8  22.8\n",
       "35    2023-12   0.9  19.7\n",
       "36    2024-01   0.7  18.9"
      ]
     },
     "execution_count": 15,
     "metadata": {},
     "output_type": "execute_result"
    }
   ],
   "source": [
    "df_roma=df.groupby([\"year-month\"],as_index=False)[\"Valore\"].agg([\"min\",\"max\"])\n",
    "df_roma"
   ]
  },
  {
   "cell_type": "markdown",
   "metadata": {},
   "source": [
    "### 3. Analyse Data"
   ]
  },
  {
   "cell_type": "code",
   "execution_count": 16,
   "metadata": {},
   "outputs": [],
   "source": [
    "roma=df_roma.copy()"
   ]
  },
  {
   "cell_type": "code",
   "execution_count": 17,
   "metadata": {},
   "outputs": [
    {
     "data": {
      "text/html": [
       "<div>\n",
       "<style scoped>\n",
       "    .dataframe tbody tr th:only-of-type {\n",
       "        vertical-align: middle;\n",
       "    }\n",
       "\n",
       "    .dataframe tbody tr th {\n",
       "        vertical-align: top;\n",
       "    }\n",
       "\n",
       "    .dataframe thead th {\n",
       "        text-align: right;\n",
       "    }\n",
       "</style>\n",
       "<table border=\"1\" class=\"dataframe\">\n",
       "  <thead>\n",
       "    <tr style=\"text-align: right;\">\n",
       "      <th></th>\n",
       "      <th>year-month</th>\n",
       "      <th>min</th>\n",
       "      <th>max</th>\n",
       "    </tr>\n",
       "  </thead>\n",
       "  <tbody>\n",
       "    <tr>\n",
       "      <th>0</th>\n",
       "      <td>2021-01</td>\n",
       "      <td>-1.4</td>\n",
       "      <td>17.0</td>\n",
       "    </tr>\n",
       "    <tr>\n",
       "      <th>1</th>\n",
       "      <td>2021-02</td>\n",
       "      <td>-2.1</td>\n",
       "      <td>20.5</td>\n",
       "    </tr>\n",
       "    <tr>\n",
       "      <th>2</th>\n",
       "      <td>2021-03</td>\n",
       "      <td>0.2</td>\n",
       "      <td>23.6</td>\n",
       "    </tr>\n",
       "    <tr>\n",
       "      <th>3</th>\n",
       "      <td>2021-04</td>\n",
       "      <td>-0.6</td>\n",
       "      <td>25.2</td>\n",
       "    </tr>\n",
       "    <tr>\n",
       "      <th>4</th>\n",
       "      <td>2021-05</td>\n",
       "      <td>7.8</td>\n",
       "      <td>29.3</td>\n",
       "    </tr>\n",
       "    <tr>\n",
       "      <th>5</th>\n",
       "      <td>2021-06</td>\n",
       "      <td>12.5</td>\n",
       "      <td>36.1</td>\n",
       "    </tr>\n",
       "    <tr>\n",
       "      <th>6</th>\n",
       "      <td>2021-07</td>\n",
       "      <td>16.0</td>\n",
       "      <td>36.6</td>\n",
       "    </tr>\n",
       "    <tr>\n",
       "      <th>7</th>\n",
       "      <td>2021-08</td>\n",
       "      <td>15.1</td>\n",
       "      <td>39.9</td>\n",
       "    </tr>\n",
       "    <tr>\n",
       "      <th>8</th>\n",
       "      <td>2021-09</td>\n",
       "      <td>15.0</td>\n",
       "      <td>33.2</td>\n",
       "    </tr>\n",
       "    <tr>\n",
       "      <th>9</th>\n",
       "      <td>2021-10</td>\n",
       "      <td>9.2</td>\n",
       "      <td>29.7</td>\n",
       "    </tr>\n",
       "    <tr>\n",
       "      <th>10</th>\n",
       "      <td>2021-11</td>\n",
       "      <td>2.1</td>\n",
       "      <td>25.2</td>\n",
       "    </tr>\n",
       "    <tr>\n",
       "      <th>11</th>\n",
       "      <td>2021-12</td>\n",
       "      <td>0.9</td>\n",
       "      <td>19.5</td>\n",
       "    </tr>\n",
       "    <tr>\n",
       "      <th>12</th>\n",
       "      <td>2022-01</td>\n",
       "      <td>-0.1</td>\n",
       "      <td>16.2</td>\n",
       "    </tr>\n",
       "    <tr>\n",
       "      <th>13</th>\n",
       "      <td>2022-02</td>\n",
       "      <td>1.1</td>\n",
       "      <td>22.0</td>\n",
       "    </tr>\n",
       "    <tr>\n",
       "      <th>14</th>\n",
       "      <td>2022-03</td>\n",
       "      <td>-1.1</td>\n",
       "      <td>24.4</td>\n",
       "    </tr>\n",
       "    <tr>\n",
       "      <th>15</th>\n",
       "      <td>2022-04</td>\n",
       "      <td>1.9</td>\n",
       "      <td>25.6</td>\n",
       "    </tr>\n",
       "    <tr>\n",
       "      <th>16</th>\n",
       "      <td>2022-05</td>\n",
       "      <td>8.0</td>\n",
       "      <td>34.9</td>\n",
       "    </tr>\n",
       "    <tr>\n",
       "      <th>17</th>\n",
       "      <td>2022-06</td>\n",
       "      <td>16.3</td>\n",
       "      <td>40.4</td>\n",
       "    </tr>\n",
       "    <tr>\n",
       "      <th>18</th>\n",
       "      <td>2022-07</td>\n",
       "      <td>16.4</td>\n",
       "      <td>38.9</td>\n",
       "    </tr>\n",
       "    <tr>\n",
       "      <th>19</th>\n",
       "      <td>2022-08</td>\n",
       "      <td>17.3</td>\n",
       "      <td>38.0</td>\n",
       "    </tr>\n",
       "    <tr>\n",
       "      <th>20</th>\n",
       "      <td>2022-09</td>\n",
       "      <td>11.5</td>\n",
       "      <td>34.3</td>\n",
       "    </tr>\n",
       "    <tr>\n",
       "      <th>21</th>\n",
       "      <td>2022-10</td>\n",
       "      <td>11.5</td>\n",
       "      <td>28.3</td>\n",
       "    </tr>\n",
       "    <tr>\n",
       "      <th>22</th>\n",
       "      <td>2022-11</td>\n",
       "      <td>4.9</td>\n",
       "      <td>26.5</td>\n",
       "    </tr>\n",
       "    <tr>\n",
       "      <th>23</th>\n",
       "      <td>2022-12</td>\n",
       "      <td>2.3</td>\n",
       "      <td>19.5</td>\n",
       "    </tr>\n",
       "    <tr>\n",
       "      <th>24</th>\n",
       "      <td>2023-01</td>\n",
       "      <td>0.3</td>\n",
       "      <td>17.8</td>\n",
       "    </tr>\n",
       "    <tr>\n",
       "      <th>25</th>\n",
       "      <td>2023-02</td>\n",
       "      <td>-0.5</td>\n",
       "      <td>17.5</td>\n",
       "    </tr>\n",
       "    <tr>\n",
       "      <th>26</th>\n",
       "      <td>2023-03</td>\n",
       "      <td>2.3</td>\n",
       "      <td>23.5</td>\n",
       "    </tr>\n",
       "    <tr>\n",
       "      <th>27</th>\n",
       "      <td>2023-04</td>\n",
       "      <td>1.8</td>\n",
       "      <td>23.1</td>\n",
       "    </tr>\n",
       "    <tr>\n",
       "      <th>28</th>\n",
       "      <td>2023-05</td>\n",
       "      <td>9.8</td>\n",
       "      <td>30.0</td>\n",
       "    </tr>\n",
       "    <tr>\n",
       "      <th>29</th>\n",
       "      <td>2023-06</td>\n",
       "      <td>14.6</td>\n",
       "      <td>35.0</td>\n",
       "    </tr>\n",
       "    <tr>\n",
       "      <th>30</th>\n",
       "      <td>2023-07</td>\n",
       "      <td>17.5</td>\n",
       "      <td>40.3</td>\n",
       "    </tr>\n",
       "    <tr>\n",
       "      <th>31</th>\n",
       "      <td>2023-08</td>\n",
       "      <td>14.7</td>\n",
       "      <td>39.6</td>\n",
       "    </tr>\n",
       "    <tr>\n",
       "      <th>32</th>\n",
       "      <td>2023-09</td>\n",
       "      <td>14.0</td>\n",
       "      <td>34.8</td>\n",
       "    </tr>\n",
       "    <tr>\n",
       "      <th>33</th>\n",
       "      <td>2023-10</td>\n",
       "      <td>12.4</td>\n",
       "      <td>33.4</td>\n",
       "    </tr>\n",
       "    <tr>\n",
       "      <th>34</th>\n",
       "      <td>2023-11</td>\n",
       "      <td>-0.8</td>\n",
       "      <td>22.8</td>\n",
       "    </tr>\n",
       "    <tr>\n",
       "      <th>35</th>\n",
       "      <td>2023-12</td>\n",
       "      <td>0.9</td>\n",
       "      <td>19.7</td>\n",
       "    </tr>\n",
       "    <tr>\n",
       "      <th>36</th>\n",
       "      <td>2024-01</td>\n",
       "      <td>0.7</td>\n",
       "      <td>18.9</td>\n",
       "    </tr>\n",
       "  </tbody>\n",
       "</table>\n",
       "</div>"
      ],
      "text/plain": [
       "   year-month   min   max\n",
       "0     2021-01  -1.4  17.0\n",
       "1     2021-02  -2.1  20.5\n",
       "2     2021-03   0.2  23.6\n",
       "3     2021-04  -0.6  25.2\n",
       "4     2021-05   7.8  29.3\n",
       "5     2021-06  12.5  36.1\n",
       "6     2021-07  16.0  36.6\n",
       "7     2021-08  15.1  39.9\n",
       "8     2021-09  15.0  33.2\n",
       "9     2021-10   9.2  29.7\n",
       "10    2021-11   2.1  25.2\n",
       "11    2021-12   0.9  19.5\n",
       "12    2022-01  -0.1  16.2\n",
       "13    2022-02   1.1  22.0\n",
       "14    2022-03  -1.1  24.4\n",
       "15    2022-04   1.9  25.6\n",
       "16    2022-05   8.0  34.9\n",
       "17    2022-06  16.3  40.4\n",
       "18    2022-07  16.4  38.9\n",
       "19    2022-08  17.3  38.0\n",
       "20    2022-09  11.5  34.3\n",
       "21    2022-10  11.5  28.3\n",
       "22    2022-11   4.9  26.5\n",
       "23    2022-12   2.3  19.5\n",
       "24    2023-01   0.3  17.8\n",
       "25    2023-02  -0.5  17.5\n",
       "26    2023-03   2.3  23.5\n",
       "27    2023-04   1.8  23.1\n",
       "28    2023-05   9.8  30.0\n",
       "29    2023-06  14.6  35.0\n",
       "30    2023-07  17.5  40.3\n",
       "31    2023-08  14.7  39.6\n",
       "32    2023-09  14.0  34.8\n",
       "33    2023-10  12.4  33.4\n",
       "34    2023-11  -0.8  22.8\n",
       "35    2023-12   0.9  19.7\n",
       "36    2024-01   0.7  18.9"
      ]
     },
     "execution_count": 17,
     "metadata": {},
     "output_type": "execute_result"
    }
   ],
   "source": [
    "roma"
   ]
  },
  {
   "cell_type": "code",
   "execution_count": 18,
   "metadata": {},
   "outputs": [
    {
     "data": {
      "text/plain": [
       "<Axes: >"
      ]
     },
     "execution_count": 18,
     "metadata": {},
     "output_type": "execute_result"
    },
    {
     "data": {
      "image/png": "[encoded data removed]",
      "text/plain": [
       "<Figure size 640x480 with 1 Axes>"
      ]
     },
     "metadata": {},
     "output_type": "display_data"
    }
   ],
   "source": [
    "roma[\"max\"].plot(kind=\"box\")"
   ]
  },
  {
   "cell_type": "markdown",
   "metadata": {},
   "source": [
    "No outliers found"
   ]
  },
  {
   "cell_type": "code",
   "execution_count": 19,
   "metadata": {},
   "outputs": [
    {
     "data": {
      "text/plain": [
       "<Axes: >"
      ]
     },
     "execution_count": 19,
     "metadata": {},
     "output_type": "execute_result"
    },
    {
     "data": {
      "image/png": "[encoded data removed]",
      "text/plain": [
       "<Figure size 640x480 with 1 Axes>"
      ]
     },
     "metadata": {},
     "output_type": "display_data"
    }
   ],
   "source": [
    "roma[\"min\"].plot(kind=\"box\")"
   ]
  },
  {
   "cell_type": "markdown",
   "metadata": {},
   "source": [
    "No outliers found"
   ]
  },
  {
   "cell_type": "code",
   "execution_count": 35,
   "metadata": {},
   "outputs": [
    {
     "data": {
      "image/png": "[encoded data removed]",
      "text/plain": [
       "<Figure size 1800x600 with 1 Axes>"
      ]
     },
     "metadata": {},
     "output_type": "display_data"
    }
   ],
   "source": [
    "plt.figure(figsize=(18,6))\n",
    "sns.pointplot(data=roma, x=\"year-month\", y=\"min\",label=\"Min\")\n",
    "sns.pointplot(data=roma, x=\"year-month\", y=\"max\",label=\"Max\",color=\"r\")\n",
    "plt.xticks(rotation=90)\n",
    "plt.ylabel(\"Temperature\")\n",
    "plt.xlabel(\"Date\")\n",
    "plt.title(\"Evolution of Temperature - Rome\")\n",
    "plt.grid()\n",
    "plt.show()"
   ]
  },
  {
   "cell_type": "code",
   "execution_count": 21,
   "metadata": {},
   "outputs": [
    {
     "data": {
      "image/png": "[encoded data removed]",
      "text/plain": [
       "<Figure size 1800x600 with 1 Axes>"
      ]
     },
     "metadata": {},
     "output_type": "display_data"
    }
   ],
   "source": [
    "plt.figure(figsize=(18,6))\n",
    "plt.bar(roma[\"year-month\"],roma[\"max\"],color=\"Red\")\n",
    "plt.bar(roma[\"year-month\"],roma[\"min\"],color=\"Blue\")\n",
    "plt.xticks(rotation = 90)\n",
    "plt.title('Evolution of Temperature - Rome')\n",
    "plt.ylabel('Temp')\n",
    "plt.legend(['Max', 'Min'])\n",
    "plt.show()"
   ]
  },
  {
   "cell_type": "code",
   "execution_count": 22,
   "metadata": {},
   "outputs": [
    {
     "data": {
      "image/png": "[encoded data removed]",
      "text/plain": [
       "<Figure size 1800x600 with 1 Axes>"
      ]
     },
     "metadata": {},
     "output_type": "display_data"
    }
   ],
   "source": [
    "plt.figure(figsize=(18,6))\n",
    "sns.pointplot(data=roma, x=\"year-month\", y=\"max\",label=\"max\",color=\"r\")\n",
    "plt.xticks(rotation=90)\n",
    "plt.ylabel(\"Temperature\")\n",
    "plt.xlabel(\"Date\")\n",
    "plt.title(\"Evolution of Max Temperature - Rome\")\n",
    "plt.grid()\n",
    "plt.show()"
   ]
  },
  {
   "cell_type": "code",
   "execution_count": 23,
   "metadata": {},
   "outputs": [
    {
     "data": {
      "application/vnd.plotly.v1+json": {
       "config": {
        "plotlyServerURL": "https://plot.ly"
       },
       "data": [
        {
         "hovertemplate": "<b>%{hovertext}</b><br><br>year-month=%{x}<br>max=%{marker.color}<extra></extra>",
         "hovertext": [
          17,
          20.5,
          23.6,
          25.2,
          29.3,
          36.1,
          36.6,
          39.9,
          33.2,
          29.7,
          25.2,
          19.5,
          16.2,
          22,
          24.4,
          25.6,
          34.9,
          40.4,
          38.9,
          38,
          34.3,
          28.3,
          26.5,
          19.5,
          17.8,
          17.5,
          23.5,
          23.1,
          30,
          35,
          40.3,
          39.6,
          34.8,
          33.4,
          22.8,
          19.7,
          18.9
         ],
         "legendgroup": "",
         "marker": {
          "color": [
           17,
           20.5,
           23.6,
           25.2,
           29.3,
           36.1,
           36.6,
           39.9,
           33.2,
           29.7,
           25.2,
           19.5,
           16.2,
           22,
           24.4,
           25.6,
           34.9,
           40.4,
           38.9,
           38,
           34.3,
           28.3,
           26.5,
           19.5,
           17.8,
           17.5,
           23.5,
           23.1,
           30,
           35,
           40.3,
           39.6,
           34.8,
           33.4,
           22.8,
           19.7,
           18.9
          ],
          "coloraxis": "coloraxis",
          "size": [
           17,
           20.5,
           23.6,
           25.2,
           29.3,
           36.1,
           36.6,
           39.9,
           33.2,
           29.7,
           25.2,
           19.5,
           16.2,
           22,
           24.4,
           25.6,
           34.9,
           40.4,
           38.9,
           38,
           34.3,
           28.3,
           26.5,
           19.5,
           17.8,
           17.5,
           23.5,
           23.1,
           30,
           35,
           40.3,
           39.6,
           34.8,
           33.4,
           22.8,
           19.7,
           18.9
          ],
          "sizemode": "area",
          "sizeref": 0.011222222222222222,
          "symbol": "circle"
         },
         "mode": "markers",
         "name": "",
         "orientation": "v",
         "showlegend": false,
         "type": "scatter",
         "x": [
          "2021-01",
          "2021-02",
          "2021-03",
          "2021-04",
          "2021-05",
          "2021-06",
          "2021-07",
          "2021-08",
          "2021-09",
          "2021-10",
          "2021-11",
          "2021-12",
          "2022-01",
          "2022-02",
          "2022-03",
          "2022-04",
          "2022-05",
          "2022-06",
          "2022-07",
          "2022-08",
          "2022-09",
          "2022-10",
          "2022-11",
          "2022-12",
          "2023-01",
          "2023-02",
          "2023-03",
          "2023-04",
          "2023-05",
          "2023-06",
          "2023-07",
          "2023-08",
          "2023-09",
          "2023-10",
          "2023-11",
          "2023-12",
          "2024-01"
         ],
         "xaxis": "x",
         "y": [
          17,
          20.5,
          23.6,
          25.2,
          29.3,
          36.1,
          36.6,
          39.9,
          33.2,
          29.7,
          25.2,
          19.5,
          16.2,
          22,
          24.4,
          25.6,
          34.9,
          40.4,
          38.9,
          38,
          34.3,
          28.3,
          26.5,
          19.5,
          17.8,
          17.5,
          23.5,
          23.1,
          30,
          35,
          40.3,
          39.6,
          34.8,
          33.4,
          22.8,
          19.7,
          18.9
         ],
         "yaxis": "y"
        }
       ],
       "layout": {
        "coloraxis": {
         "colorbar": {
          "title": {
           "text": "max"
          }
         },
         "colorscale": [
          [
           0,
           "#0d0887"
          ],
          [
           0.1111111111111111,
           "#46039f"
          ],
          [
           0.2222222222222222,
           "#7201a8"
          ],
          [
           0.3333333333333333,
           "#9c179e"
          ],
          [
           0.4444444444444444,
           "#bd3786"
          ],
          [
           0.5555555555555556,
           "#d8576b"
          ],
          [
           0.6666666666666666,
           "#ed7953"
          ],
          [
           0.7777777777777778,
           "#fb9f3a"
          ],
          [
           0.8888888888888888,
           "#fdca26"
          ],
          [
           1,
           "#f0f921"
          ]
         ]
        },
        "legend": {
         "itemsizing": "constant",
         "tracegroupgap": 0
        },
        "template": {
         "data": {
          "bar": [
           {
            "error_x": {
             "color": "#2a3f5f"
            },
            "error_y": {
             "color": "#2a3f5f"
            },
            "marker": {
             "line": {
              "color": "#E5ECF6",
              "width": 0.5
             },
             "pattern": {
              "fillmode": "overlay",
              "size": 10,
              "solidity": 0.2
             }
            },
            "type": "bar"
           }
          ],
          "barpolar": [
           {
            "marker": {
             "line": {
              "color": "#E5ECF6",
              "width": 0.5
             },
             "pattern": {
              "fillmode": "overlay",
              "size": 10,
              "solidity": 0.2
             }
            },
            "type": "barpolar"
           }
          ],
          "carpet": [
           {
            "aaxis": {
             "endlinecolor": "#2a3f5f",
             "gridcolor": "white",
             "linecolor": "white",
             "minorgridcolor": "white",
             "startlinecolor": "#2a3f5f"
            },
            "baxis": {
             "endlinecolor": "#2a3f5f",
             "gridcolor": "white",
             "linecolor": "white",
             "minorgridcolor": "white",
             "startlinecolor": "#2a3f5f"
            },
            "type": "carpet"
           }
          ],
          "choropleth": [
           {
            "colorbar": {
             "outlinewidth": 0,
             "ticks": ""
            },
            "type": "choropleth"
           }
          ],
          "contour": [
           {
            "colorbar": {
             "outlinewidth": 0,
             "ticks": ""
            },
            "colorscale": [
             [
              0,
              "#0d0887"
             ],
             [
              0.1111111111111111,
              "#46039f"
             ],
             [
              0.2222222222222222,
              "#7201a8"
             ],
             [
              0.3333333333333333,
              "#9c179e"
             ],
             [
              0.4444444444444444,
              "#bd3786"
             ],
             [
              0.5555555555555556,
              "#d8576b"
             ],
             [
              0.6666666666666666,
              "#ed7953"
             ],
             [
              0.7777777777777778,
              "#fb9f3a"
             ],
             [
              0.8888888888888888,
              "#fdca26"
             ],
             [
              1,
              "#f0f921"
             ]
            ],
            "type": "contour"
           }
          ],
          "contourcarpet": [
           {
            "colorbar": {
             "outlinewidth": 0,
             "ticks": ""
            },
            "type": "contourcarpet"
           }
          ],
          "heatmap": [
           {
            "colorbar": {
             "outlinewidth": 0,
             "ticks": ""
            },
            "colorscale": [
             [
              0,
              "#0d0887"
             ],
             [
              0.1111111111111111,
              "#46039f"
             ],
             [
              0.2222222222222222,
              "#7201a8"
             ],
             [
              0.3333333333333333,
              "#9c179e"
             ],
             [
              0.4444444444444444,
              "#bd3786"
             ],
             [
              0.5555555555555556,
              "#d8576b"
             ],
             [
              0.6666666666666666,
              "#ed7953"
             ],
             [
              0.7777777777777778,
              "#fb9f3a"
             ],
             [
              0.8888888888888888,
              "#fdca26"
             ],
             [
              1,
              "#f0f921"
             ]
            ],
            "type": "heatmap"
           }
          ],
          "heatmapgl": [
           {
            "colorbar": {
             "outlinewidth": 0,
             "ticks": ""
            },
            "colorscale": [
             [
              0,
              "#0d0887"
             ],
             [
              0.1111111111111111,
              "#46039f"
             ],
             [
              0.2222222222222222,
              "#7201a8"
             ],
             [
              0.3333333333333333,
              "#9c179e"
             ],
             [
              0.4444444444444444,
              "#bd3786"
             ],
             [
              0.5555555555555556,
              "#d8576b"
             ],
             [
              0.6666666666666666,
              "#ed7953"
             ],
             [
              0.7777777777777778,
              "#fb9f3a"
             ],
             [
              0.8888888888888888,
              "#fdca26"
             ],
             [
              1,
              "#f0f921"
             ]
            ],
            "type": "heatmapgl"
           }
          ],
          "histogram": [
           {
            "marker": {
             "pattern": {
              "fillmode": "overlay",
              "size": 10,
              "solidity": 0.2
             }
            },
            "type": "histogram"
           }
          ],
          "histogram2d": [
           {
            "colorbar": {
             "outlinewidth": 0,
             "ticks": ""
            },
            "colorscale": [
             [
              0,
              "#0d0887"
             ],
             [
              0.1111111111111111,
              "#46039f"
             ],
             [
              0.2222222222222222,
              "#7201a8"
             ],
             [
              0.3333333333333333,
              "#9c179e"
             ],
             [
              0.4444444444444444,
              "#bd3786"
             ],
             [
              0.5555555555555556,
              "#d8576b"
             ],
             [
              0.6666666666666666,
              "#ed7953"
             ],
             [
              0.7777777777777778,
              "#fb9f3a"
             ],
             [
              0.8888888888888888,
              "#fdca26"
             ],
             [
              1,
              "#f0f921"
             ]
            ],
            "type": "histogram2d"
           }
          ],
          "histogram2dcontour": [
           {
            "colorbar": {
             "outlinewidth": 0,
             "ticks": ""
            },
            "colorscale": [
             [
              0,
              "#0d0887"
             ],
             [
              0.1111111111111111,
              "#46039f"
             ],
             [
              0.2222222222222222,
              "#7201a8"
             ],
             [
              0.3333333333333333,
              "#9c179e"
             ],
             [
              0.4444444444444444,
              "#bd3786"
             ],
             [
              0.5555555555555556,
              "#d8576b"
             ],
             [
              0.6666666666666666,
              "#ed7953"
             ],
             [
              0.7777777777777778,
              "#fb9f3a"
             ],
             [
              0.8888888888888888,
              "#fdca26"
             ],
             [
              1,
              "#f0f921"
             ]
            ],
            "type": "histogram2dcontour"
           }
          ],
          "mesh3d": [
           {
            "colorbar": {
             "outlinewidth": 0,
             "ticks": ""
            },
            "type": "mesh3d"
           }
          ],
          "parcoords": [
           {
            "line": {
             "colorbar": {
              "outlinewidth": 0,
              "ticks": ""
             }
            },
            "type": "parcoords"
           }
          ],
          "pie": [
           {
            "automargin": true,
            "type": "pie"
           }
          ],
          "scatter": [
           {
            "fillpattern": {
             "fillmode": "overlay",
             "size": 10,
             "solidity": 0.2
            },
            "type": "scatter"
           }
          ],
          "scatter3d": [
           {
            "line": {
             "colorbar": {
              "outlinewidth": 0,
              "ticks": ""
             }
            },
            "marker": {
             "colorbar": {
              "outlinewidth": 0,
              "ticks": ""
             }
            },
            "type": "scatter3d"
           }
          ],
          "scattercarpet": [
           {
            "marker": {
             "colorbar": {
              "outlinewidth": 0,
              "ticks": ""
             }
            },
            "type": "scattercarpet"
           }
          ],
          "scattergeo": [
           {
            "marker": {
             "colorbar": {
              "outlinewidth": 0,
              "ticks": ""
             }
            },
            "type": "scattergeo"
           }
          ],
          "scattergl": [
           {
            "marker": {
             "colorbar": {
              "outlinewidth": 0,
              "ticks": ""
             }
            },
            "type": "scattergl"
           }
          ],
          "scattermapbox": [
           {
            "marker": {
             "colorbar": {
              "outlinewidth": 0,
              "ticks": ""
             }
            },
            "type": "scattermapbox"
           }
          ],
          "scatterpolar": [
           {
            "marker": {
             "colorbar": {
              "outlinewidth": 0,
              "ticks": ""
             }
            },
            "type": "scatterpolar"
           }
          ],
          "scatterpolargl": [
           {
            "marker": {
             "colorbar": {
              "outlinewidth": 0,
              "ticks": ""
             }
            },
            "type": "scatterpolargl"
           }
          ],
          "scatterternary": [
           {
            "marker": {
             "colorbar": {
              "outlinewidth": 0,
              "ticks": ""
             }
            },
            "type": "scatterternary"
           }
          ],
          "surface": [
           {
            "colorbar": {
             "outlinewidth": 0,
             "ticks": ""
            },
            "colorscale": [
             [
              0,
              "#0d0887"
             ],
             [
              0.1111111111111111,
              "#46039f"
             ],
             [
              0.2222222222222222,
              "#7201a8"
             ],
             [
              0.3333333333333333,
              "#9c179e"
             ],
             [
              0.4444444444444444,
              "#bd3786"
             ],
             [
              0.5555555555555556,
              "#d8576b"
             ],
             [
              0.6666666666666666,
              "#ed7953"
             ],
             [
              0.7777777777777778,
              "#fb9f3a"
             ],
             [
              0.8888888888888888,
              "#fdca26"
             ],
             [
              1,
              "#f0f921"
             ]
            ],
            "type": "surface"
           }
          ],
          "table": [
           {
            "cells": {
             "fill": {
              "color": "#EBF0F8"
             },
             "line": {
              "color": "white"
             }
            },
            "header": {
             "fill": {
              "color": "#C8D4E3"
             },
             "line": {
              "color": "white"
             }
            },
            "type": "table"
           }
          ]
         },
         "layout": {
          "annotationdefaults": {
           "arrowcolor": "#2a3f5f",
           "arrowhead": 0,
           "arrowwidth": 1
          },
          "autotypenumbers": "strict",
          "coloraxis": {
           "colorbar": {
            "outlinewidth": 0,
            "ticks": ""
           }
          },
          "colorscale": {
           "diverging": [
            [
             0,
             "#8e0152"
            ],
            [
             0.1,
             "#c51b7d"
            ],
            [
             0.2,
             "#de77ae"
            ],
            [
             0.3,
             "#f1b6da"
            ],
            [
             0.4,
             "#fde0ef"
            ],
            [
             0.5,
             "#f7f7f7"
            ],
            [
             0.6,
             "#e6f5d0"
            ],
            [
             0.7,
             "#b8e186"
            ],
            [
             0.8,
             "#7fbc41"
            ],
            [
             0.9,
             "#4d9221"
            ],
            [
             1,
             "#276419"
            ]
           ],
           "sequential": [
            [
             0,
             "#0d0887"
            ],
            [
             0.1111111111111111,
             "#46039f"
            ],
            [
             0.2222222222222222,
             "#7201a8"
            ],
            [
             0.3333333333333333,
             "#9c179e"
            ],
            [
             0.4444444444444444,
             "#bd3786"
            ],
            [
             0.5555555555555556,
             "#d8576b"
            ],
            [
             0.6666666666666666,
             "#ed7953"
            ],
            [
             0.7777777777777778,
             "#fb9f3a"
            ],
            [
             0.8888888888888888,
             "#fdca26"
            ],
            [
             1,
             "#f0f921"
            ]
           ],
           "sequentialminus": [
            [
             0,
             "#0d0887"
            ],
            [
             0.1111111111111111,
             "#46039f"
            ],
            [
             0.2222222222222222,
             "#7201a8"
            ],
            [
             0.3333333333333333,
             "#9c179e"
            ],
            [
             0.4444444444444444,
             "#bd3786"
            ],
            [
             0.5555555555555556,
             "#d8576b"
            ],
            [
             0.6666666666666666,
             "#ed7953"
            ],
            [
             0.7777777777777778,
             "#fb9f3a"
            ],
            [
             0.8888888888888888,
             "#fdca26"
            ],
            [
             1,
             "#f0f921"
            ]
           ]
          },
          "colorway": [
           "#636efa",
           "#EF553B",
           "#00cc96",
           "#ab63fa",
           "#FFA15A",
           "#19d3f3",
           "#FF6692",
           "#B6E880",
           "#FF97FF",
           "#FECB52"
          ],
          "font": {
           "color": "#2a3f5f"
          },
          "geo": {
           "bgcolor": "white",
           "lakecolor": "white",
           "landcolor": "#E5ECF6",
           "showlakes": true,
           "showland": true,
           "subunitcolor": "white"
          },
          "hoverlabel": {
           "align": "left"
          },
          "hovermode": "closest",
          "mapbox": {
           "style": "light"
          },
          "paper_bgcolor": "white",
          "plot_bgcolor": "#E5ECF6",
          "polar": {
           "angularaxis": {
            "gridcolor": "white",
            "linecolor": "white",
            "ticks": ""
           },
           "bgcolor": "#E5ECF6",
           "radialaxis": {
            "gridcolor": "white",
            "linecolor": "white",
            "ticks": ""
           }
          },
          "scene": {
           "xaxis": {
            "backgroundcolor": "#E5ECF6",
            "gridcolor": "white",
            "gridwidth": 2,
            "linecolor": "white",
            "showbackground": true,
            "ticks": "",
            "zerolinecolor": "white"
           },
           "yaxis": {
            "backgroundcolor": "#E5ECF6",
            "gridcolor": "white",
            "gridwidth": 2,
            "linecolor": "white",
            "showbackground": true,
            "ticks": "",
            "zerolinecolor": "white"
           },
           "zaxis": {
            "backgroundcolor": "#E5ECF6",
            "gridcolor": "white",
            "gridwidth": 2,
            "linecolor": "white",
            "showbackground": true,
            "ticks": "",
            "zerolinecolor": "white"
           }
          },
          "shapedefaults": {
           "line": {
            "color": "#2a3f5f"
           }
          },
          "ternary": {
           "aaxis": {
            "gridcolor": "white",
            "linecolor": "white",
            "ticks": ""
           },
           "baxis": {
            "gridcolor": "white",
            "linecolor": "white",
            "ticks": ""
           },
           "bgcolor": "#E5ECF6",
           "caxis": {
            "gridcolor": "white",
            "linecolor": "white",
            "ticks": ""
           }
          },
          "title": {
           "x": 0.05
          },
          "xaxis": {
           "automargin": true,
           "gridcolor": "white",
           "linecolor": "white",
           "ticks": "",
           "title": {
            "standoff": 15
           },
           "zerolinecolor": "white",
           "zerolinewidth": 2
          },
          "yaxis": {
           "automargin": true,
           "gridcolor": "white",
           "linecolor": "white",
           "ticks": "",
           "title": {
            "standoff": 15
           },
           "zerolinecolor": "white",
           "zerolinewidth": 2
          }
         }
        },
        "title": {
         "text": "Rome Temperature 2023"
        },
        "xaxis": {
         "anchor": "y",
         "domain": [
          0,
          1
         ],
         "title": {
          "text": ""
         }
        },
        "yaxis": {
         "anchor": "x",
         "domain": [
          0,
          1
         ],
         "title": {
          "text": "Temperature"
         }
        }
       }
      }
     },
     "metadata": {},
     "output_type": "display_data"
    }
   ],
   "source": [
    "fig = px.scatter(roma, x=\"year-month\", y=\"max\", size=\"max\", hover_name=\"max\", title='Rome Temperature 2023', size_max=60, color='max')\n",
    "fig.update_xaxes(title_text='')\n",
    "fig.update_yaxes(title_text='Temperature')\n",
    "fig.show()"
   ]
  },
  {
   "attachments": {
    "newplot.png": {
     "image/png": "[encoded data removed]"
    }
   },
   "cell_type": "markdown",
   "metadata": {},
   "source": [
    "![newplot.png](attachment:newplot.png)"
   ]
  },
  {
   "cell_type": "code",
   "execution_count": 24,
   "metadata": {},
   "outputs": [
    {
     "data": {
      "image/png": "[encoded data removed]",
      "text/plain": [
       "<Figure size 1800x600 with 1 Axes>"
      ]
     },
     "metadata": {},
     "output_type": "display_data"
    }
   ],
   "source": [
    "plt.figure(figsize=(18,6))\n",
    "sns.pointplot(data=roma, x=\"year-month\", y=\"min\",label=\"Min\")\n",
    "plt.xticks(rotation=90)\n",
    "plt.ylabel(\"Temperature\")\n",
    "plt.xlabel(\"Date\")\n",
    "plt.title(\"Evolution of Min Temperature - Rome\")\n",
    "plt.grid()\n",
    "plt.show()"
   ]
  },
  {
   "cell_type": "code",
   "execution_count": 25,
   "metadata": {},
   "outputs": [],
   "source": [
    "#roma.to_csv(\"Roma\",index=False)"
   ]
  },
  {
   "cell_type": "markdown",
   "metadata": {},
   "source": [
    "## What happened in 2023?"
   ]
  },
  {
   "cell_type": "code",
   "execution_count": 26,
   "metadata": {},
   "outputs": [
    {
     "data": {
      "text/html": [
       "<div>\n",
       "<style scoped>\n",
       "    .dataframe tbody tr th:only-of-type {\n",
       "        vertical-align: middle;\n",
       "    }\n",
       "\n",
       "    .dataframe tbody tr th {\n",
       "        vertical-align: top;\n",
       "    }\n",
       "\n",
       "    .dataframe thead th {\n",
       "        text-align: right;\n",
       "    }\n",
       "</style>\n",
       "<table border=\"1\" class=\"dataframe\">\n",
       "  <thead>\n",
       "    <tr style=\"text-align: right;\">\n",
       "      <th></th>\n",
       "      <th>Stazione</th>\n",
       "      <th>Grandezza</th>\n",
       "      <th>Data rilevazione</th>\n",
       "      <th>year-month</th>\n",
       "      <th>Valore</th>\n",
       "      <th>Indice di validità</th>\n",
       "    </tr>\n",
       "  </thead>\n",
       "  <tbody>\n",
       "    <tr>\n",
       "      <th>45236</th>\n",
       "      <td>FIUMICINO T. Lepre</td>\n",
       "      <td>TEMPARIA2M_MING</td>\n",
       "      <td>2021-01-01</td>\n",
       "      <td>2021-01</td>\n",
       "      <td>3.7</td>\n",
       "      <td>Dato esatto</td>\n",
       "    </tr>\n",
       "    <tr>\n",
       "      <th>45237</th>\n",
       "      <td>FIUMICINO T. Lepre</td>\n",
       "      <td>TEMPARIA2M_MING</td>\n",
       "      <td>2021-01-02</td>\n",
       "      <td>2021-01</td>\n",
       "      <td>6.2</td>\n",
       "      <td>Dato esatto</td>\n",
       "    </tr>\n",
       "    <tr>\n",
       "      <th>45238</th>\n",
       "      <td>FIUMICINO T. Lepre</td>\n",
       "      <td>TEMPARIA2M_MING</td>\n",
       "      <td>2021-01-03</td>\n",
       "      <td>2021-01</td>\n",
       "      <td>5.0</td>\n",
       "      <td>Dato esatto</td>\n",
       "    </tr>\n",
       "    <tr>\n",
       "      <th>45239</th>\n",
       "      <td>FIUMICINO T. Lepre</td>\n",
       "      <td>TEMPARIA2M_MING</td>\n",
       "      <td>2021-01-04</td>\n",
       "      <td>2021-01</td>\n",
       "      <td>3.9</td>\n",
       "      <td>Dato esatto</td>\n",
       "    </tr>\n",
       "    <tr>\n",
       "      <th>45240</th>\n",
       "      <td>FIUMICINO T. Lepre</td>\n",
       "      <td>TEMPARIA2M_MING</td>\n",
       "      <td>2021-01-09</td>\n",
       "      <td>2021-01</td>\n",
       "      <td>4.2</td>\n",
       "      <td>Dato esatto</td>\n",
       "    </tr>\n",
       "    <tr>\n",
       "      <th>...</th>\n",
       "      <td>...</td>\n",
       "      <td>...</td>\n",
       "      <td>...</td>\n",
       "      <td>...</td>\n",
       "      <td>...</td>\n",
       "      <td>...</td>\n",
       "    </tr>\n",
       "    <tr>\n",
       "      <th>3930</th>\n",
       "      <td>FIUMICINO T. Lepre</td>\n",
       "      <td>TEMPARIA2M_MAXG</td>\n",
       "      <td>2024-01-27</td>\n",
       "      <td>2024-01</td>\n",
       "      <td>17.4</td>\n",
       "      <td>Dato esatto</td>\n",
       "    </tr>\n",
       "    <tr>\n",
       "      <th>3931</th>\n",
       "      <td>FIUMICINO T. Lepre</td>\n",
       "      <td>TEMPARIA2M_MAXG</td>\n",
       "      <td>2024-01-28</td>\n",
       "      <td>2024-01</td>\n",
       "      <td>18.1</td>\n",
       "      <td>Dato esatto</td>\n",
       "    </tr>\n",
       "    <tr>\n",
       "      <th>3932</th>\n",
       "      <td>FIUMICINO T. Lepre</td>\n",
       "      <td>TEMPARIA2M_MAXG</td>\n",
       "      <td>2024-01-29</td>\n",
       "      <td>2024-01</td>\n",
       "      <td>15.2</td>\n",
       "      <td>Dato esatto</td>\n",
       "    </tr>\n",
       "    <tr>\n",
       "      <th>3933</th>\n",
       "      <td>FIUMICINO T. Lepre</td>\n",
       "      <td>TEMPARIA2M_MAXG</td>\n",
       "      <td>2024-01-30</td>\n",
       "      <td>2024-01</td>\n",
       "      <td>14.9</td>\n",
       "      <td>Dato esatto</td>\n",
       "    </tr>\n",
       "    <tr>\n",
       "      <th>3934</th>\n",
       "      <td>FIUMICINO T. Lepre</td>\n",
       "      <td>TEMPARIA2M_MAXG</td>\n",
       "      <td>2024-01-31</td>\n",
       "      <td>2024-01</td>\n",
       "      <td>14.8</td>\n",
       "      <td>Dato esatto</td>\n",
       "    </tr>\n",
       "  </tbody>\n",
       "</table>\n",
       "<p>2228 rows × 6 columns</p>\n",
       "</div>"
      ],
      "text/plain": [
       "                 Stazione        Grandezza Data rilevazione year-month  \\\n",
       "45236  FIUMICINO T. Lepre  TEMPARIA2M_MING       2021-01-01    2021-01   \n",
       "45237  FIUMICINO T. Lepre  TEMPARIA2M_MING       2021-01-02    2021-01   \n",
       "45238  FIUMICINO T. Lepre  TEMPARIA2M_MING       2021-01-03    2021-01   \n",
       "45239  FIUMICINO T. Lepre  TEMPARIA2M_MING       2021-01-04    2021-01   \n",
       "45240  FIUMICINO T. Lepre  TEMPARIA2M_MING       2021-01-09    2021-01   \n",
       "...                   ...              ...              ...        ...   \n",
       "3930   FIUMICINO T. Lepre  TEMPARIA2M_MAXG       2024-01-27    2024-01   \n",
       "3931   FIUMICINO T. Lepre  TEMPARIA2M_MAXG       2024-01-28    2024-01   \n",
       "3932   FIUMICINO T. Lepre  TEMPARIA2M_MAXG       2024-01-29    2024-01   \n",
       "3933   FIUMICINO T. Lepre  TEMPARIA2M_MAXG       2024-01-30    2024-01   \n",
       "3934   FIUMICINO T. Lepre  TEMPARIA2M_MAXG       2024-01-31    2024-01   \n",
       "\n",
       "       Valore Indice di validità  \n",
       "45236     3.7        Dato esatto  \n",
       "45237     6.2        Dato esatto  \n",
       "45238     5.0        Dato esatto  \n",
       "45239     3.9        Dato esatto  \n",
       "45240     4.2        Dato esatto  \n",
       "...       ...                ...  \n",
       "3930     17.4        Dato esatto  \n",
       "3931     18.1        Dato esatto  \n",
       "3932     15.2        Dato esatto  \n",
       "3933     14.9        Dato esatto  \n",
       "3934     14.8        Dato esatto  \n",
       "\n",
       "[2228 rows x 6 columns]"
      ]
     },
     "execution_count": 26,
     "metadata": {},
     "output_type": "execute_result"
    }
   ],
   "source": [
    "df"
   ]
  },
  {
   "cell_type": "code",
   "execution_count": 27,
   "metadata": {},
   "outputs": [
    {
     "data": {
      "text/html": [
       "<div>\n",
       "<style scoped>\n",
       "    .dataframe tbody tr th:only-of-type {\n",
       "        vertical-align: middle;\n",
       "    }\n",
       "\n",
       "    .dataframe tbody tr th {\n",
       "        vertical-align: top;\n",
       "    }\n",
       "\n",
       "    .dataframe thead th {\n",
       "        text-align: right;\n",
       "    }\n",
       "</style>\n",
       "<table border=\"1\" class=\"dataframe\">\n",
       "  <thead>\n",
       "    <tr style=\"text-align: right;\">\n",
       "      <th></th>\n",
       "      <th>Stazione</th>\n",
       "      <th>Grandezza</th>\n",
       "      <th>Data rilevazione</th>\n",
       "      <th>year-month</th>\n",
       "      <th>Valore</th>\n",
       "      <th>Indice di validità</th>\n",
       "    </tr>\n",
       "  </thead>\n",
       "  <tbody>\n",
       "    <tr>\n",
       "      <th>45557</th>\n",
       "      <td>FIUMICINO T. Lepre</td>\n",
       "      <td>TEMPARIA2M_MING</td>\n",
       "      <td>2023-01-01</td>\n",
       "      <td>2023-01</td>\n",
       "      <td>7.8</td>\n",
       "      <td>Dato esatto</td>\n",
       "    </tr>\n",
       "    <tr>\n",
       "      <th>45558</th>\n",
       "      <td>FIUMICINO T. Lepre</td>\n",
       "      <td>TEMPARIA2M_MING</td>\n",
       "      <td>2023-01-02</td>\n",
       "      <td>2023-01</td>\n",
       "      <td>9.5</td>\n",
       "      <td>Dato esatto</td>\n",
       "    </tr>\n",
       "    <tr>\n",
       "      <th>45559</th>\n",
       "      <td>FIUMICINO T. Lepre</td>\n",
       "      <td>TEMPARIA2M_MING</td>\n",
       "      <td>2023-01-03</td>\n",
       "      <td>2023-01</td>\n",
       "      <td>10.1</td>\n",
       "      <td>Dato esatto</td>\n",
       "    </tr>\n",
       "    <tr>\n",
       "      <th>45560</th>\n",
       "      <td>FIUMICINO T. Lepre</td>\n",
       "      <td>TEMPARIA2M_MING</td>\n",
       "      <td>2023-01-04</td>\n",
       "      <td>2023-01</td>\n",
       "      <td>7.7</td>\n",
       "      <td>Dato esatto</td>\n",
       "    </tr>\n",
       "    <tr>\n",
       "      <th>45561</th>\n",
       "      <td>FIUMICINO T. Lepre</td>\n",
       "      <td>TEMPARIA2M_MING</td>\n",
       "      <td>2023-01-05</td>\n",
       "      <td>2023-01</td>\n",
       "      <td>5.1</td>\n",
       "      <td>Dato esatto</td>\n",
       "    </tr>\n",
       "    <tr>\n",
       "      <th>...</th>\n",
       "      <td>...</td>\n",
       "      <td>...</td>\n",
       "      <td>...</td>\n",
       "      <td>...</td>\n",
       "      <td>...</td>\n",
       "      <td>...</td>\n",
       "    </tr>\n",
       "    <tr>\n",
       "      <th>46282</th>\n",
       "      <td>FIUMICINO T. Lepre</td>\n",
       "      <td>TEMPARIA2M_MAXG</td>\n",
       "      <td>2023-12-27</td>\n",
       "      <td>2023-12</td>\n",
       "      <td>16.1</td>\n",
       "      <td>Dato esatto</td>\n",
       "    </tr>\n",
       "    <tr>\n",
       "      <th>46283</th>\n",
       "      <td>FIUMICINO T. Lepre</td>\n",
       "      <td>TEMPARIA2M_MAXG</td>\n",
       "      <td>2023-12-28</td>\n",
       "      <td>2023-12</td>\n",
       "      <td>11.8</td>\n",
       "      <td>Dato esatto</td>\n",
       "    </tr>\n",
       "    <tr>\n",
       "      <th>46284</th>\n",
       "      <td>FIUMICINO T. Lepre</td>\n",
       "      <td>TEMPARIA2M_MAXG</td>\n",
       "      <td>2023-12-29</td>\n",
       "      <td>2023-12</td>\n",
       "      <td>15.1</td>\n",
       "      <td>Dato esatto</td>\n",
       "    </tr>\n",
       "    <tr>\n",
       "      <th>46285</th>\n",
       "      <td>FIUMICINO T. Lepre</td>\n",
       "      <td>TEMPARIA2M_MAXG</td>\n",
       "      <td>2023-12-30</td>\n",
       "      <td>2023-12</td>\n",
       "      <td>17.4</td>\n",
       "      <td>Dato esatto</td>\n",
       "    </tr>\n",
       "    <tr>\n",
       "      <th>46286</th>\n",
       "      <td>FIUMICINO T. Lepre</td>\n",
       "      <td>TEMPARIA2M_MAXG</td>\n",
       "      <td>2023-12-31</td>\n",
       "      <td>2023-12</td>\n",
       "      <td>15.2</td>\n",
       "      <td>Dato esatto</td>\n",
       "    </tr>\n",
       "  </tbody>\n",
       "</table>\n",
       "<p>730 rows × 6 columns</p>\n",
       "</div>"
      ],
      "text/plain": [
       "                 Stazione        Grandezza Data rilevazione year-month  \\\n",
       "45557  FIUMICINO T. Lepre  TEMPARIA2M_MING       2023-01-01    2023-01   \n",
       "45558  FIUMICINO T. Lepre  TEMPARIA2M_MING       2023-01-02    2023-01   \n",
       "45559  FIUMICINO T. Lepre  TEMPARIA2M_MING       2023-01-03    2023-01   \n",
       "45560  FIUMICINO T. Lepre  TEMPARIA2M_MING       2023-01-04    2023-01   \n",
       "45561  FIUMICINO T. Lepre  TEMPARIA2M_MING       2023-01-05    2023-01   \n",
       "...                   ...              ...              ...        ...   \n",
       "46282  FIUMICINO T. Lepre  TEMPARIA2M_MAXG       2023-12-27    2023-12   \n",
       "46283  FIUMICINO T. Lepre  TEMPARIA2M_MAXG       2023-12-28    2023-12   \n",
       "46284  FIUMICINO T. Lepre  TEMPARIA2M_MAXG       2023-12-29    2023-12   \n",
       "46285  FIUMICINO T. Lepre  TEMPARIA2M_MAXG       2023-12-30    2023-12   \n",
       "46286  FIUMICINO T. Lepre  TEMPARIA2M_MAXG       2023-12-31    2023-12   \n",
       "\n",
       "       Valore Indice di validità  \n",
       "45557     7.8        Dato esatto  \n",
       "45558     9.5        Dato esatto  \n",
       "45559    10.1        Dato esatto  \n",
       "45560     7.7        Dato esatto  \n",
       "45561     5.1        Dato esatto  \n",
       "...       ...                ...  \n",
       "46282    16.1        Dato esatto  \n",
       "46283    11.8        Dato esatto  \n",
       "46284    15.1        Dato esatto  \n",
       "46285    17.4        Dato esatto  \n",
       "46286    15.2        Dato esatto  \n",
       "\n",
       "[730 rows x 6 columns]"
      ]
     },
     "execution_count": 27,
     "metadata": {},
     "output_type": "execute_result"
    }
   ],
   "source": [
    "filter=df[\"Data rilevazione\"].dt.year.isin([2023])\n",
    "roma_2023=df[filter]\n",
    "roma_2023"
   ]
  },
  {
   "cell_type": "code",
   "execution_count": 28,
   "metadata": {},
   "outputs": [],
   "source": [
    "roma_2023.insert(4,\"month\",\"\")\n",
    "roma_2023.insert(5,\"month name\",\"\")"
   ]
  },
  {
   "cell_type": "code",
   "execution_count": 29,
   "metadata": {},
   "outputs": [
    {
     "data": {
      "text/html": [
       "<div>\n",
       "<style scoped>\n",
       "    .dataframe tbody tr th:only-of-type {\n",
       "        vertical-align: middle;\n",
       "    }\n",
       "\n",
       "    .dataframe tbody tr th {\n",
       "        vertical-align: top;\n",
       "    }\n",
       "\n",
       "    .dataframe thead th {\n",
       "        text-align: right;\n",
       "    }\n",
       "</style>\n",
       "<table border=\"1\" class=\"dataframe\">\n",
       "  <thead>\n",
       "    <tr style=\"text-align: right;\">\n",
       "      <th></th>\n",
       "      <th>Stazione</th>\n",
       "      <th>Grandezza</th>\n",
       "      <th>Data rilevazione</th>\n",
       "      <th>year-month</th>\n",
       "      <th>month</th>\n",
       "      <th>month name</th>\n",
       "      <th>Valore</th>\n",
       "      <th>Indice di validità</th>\n",
       "    </tr>\n",
       "  </thead>\n",
       "  <tbody>\n",
       "    <tr>\n",
       "      <th>45557</th>\n",
       "      <td>FIUMICINO T. Lepre</td>\n",
       "      <td>TEMPARIA2M_MING</td>\n",
       "      <td>2023-01-01</td>\n",
       "      <td>2023-01</td>\n",
       "      <td>1</td>\n",
       "      <td>January</td>\n",
       "      <td>7.8</td>\n",
       "      <td>Dato esatto</td>\n",
       "    </tr>\n",
       "    <tr>\n",
       "      <th>45558</th>\n",
       "      <td>FIUMICINO T. Lepre</td>\n",
       "      <td>TEMPARIA2M_MING</td>\n",
       "      <td>2023-01-02</td>\n",
       "      <td>2023-01</td>\n",
       "      <td>1</td>\n",
       "      <td>January</td>\n",
       "      <td>9.5</td>\n",
       "      <td>Dato esatto</td>\n",
       "    </tr>\n",
       "    <tr>\n",
       "      <th>45559</th>\n",
       "      <td>FIUMICINO T. Lepre</td>\n",
       "      <td>TEMPARIA2M_MING</td>\n",
       "      <td>2023-01-03</td>\n",
       "      <td>2023-01</td>\n",
       "      <td>1</td>\n",
       "      <td>January</td>\n",
       "      <td>10.1</td>\n",
       "      <td>Dato esatto</td>\n",
       "    </tr>\n",
       "    <tr>\n",
       "      <th>45560</th>\n",
       "      <td>FIUMICINO T. Lepre</td>\n",
       "      <td>TEMPARIA2M_MING</td>\n",
       "      <td>2023-01-04</td>\n",
       "      <td>2023-01</td>\n",
       "      <td>1</td>\n",
       "      <td>January</td>\n",
       "      <td>7.7</td>\n",
       "      <td>Dato esatto</td>\n",
       "    </tr>\n",
       "    <tr>\n",
       "      <th>45561</th>\n",
       "      <td>FIUMICINO T. Lepre</td>\n",
       "      <td>TEMPARIA2M_MING</td>\n",
       "      <td>2023-01-05</td>\n",
       "      <td>2023-01</td>\n",
       "      <td>1</td>\n",
       "      <td>January</td>\n",
       "      <td>5.1</td>\n",
       "      <td>Dato esatto</td>\n",
       "    </tr>\n",
       "    <tr>\n",
       "      <th>...</th>\n",
       "      <td>...</td>\n",
       "      <td>...</td>\n",
       "      <td>...</td>\n",
       "      <td>...</td>\n",
       "      <td>...</td>\n",
       "      <td>...</td>\n",
       "      <td>...</td>\n",
       "      <td>...</td>\n",
       "    </tr>\n",
       "    <tr>\n",
       "      <th>46282</th>\n",
       "      <td>FIUMICINO T. Lepre</td>\n",
       "      <td>TEMPARIA2M_MAXG</td>\n",
       "      <td>2023-12-27</td>\n",
       "      <td>2023-12</td>\n",
       "      <td>12</td>\n",
       "      <td>December</td>\n",
       "      <td>16.1</td>\n",
       "      <td>Dato esatto</td>\n",
       "    </tr>\n",
       "    <tr>\n",
       "      <th>46283</th>\n",
       "      <td>FIUMICINO T. Lepre</td>\n",
       "      <td>TEMPARIA2M_MAXG</td>\n",
       "      <td>2023-12-28</td>\n",
       "      <td>2023-12</td>\n",
       "      <td>12</td>\n",
       "      <td>December</td>\n",
       "      <td>11.8</td>\n",
       "      <td>Dato esatto</td>\n",
       "    </tr>\n",
       "    <tr>\n",
       "      <th>46284</th>\n",
       "      <td>FIUMICINO T. Lepre</td>\n",
       "      <td>TEMPARIA2M_MAXG</td>\n",
       "      <td>2023-12-29</td>\n",
       "      <td>2023-12</td>\n",
       "      <td>12</td>\n",
       "      <td>December</td>\n",
       "      <td>15.1</td>\n",
       "      <td>Dato esatto</td>\n",
       "    </tr>\n",
       "    <tr>\n",
       "      <th>46285</th>\n",
       "      <td>FIUMICINO T. Lepre</td>\n",
       "      <td>TEMPARIA2M_MAXG</td>\n",
       "      <td>2023-12-30</td>\n",
       "      <td>2023-12</td>\n",
       "      <td>12</td>\n",
       "      <td>December</td>\n",
       "      <td>17.4</td>\n",
       "      <td>Dato esatto</td>\n",
       "    </tr>\n",
       "    <tr>\n",
       "      <th>46286</th>\n",
       "      <td>FIUMICINO T. Lepre</td>\n",
       "      <td>TEMPARIA2M_MAXG</td>\n",
       "      <td>2023-12-31</td>\n",
       "      <td>2023-12</td>\n",
       "      <td>12</td>\n",
       "      <td>December</td>\n",
       "      <td>15.2</td>\n",
       "      <td>Dato esatto</td>\n",
       "    </tr>\n",
       "  </tbody>\n",
       "</table>\n",
       "<p>730 rows × 8 columns</p>\n",
       "</div>"
      ],
      "text/plain": [
       "                 Stazione        Grandezza Data rilevazione year-month  month  \\\n",
       "45557  FIUMICINO T. Lepre  TEMPARIA2M_MING       2023-01-01    2023-01      1   \n",
       "45558  FIUMICINO T. Lepre  TEMPARIA2M_MING       2023-01-02    2023-01      1   \n",
       "45559  FIUMICINO T. Lepre  TEMPARIA2M_MING       2023-01-03    2023-01      1   \n",
       "45560  FIUMICINO T. Lepre  TEMPARIA2M_MING       2023-01-04    2023-01      1   \n",
       "45561  FIUMICINO T. Lepre  TEMPARIA2M_MING       2023-01-05    2023-01      1   \n",
       "...                   ...              ...              ...        ...    ...   \n",
       "46282  FIUMICINO T. Lepre  TEMPARIA2M_MAXG       2023-12-27    2023-12     12   \n",
       "46283  FIUMICINO T. Lepre  TEMPARIA2M_MAXG       2023-12-28    2023-12     12   \n",
       "46284  FIUMICINO T. Lepre  TEMPARIA2M_MAXG       2023-12-29    2023-12     12   \n",
       "46285  FIUMICINO T. Lepre  TEMPARIA2M_MAXG       2023-12-30    2023-12     12   \n",
       "46286  FIUMICINO T. Lepre  TEMPARIA2M_MAXG       2023-12-31    2023-12     12   \n",
       "\n",
       "      month name  Valore Indice di validità  \n",
       "45557    January     7.8        Dato esatto  \n",
       "45558    January     9.5        Dato esatto  \n",
       "45559    January    10.1        Dato esatto  \n",
       "45560    January     7.7        Dato esatto  \n",
       "45561    January     5.1        Dato esatto  \n",
       "...          ...     ...                ...  \n",
       "46282   December    16.1        Dato esatto  \n",
       "46283   December    11.8        Dato esatto  \n",
       "46284   December    15.1        Dato esatto  \n",
       "46285   December    17.4        Dato esatto  \n",
       "46286   December    15.2        Dato esatto  \n",
       "\n",
       "[730 rows x 8 columns]"
      ]
     },
     "execution_count": 29,
     "metadata": {},
     "output_type": "execute_result"
    }
   ],
   "source": [
    "roma_2023[\"month\"]=roma_2023[\"Data rilevazione\"].dt.month\n",
    "roma_2023[\"month name\"]=roma_2023[\"Data rilevazione\"].dt.month_name()\n",
    "roma_2023"
   ]
  },
  {
   "cell_type": "code",
   "execution_count": 30,
   "metadata": {},
   "outputs": [
    {
     "data": {
      "text/html": [
       "<div>\n",
       "<style scoped>\n",
       "    .dataframe tbody tr th:only-of-type {\n",
       "        vertical-align: middle;\n",
       "    }\n",
       "\n",
       "    .dataframe tbody tr th {\n",
       "        vertical-align: top;\n",
       "    }\n",
       "\n",
       "    .dataframe thead th {\n",
       "        text-align: right;\n",
       "    }\n",
       "</style>\n",
       "<table border=\"1\" class=\"dataframe\">\n",
       "  <thead>\n",
       "    <tr style=\"text-align: right;\">\n",
       "      <th></th>\n",
       "      <th>month</th>\n",
       "      <th>month name</th>\n",
       "      <th>min</th>\n",
       "      <th>max</th>\n",
       "    </tr>\n",
       "  </thead>\n",
       "  <tbody>\n",
       "    <tr>\n",
       "      <th>0</th>\n",
       "      <td>1</td>\n",
       "      <td>January</td>\n",
       "      <td>0.3</td>\n",
       "      <td>17.8</td>\n",
       "    </tr>\n",
       "    <tr>\n",
       "      <th>1</th>\n",
       "      <td>2</td>\n",
       "      <td>February</td>\n",
       "      <td>-0.5</td>\n",
       "      <td>17.5</td>\n",
       "    </tr>\n",
       "    <tr>\n",
       "      <th>2</th>\n",
       "      <td>3</td>\n",
       "      <td>March</td>\n",
       "      <td>2.3</td>\n",
       "      <td>23.5</td>\n",
       "    </tr>\n",
       "    <tr>\n",
       "      <th>3</th>\n",
       "      <td>4</td>\n",
       "      <td>April</td>\n",
       "      <td>1.8</td>\n",
       "      <td>23.1</td>\n",
       "    </tr>\n",
       "    <tr>\n",
       "      <th>4</th>\n",
       "      <td>5</td>\n",
       "      <td>May</td>\n",
       "      <td>9.8</td>\n",
       "      <td>30.0</td>\n",
       "    </tr>\n",
       "    <tr>\n",
       "      <th>5</th>\n",
       "      <td>6</td>\n",
       "      <td>June</td>\n",
       "      <td>14.6</td>\n",
       "      <td>35.0</td>\n",
       "    </tr>\n",
       "    <tr>\n",
       "      <th>6</th>\n",
       "      <td>7</td>\n",
       "      <td>July</td>\n",
       "      <td>17.5</td>\n",
       "      <td>40.3</td>\n",
       "    </tr>\n",
       "    <tr>\n",
       "      <th>7</th>\n",
       "      <td>8</td>\n",
       "      <td>August</td>\n",
       "      <td>14.7</td>\n",
       "      <td>39.6</td>\n",
       "    </tr>\n",
       "    <tr>\n",
       "      <th>8</th>\n",
       "      <td>9</td>\n",
       "      <td>September</td>\n",
       "      <td>14.0</td>\n",
       "      <td>34.8</td>\n",
       "    </tr>\n",
       "    <tr>\n",
       "      <th>9</th>\n",
       "      <td>10</td>\n",
       "      <td>October</td>\n",
       "      <td>12.4</td>\n",
       "      <td>33.4</td>\n",
       "    </tr>\n",
       "    <tr>\n",
       "      <th>10</th>\n",
       "      <td>11</td>\n",
       "      <td>November</td>\n",
       "      <td>-0.8</td>\n",
       "      <td>22.8</td>\n",
       "    </tr>\n",
       "    <tr>\n",
       "      <th>11</th>\n",
       "      <td>12</td>\n",
       "      <td>December</td>\n",
       "      <td>0.9</td>\n",
       "      <td>19.7</td>\n",
       "    </tr>\n",
       "  </tbody>\n",
       "</table>\n",
       "</div>"
      ],
      "text/plain": [
       "    month month name   min   max\n",
       "0       1    January   0.3  17.8\n",
       "1       2   February  -0.5  17.5\n",
       "2       3      March   2.3  23.5\n",
       "3       4      April   1.8  23.1\n",
       "4       5        May   9.8  30.0\n",
       "5       6       June  14.6  35.0\n",
       "6       7       July  17.5  40.3\n",
       "7       8     August  14.7  39.6\n",
       "8       9  September  14.0  34.8\n",
       "9      10    October  12.4  33.4\n",
       "10     11   November  -0.8  22.8\n",
       "11     12   December   0.9  19.7"
      ]
     },
     "execution_count": 30,
     "metadata": {},
     "output_type": "execute_result"
    }
   ],
   "source": [
    "roma_2023=roma_2023.groupby([\"month\",\"month name\"],as_index=False)[\"Valore\"].agg([\"min\",\"max\"])\n",
    "roma_2023"
   ]
  },
  {
   "cell_type": "code",
   "execution_count": 31,
   "metadata": {},
   "outputs": [
    {
     "data": {
      "application/vnd.plotly.v1+json": {
       "config": {
        "plotlyServerURL": "https://plot.ly"
       },
       "data": [
        {
         "hovertemplate": "<b>%{hovertext}</b><br><br>month name=%{x}<br>max=%{marker.color}<extra></extra>",
         "hovertext": [
          17.8,
          17.5,
          23.5,
          23.1,
          30,
          35,
          40.3,
          39.6,
          34.8,
          33.4,
          22.8,
          19.7
         ],
         "legendgroup": "",
         "marker": {
          "color": [
           17.8,
           17.5,
           23.5,
           23.1,
           30,
           35,
           40.3,
           39.6,
           34.8,
           33.4,
           22.8,
           19.7
          ],
          "coloraxis": "coloraxis",
          "size": [
           17.8,
           17.5,
           23.5,
           23.1,
           30,
           35,
           40.3,
           39.6,
           34.8,
           33.4,
           22.8,
           19.7
          ],
          "sizemode": "area",
          "sizeref": 0.011194444444444444,
          "symbol": "circle"
         },
         "mode": "markers",
         "name": "",
         "orientation": "v",
         "showlegend": false,
         "type": "scatter",
         "x": [
          "January",
          "February",
          "March",
          "April",
          "May",
          "June",
          "July",
          "August",
          "September",
          "October",
          "November",
          "December"
         ],
         "xaxis": "x",
         "y": [
          17.8,
          17.5,
          23.5,
          23.1,
          30,
          35,
          40.3,
          39.6,
          34.8,
          33.4,
          22.8,
          19.7
         ],
         "yaxis": "y"
        }
       ],
       "layout": {
        "coloraxis": {
         "colorbar": {
          "title": {
           "text": "max"
          }
         },
         "colorscale": [
          [
           0,
           "#0d0887"
          ],
          [
           0.1111111111111111,
           "#46039f"
          ],
          [
           0.2222222222222222,
           "#7201a8"
          ],
          [
           0.3333333333333333,
           "#9c179e"
          ],
          [
           0.4444444444444444,
           "#bd3786"
          ],
          [
           0.5555555555555556,
           "#d8576b"
          ],
          [
           0.6666666666666666,
           "#ed7953"
          ],
          [
           0.7777777777777778,
           "#fb9f3a"
          ],
          [
           0.8888888888888888,
           "#fdca26"
          ],
          [
           1,
           "#f0f921"
          ]
         ]
        },
        "legend": {
         "itemsizing": "constant",
         "tracegroupgap": 0
        },
        "template": {
         "data": {
          "bar": [
           {
            "error_x": {
             "color": "#2a3f5f"
            },
            "error_y": {
             "color": "#2a3f5f"
            },
            "marker": {
             "line": {
              "color": "#E5ECF6",
              "width": 0.5
             },
             "pattern": {
              "fillmode": "overlay",
              "size": 10,
              "solidity": 0.2
             }
            },
            "type": "bar"
           }
          ],
          "barpolar": [
           {
            "marker": {
             "line": {
              "color": "#E5ECF6",
              "width": 0.5
             },
             "pattern": {
              "fillmode": "overlay",
              "size": 10,
              "solidity": 0.2
             }
            },
            "type": "barpolar"
           }
          ],
          "carpet": [
           {
            "aaxis": {
             "endlinecolor": "#2a3f5f",
             "gridcolor": "white",
             "linecolor": "white",
             "minorgridcolor": "white",
             "startlinecolor": "#2a3f5f"
            },
            "baxis": {
             "endlinecolor": "#2a3f5f",
             "gridcolor": "white",
             "linecolor": "white",
             "minorgridcolor": "white",
             "startlinecolor": "#2a3f5f"
            },
            "type": "carpet"
           }
          ],
          "choropleth": [
           {
            "colorbar": {
             "outlinewidth": 0,
             "ticks": ""
            },
            "type": "choropleth"
           }
          ],
          "contour": [
           {
            "colorbar": {
             "outlinewidth": 0,
             "ticks": ""
            },
            "colorscale": [
             [
              0,
              "#0d0887"
             ],
             [
              0.1111111111111111,
              "#46039f"
             ],
             [
              0.2222222222222222,
              "#7201a8"
             ],
             [
              0.3333333333333333,
              "#9c179e"
             ],
             [
              0.4444444444444444,
              "#bd3786"
             ],
             [
              0.5555555555555556,
              "#d8576b"
             ],
             [
              0.6666666666666666,
              "#ed7953"
             ],
             [
              0.7777777777777778,
              "#fb9f3a"
             ],
             [
              0.8888888888888888,
              "#fdca26"
             ],
             [
              1,
              "#f0f921"
             ]
            ],
            "type": "contour"
           }
          ],
          "contourcarpet": [
           {
            "colorbar": {
             "outlinewidth": 0,
             "ticks": ""
            },
            "type": "contourcarpet"
           }
          ],
          "heatmap": [
           {
            "colorbar": {
             "outlinewidth": 0,
             "ticks": ""
            },
            "colorscale": [
             [
              0,
              "#0d0887"
             ],
             [
              0.1111111111111111,
              "#46039f"
             ],
             [
              0.2222222222222222,
              "#7201a8"
             ],
             [
              0.3333333333333333,
              "#9c179e"
             ],
             [
              0.4444444444444444,
              "#bd3786"
             ],
             [
              0.5555555555555556,
              "#d8576b"
             ],
             [
              0.6666666666666666,
              "#ed7953"
             ],
             [
              0.7777777777777778,
              "#fb9f3a"
             ],
             [
              0.8888888888888888,
              "#fdca26"
             ],
             [
              1,
              "#f0f921"
             ]
            ],
            "type": "heatmap"
           }
          ],
          "heatmapgl": [
           {
            "colorbar": {
             "outlinewidth": 0,
             "ticks": ""
            },
            "colorscale": [
             [
              0,
              "#0d0887"
             ],
             [
              0.1111111111111111,
              "#46039f"
             ],
             [
              0.2222222222222222,
              "#7201a8"
             ],
             [
              0.3333333333333333,
              "#9c179e"
             ],
             [
              0.4444444444444444,
              "#bd3786"
             ],
             [
              0.5555555555555556,
              "#d8576b"
             ],
             [
              0.6666666666666666,
              "#ed7953"
             ],
             [
              0.7777777777777778,
              "#fb9f3a"
             ],
             [
              0.8888888888888888,
              "#fdca26"
             ],
             [
              1,
              "#f0f921"
             ]
            ],
            "type": "heatmapgl"
           }
          ],
          "histogram": [
           {
            "marker": {
             "pattern": {
              "fillmode": "overlay",
              "size": 10,
              "solidity": 0.2
             }
            },
            "type": "histogram"
           }
          ],
          "histogram2d": [
           {
            "colorbar": {
             "outlinewidth": 0,
             "ticks": ""
            },
            "colorscale": [
             [
              0,
              "#0d0887"
             ],
             [
              0.1111111111111111,
              "#46039f"
             ],
             [
              0.2222222222222222,
              "#7201a8"
             ],
             [
              0.3333333333333333,
              "#9c179e"
             ],
             [
              0.4444444444444444,
              "#bd3786"
             ],
             [
              0.5555555555555556,
              "#d8576b"
             ],
             [
              0.6666666666666666,
              "#ed7953"
             ],
             [
              0.7777777777777778,
              "#fb9f3a"
             ],
             [
              0.8888888888888888,
              "#fdca26"
             ],
             [
              1,
              "#f0f921"
             ]
            ],
            "type": "histogram2d"
           }
          ],
          "histogram2dcontour": [
           {
            "colorbar": {
             "outlinewidth": 0,
             "ticks": ""
            },
            "colorscale": [
             [
              0,
              "#0d0887"
             ],
             [
              0.1111111111111111,
              "#46039f"
             ],
             [
              0.2222222222222222,
              "#7201a8"
             ],
             [
              0.3333333333333333,
              "#9c179e"
             ],
             [
              0.4444444444444444,
              "#bd3786"
             ],
             [
              0.5555555555555556,
              "#d8576b"
             ],
             [
              0.6666666666666666,
              "#ed7953"
             ],
             [
              0.7777777777777778,
              "#fb9f3a"
             ],
             [
              0.8888888888888888,
              "#fdca26"
             ],
             [
              1,
              "#f0f921"
             ]
            ],
            "type": "histogram2dcontour"
           }
          ],
          "mesh3d": [
           {
            "colorbar": {
             "outlinewidth": 0,
             "ticks": ""
            },
            "type": "mesh3d"
           }
          ],
          "parcoords": [
           {
            "line": {
             "colorbar": {
              "outlinewidth": 0,
              "ticks": ""
             }
            },
            "type": "parcoords"
           }
          ],
          "pie": [
           {
            "automargin": true,
            "type": "pie"
           }
          ],
          "scatter": [
           {
            "fillpattern": {
             "fillmode": "overlay",
             "size": 10,
             "solidity": 0.2
            },
            "type": "scatter"
           }
          ],
          "scatter3d": [
           {
            "line": {
             "colorbar": {
              "outlinewidth": 0,
              "ticks": ""
             }
            },
            "marker": {
             "colorbar": {
              "outlinewidth": 0,
              "ticks": ""
             }
            },
            "type": "scatter3d"
           }
          ],
          "scattercarpet": [
           {
            "marker": {
             "colorbar": {
              "outlinewidth": 0,
              "ticks": ""
             }
            },
            "type": "scattercarpet"
           }
          ],
          "scattergeo": [
           {
            "marker": {
             "colorbar": {
              "outlinewidth": 0,
              "ticks": ""
             }
            },
            "type": "scattergeo"
           }
          ],
          "scattergl": [
           {
            "marker": {
             "colorbar": {
              "outlinewidth": 0,
              "ticks": ""
             }
            },
            "type": "scattergl"
           }
          ],
          "scattermapbox": [
           {
            "marker": {
             "colorbar": {
              "outlinewidth": 0,
              "ticks": ""
             }
            },
            "type": "scattermapbox"
           }
          ],
          "scatterpolar": [
           {
            "marker": {
             "colorbar": {
              "outlinewidth": 0,
              "ticks": ""
             }
            },
            "type": "scatterpolar"
           }
          ],
          "scatterpolargl": [
           {
            "marker": {
             "colorbar": {
              "outlinewidth": 0,
              "ticks": ""
             }
            },
            "type": "scatterpolargl"
           }
          ],
          "scatterternary": [
           {
            "marker": {
             "colorbar": {
              "outlinewidth": 0,
              "ticks": ""
             }
            },
            "type": "scatterternary"
           }
          ],
          "surface": [
           {
            "colorbar": {
             "outlinewidth": 0,
             "ticks": ""
            },
            "colorscale": [
             [
              0,
              "#0d0887"
             ],
             [
              0.1111111111111111,
              "#46039f"
             ],
             [
              0.2222222222222222,
              "#7201a8"
             ],
             [
              0.3333333333333333,
              "#9c179e"
             ],
             [
              0.4444444444444444,
              "#bd3786"
             ],
             [
              0.5555555555555556,
              "#d8576b"
             ],
             [
              0.6666666666666666,
              "#ed7953"
             ],
             [
              0.7777777777777778,
              "#fb9f3a"
             ],
             [
              0.8888888888888888,
              "#fdca26"
             ],
             [
              1,
              "#f0f921"
             ]
            ],
            "type": "surface"
           }
          ],
          "table": [
           {
            "cells": {
             "fill": {
              "color": "#EBF0F8"
             },
             "line": {
              "color": "white"
             }
            },
            "header": {
             "fill": {
              "color": "#C8D4E3"
             },
             "line": {
              "color": "white"
             }
            },
            "type": "table"
           }
          ]
         },
         "layout": {
          "annotationdefaults": {
           "arrowcolor": "#2a3f5f",
           "arrowhead": 0,
           "arrowwidth": 1
          },
          "autotypenumbers": "strict",
          "coloraxis": {
           "colorbar": {
            "outlinewidth": 0,
            "ticks": ""
           }
          },
          "colorscale": {
           "diverging": [
            [
             0,
             "#8e0152"
            ],
            [
             0.1,
             "#c51b7d"
            ],
            [
             0.2,
             "#de77ae"
            ],
            [
             0.3,
             "#f1b6da"
            ],
            [
             0.4,
             "#fde0ef"
            ],
            [
             0.5,
             "#f7f7f7"
            ],
            [
             0.6,
             "#e6f5d0"
            ],
            [
             0.7,
             "#b8e186"
            ],
            [
             0.8,
             "#7fbc41"
            ],
            [
             0.9,
             "#4d9221"
            ],
            [
             1,
             "#276419"
            ]
           ],
           "sequential": [
            [
             0,
             "#0d0887"
            ],
            [
             0.1111111111111111,
             "#46039f"
            ],
            [
             0.2222222222222222,
             "#7201a8"
            ],
            [
             0.3333333333333333,
             "#9c179e"
            ],
            [
             0.4444444444444444,
             "#bd3786"
            ],
            [
             0.5555555555555556,
             "#d8576b"
            ],
            [
             0.6666666666666666,
             "#ed7953"
            ],
            [
             0.7777777777777778,
             "#fb9f3a"
            ],
            [
             0.8888888888888888,
             "#fdca26"
            ],
            [
             1,
             "#f0f921"
            ]
           ],
           "sequentialminus": [
            [
             0,
             "#0d0887"
            ],
            [
             0.1111111111111111,
             "#46039f"
            ],
            [
             0.2222222222222222,
             "#7201a8"
            ],
            [
             0.3333333333333333,
             "#9c179e"
            ],
            [
             0.4444444444444444,
             "#bd3786"
            ],
            [
             0.5555555555555556,
             "#d8576b"
            ],
            [
             0.6666666666666666,
             "#ed7953"
            ],
            [
             0.7777777777777778,
             "#fb9f3a"
            ],
            [
             0.8888888888888888,
             "#fdca26"
            ],
            [
             1,
             "#f0f921"
            ]
           ]
          },
          "colorway": [
           "#636efa",
           "#EF553B",
           "#00cc96",
           "#ab63fa",
           "#FFA15A",
           "#19d3f3",
           "#FF6692",
           "#B6E880",
           "#FF97FF",
           "#FECB52"
          ],
          "font": {
           "color": "#2a3f5f"
          },
          "geo": {
           "bgcolor": "white",
           "lakecolor": "white",
           "landcolor": "#E5ECF6",
           "showlakes": true,
           "showland": true,
           "subunitcolor": "white"
          },
          "hoverlabel": {
           "align": "left"
          },
          "hovermode": "closest",
          "mapbox": {
           "style": "light"
          },
          "paper_bgcolor": "white",
          "plot_bgcolor": "#E5ECF6",
          "polar": {
           "angularaxis": {
            "gridcolor": "white",
            "linecolor": "white",
            "ticks": ""
           },
           "bgcolor": "#E5ECF6",
           "radialaxis": {
            "gridcolor": "white",
            "linecolor": "white",
            "ticks": ""
           }
          },
          "scene": {
           "xaxis": {
            "backgroundcolor": "#E5ECF6",
            "gridcolor": "white",
            "gridwidth": 2,
            "linecolor": "white",
            "showbackground": true,
            "ticks": "",
            "zerolinecolor": "white"
           },
           "yaxis": {
            "backgroundcolor": "#E5ECF6",
            "gridcolor": "white",
            "gridwidth": 2,
            "linecolor": "white",
            "showbackground": true,
            "ticks": "",
            "zerolinecolor": "white"
           },
           "zaxis": {
            "backgroundcolor": "#E5ECF6",
            "gridcolor": "white",
            "gridwidth": 2,
            "linecolor": "white",
            "showbackground": true,
            "ticks": "",
            "zerolinecolor": "white"
           }
          },
          "shapedefaults": {
           "line": {
            "color": "#2a3f5f"
           }
          },
          "ternary": {
           "aaxis": {
            "gridcolor": "white",
            "linecolor": "white",
            "ticks": ""
           },
           "baxis": {
            "gridcolor": "white",
            "linecolor": "white",
            "ticks": ""
           },
           "bgcolor": "#E5ECF6",
           "caxis": {
            "gridcolor": "white",
            "linecolor": "white",
            "ticks": ""
           }
          },
          "title": {
           "x": 0.05
          },
          "xaxis": {
           "automargin": true,
           "gridcolor": "white",
           "linecolor": "white",
           "ticks": "",
           "title": {
            "standoff": 15
           },
           "zerolinecolor": "white",
           "zerolinewidth": 2
          },
          "yaxis": {
           "automargin": true,
           "gridcolor": "white",
           "linecolor": "white",
           "ticks": "",
           "title": {
            "standoff": 15
           },
           "zerolinecolor": "white",
           "zerolinewidth": 2
          }
         }
        },
        "title": {
         "text": "Rome Max Temperature 2023"
        },
        "xaxis": {
         "anchor": "y",
         "domain": [
          0,
          1
         ],
         "title": {
          "text": ""
         }
        },
        "yaxis": {
         "anchor": "x",
         "domain": [
          0,
          1
         ],
         "title": {
          "text": "Temperature"
         }
        }
       }
      }
     },
     "metadata": {},
     "output_type": "display_data"
    }
   ],
   "source": [
    "fig = px.scatter(roma_2023, x=\"month name\", y=\"max\", size=\"max\", hover_name=\"max\", title='Rome Max Temperature 2023', size_max=60, color='max')\n",
    "fig.update_xaxes(title_text='')\n",
    "fig.update_yaxes(title_text='Temperature')\n",
    "fig.show()"
   ]
  },
  {
   "attachments": {
    "newplot.png": {
     "image/png": "[encoded data removed]"
    }
   },
   "cell_type": "markdown",
   "metadata": {},
   "source": [
    "![newplot.png](attachment:newplot.png)"
   ]
  },
  {
   "cell_type": "code",
   "execution_count": 32,
   "metadata": {},
   "outputs": [
    {
     "data": {
      "image/png": "[encoded data removed]",
      "text/plain": [
       "<Figure size 1800x600 with 1 Axes>"
      ]
     },
     "metadata": {},
     "output_type": "display_data"
    }
   ],
   "source": [
    "plt.figure(figsize=(18,6))\n",
    "sns.pointplot(data=roma_2023, x=\"month name\", y=\"min\",label=\"Min\")\n",
    "sns.pointplot(data=roma_2023, x=\"month name\", y=\"max\",label=\"Max\",color=\"r\")\n",
    "plt.xticks(rotation=0)\n",
    "plt.ylabel(\"Temperature\")\n",
    "plt.xlabel(\"Month\")\n",
    "plt.title(\"Evolution of Temperature - Rome 2023\")\n",
    "plt.grid()\n",
    "plt.show()"
   ]
  },
  {
   "cell_type": "code",
   "execution_count": 33,
   "metadata": {},
   "outputs": [
    {
     "data": {
      "image/png": "[encoded data removed]",
      "text/plain": [
       "<Figure size 1000x600 with 1 Axes>"
      ]
     },
     "metadata": {},
     "output_type": "display_data"
    }
   ],
   "source": [
    "plt.figure(figsize=(10,6))\n",
    "ax=sns.barplot(x=\"month name\",y=\"max\",data=roma_2023,color=\"red\",label=\"Max\")\n",
    "for bars in ax.containers:\n",
    "    ax.bar_label(bars)\n",
    "ax1=sns.barplot(x=\"month name\",y=\"min\",data=roma_2023,color=\"blue\",label=\"Min\")\n",
    "for bars in ax1.containers:\n",
    "    ax1.bar_label(bars)\n",
    "plt.title(\"Evolution of Temperature - Rome 2023\")\n",
    "plt.xlabel(\"\",fontsize=12)\n",
    "plt.ylabel(\"\",fontsize=12)\n",
    "plt.xticks(rotation=0,size=9)\n",
    "plt.show()"
   ]
  },
  {
   "cell_type": "code",
   "execution_count": 34,
   "metadata": {},
   "outputs": [
    {
     "data": {
      "image/png": "[encoded data removed]",
      "text/plain": [
       "<Figure size 1000x600 with 1 Axes>"
      ]
     },
     "metadata": {},
     "output_type": "display_data"
    }
   ],
   "source": [
    "plt.figure(figsize=(10,6))\n",
    "ax=sns.barplot(x=\"month name\",y=\"max\",data=roma_2023,color=\"red\")\n",
    "for bars in ax.containers:\n",
    "    ax.bar_label(bars)\n",
    "plt.title(\"Evolution of Max Temperature - Rome 2023\")\n",
    "plt.xlabel(\"\",fontsize=12)\n",
    "plt.ylabel(\"\",fontsize=12)\n",
    "plt.xticks(rotation=0,size=9)\n",
    "plt.show()"
   ]
  }
 ],
 "metadata": {
  "kernelspec": {
   "display_name": "Python 3",
   "language": "python",
   "name": "python3"
  },
  "language_info": {
   "codemirror_mode": {
    "name": "ipython",
    "version": 3
   },
   "file_extension": ".py",
   "mimetype": "text/x-python",
   "name": "python",
   "nbconvert_exporter": "python",
   "pygments_lexer": "ipython3",
   "version": "3.11.8"
  }
 },
 "nbformat": 4,
 "nbformat_minor": 2
}
